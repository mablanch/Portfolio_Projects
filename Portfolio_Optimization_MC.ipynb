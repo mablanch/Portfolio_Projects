{
 "cells": [
  {
   "cell_type": "markdown",
   "id": "53b9dfe9-7aa7-4f64-b438-8baa416e3492",
   "metadata": {},
   "source": [
    "# <center> Portfolio Optimization with Monte Carlo Simulations"
   ]
  },
  {
   "cell_type": "markdown",
   "id": "337a80a5-7f11-4836-b1d5-540fde6f4b8d",
   "metadata": {},
   "source": [
    "## The Efficient Frontier"
   ]
  },
  {
   "cell_type": "markdown",
   "id": "79d68eea-adf0-4098-b039-3c8ec07d647c",
   "metadata": {},
   "source": [
    "The Efficient Frontier can be thought of as a representation of the set of optimal portfolios which offer the highest expected return for an investor's specified risk level. The Efficient frontier has become a staple of Modern Portfolio Theory since its introduction by Harry Markowtiz in 1952 and is graphically visualized by the compound annual growth rate of an investment portfolio representing the expected returns on the y-axis with the portfolio's risk level, also called the volatility represented by the portfolio's standard deviation, on the x-axis. \n",
    "\n",
    "Modern Portfolio Theory is a framework for assembling portfolios so the expected return is maximized for a given level of risk. \n",
    "\n",
    "The Efficient Frontier serves as a reminder that returns of a portfolio are determined by the overall weighting of its indvidual assets and when visualized the efficient frontier shows how diversification can improve an investor's risk to return ratio while showing there can be diminishing returns with respect to risk. The efficient frontier thus shows that there is an optimal portfolio for the investor based on their desired risk level to maximize their returns and serves to remind that higher degrees of risk do not necessarily indicate a higher return on the investment. \n",
    "\n",
    "Optimal portfolios tend to favor diversification while balancing an investors risk to return, and the Efficient Frontier shows that an individual asset's risk and return should not be evaluated alone but rather with how it contributes to the investor's overall portfolio return. "
   ]
  },
  {
   "cell_type": "markdown",
   "id": "a2018b1a-aecf-4eb8-aa42-a33e9ae56f43",
   "metadata": {},
   "source": [
    "<img src=\"https://upload.wikimedia.org/wikipedia/commons/e/e1/Markowitz_frontier.jpg\" width=400 height=400 />\n",
    "\n",
    "Source: https://upload.wikimedia.org/wikipedia/commons/e/e1/Markowitz_frontier.jpg"
   ]
  },
  {
   "cell_type": "markdown",
   "id": "d6449a0c-02ac-4ab7-9a12-e98ed23e3e24",
   "metadata": {},
   "source": [
    "# One Portfolio with Randomly assigned weights "
   ]
  },
  {
   "cell_type": "markdown",
   "id": "224e3d73-726c-4d23-ac2d-85a87cbe2564",
   "metadata": {},
   "source": [
    "Before we proceed to do thousands of Monte Carlo simulations lets walk through a single run where the portfolio weights are randomly assigned to our three chosen assets for this analysis: Bitcoin, Ethereum, and SPY. The first bitcoin was transferred on January,12th 2009 with Hal Finney receiving ten bitcoins from Satoshi Nakamoto and was the original Cryptocurrency. The Ethereum network is the second cryptocurrency in market cap and did not go live until July, 30th 2015. We will only analyze the historical data for time periods after August,6th 2015 since Yahoo finance's historical data for Ethereum does not go back any further than this. \n",
    "\n",
    "SPY is an ETF the seeks to match the S&P 500 index, with the portfolio's holdings of common stocks in the S&P 500 index being weighted to represent the index as a whole. The goal is to match the performance of the S&P 500 index as a whole. \n",
    "\n",
    "These assets were chosen to see how the index fund approach towards investing combined with the two top cryptocurrency assets would perform as the whole of an individual investor's portfolio. "
   ]
  },
  {
   "cell_type": "markdown",
   "id": "7f53421a-abf9-469a-b6ef-4f6300f28a7c",
   "metadata": {},
   "source": [
    "### Obtaining the Historical Price Data"
   ]
  },
  {
   "cell_type": "code",
   "execution_count": 1,
   "id": "04575967-b1f9-4a96-a08a-e1857cda39b0",
   "metadata": {},
   "outputs": [
    {
     "name": "stdout",
     "output_type": "stream",
     "text": [
      "[*********************100%***********************]  1 of 1 completed\n",
      "[*********************100%***********************]  1 of 1 completed\n",
      "[*********************100%***********************]  1 of 1 completed\n"
     ]
    }
   ],
   "source": [
    "import pandas as pd\n",
    "import numpy as np\n",
    "import pandas_datareader.data as pdr #collects data\n",
    "import datetime as dt\n",
    "np.random.seed(42)\n",
    "\n",
    "#yf needed to override pdr remote error\n",
    "import yfinance as yf\n",
    "yf.pdr_override()\n",
    "\n",
    "#specify start and end dates start 2015-08-06 : 2021-11-01 (YYYY-MM-DD)\n",
    "start = dt.datetime(2015,8,6)\n",
    "end = dt.datetime(2021,11,1)\n",
    "\n",
    "#grab the data for each asset\n",
    "eth = pdr.get_data_yahoo(\"ETH-USD\", start, end)\n",
    "bitcoin = pdr.get_data_yahoo(\"BTC-USD\", start, end)\n",
    "spy = pdr.get_data_yahoo(\"SPY\", start, end)\n",
    "\n"
   ]
  },
  {
   "cell_type": "markdown",
   "id": "bd3a001b-5074-44bd-9df7-6ece13ffd6ee",
   "metadata": {
    "tags": []
   },
   "source": [
    "Lets proceed to take a look at the format we recieved the data in from Yahoo finance below: "
   ]
  },
  {
   "cell_type": "code",
   "execution_count": 2,
   "id": "dfeb4cee-0b9c-4f57-8661-ed3fdc2c8518",
   "metadata": {},
   "outputs": [
    {
     "data": {
      "text/html": [
       "<div>\n",
       "<style scoped>\n",
       "    .dataframe tbody tr th:only-of-type {\n",
       "        vertical-align: middle;\n",
       "    }\n",
       "\n",
       "    .dataframe tbody tr th {\n",
       "        vertical-align: top;\n",
       "    }\n",
       "\n",
       "    .dataframe thead th {\n",
       "        text-align: right;\n",
       "    }\n",
       "</style>\n",
       "<table border=\"1\" class=\"dataframe\">\n",
       "  <thead>\n",
       "    <tr style=\"text-align: right;\">\n",
       "      <th></th>\n",
       "      <th>Open</th>\n",
       "      <th>High</th>\n",
       "      <th>Low</th>\n",
       "      <th>Close</th>\n",
       "      <th>Adj Close</th>\n",
       "      <th>Volume</th>\n",
       "    </tr>\n",
       "    <tr>\n",
       "      <th>Date</th>\n",
       "      <th></th>\n",
       "      <th></th>\n",
       "      <th></th>\n",
       "      <th></th>\n",
       "      <th></th>\n",
       "      <th></th>\n",
       "    </tr>\n",
       "  </thead>\n",
       "  <tbody>\n",
       "    <tr>\n",
       "      <th>2015-08-06</th>\n",
       "      <td>281.906006</td>\n",
       "      <td>281.906006</td>\n",
       "      <td>278.403015</td>\n",
       "      <td>278.576996</td>\n",
       "      <td>278.576996</td>\n",
       "      <td>18792100</td>\n",
       "    </tr>\n",
       "    <tr>\n",
       "      <th>2015-08-07</th>\n",
       "      <td>278.740997</td>\n",
       "      <td>280.391998</td>\n",
       "      <td>276.365997</td>\n",
       "      <td>279.584991</td>\n",
       "      <td>279.584991</td>\n",
       "      <td>42484800</td>\n",
       "    </tr>\n",
       "    <tr>\n",
       "      <th>2015-08-08</th>\n",
       "      <td>279.742004</td>\n",
       "      <td>279.928009</td>\n",
       "      <td>260.709991</td>\n",
       "      <td>260.997009</td>\n",
       "      <td>260.997009</td>\n",
       "      <td>58533000</td>\n",
       "    </tr>\n",
       "    <tr>\n",
       "      <th>2015-08-09</th>\n",
       "      <td>261.115997</td>\n",
       "      <td>267.002991</td>\n",
       "      <td>260.467987</td>\n",
       "      <td>265.083008</td>\n",
       "      <td>265.083008</td>\n",
       "      <td>23789600</td>\n",
       "    </tr>\n",
       "    <tr>\n",
       "      <th>2015-08-10</th>\n",
       "      <td>265.477997</td>\n",
       "      <td>267.032013</td>\n",
       "      <td>262.596008</td>\n",
       "      <td>264.470001</td>\n",
       "      <td>264.470001</td>\n",
       "      <td>20979400</td>\n",
       "    </tr>\n",
       "    <tr>\n",
       "      <th>...</th>\n",
       "      <td>...</td>\n",
       "      <td>...</td>\n",
       "      <td>...</td>\n",
       "      <td>...</td>\n",
       "      <td>...</td>\n",
       "      <td>...</td>\n",
       "    </tr>\n",
       "    <tr>\n",
       "      <th>2021-10-28</th>\n",
       "      <td>58470.730469</td>\n",
       "      <td>62128.632812</td>\n",
       "      <td>58206.917969</td>\n",
       "      <td>60622.136719</td>\n",
       "      <td>60622.136719</td>\n",
       "      <td>45257083247</td>\n",
       "    </tr>\n",
       "    <tr>\n",
       "      <th>2021-10-29</th>\n",
       "      <td>60624.871094</td>\n",
       "      <td>62927.609375</td>\n",
       "      <td>60329.964844</td>\n",
       "      <td>62227.964844</td>\n",
       "      <td>62227.964844</td>\n",
       "      <td>36856881767</td>\n",
       "    </tr>\n",
       "    <tr>\n",
       "      <th>2021-10-30</th>\n",
       "      <td>62239.363281</td>\n",
       "      <td>62330.144531</td>\n",
       "      <td>60918.386719</td>\n",
       "      <td>61888.832031</td>\n",
       "      <td>61888.832031</td>\n",
       "      <td>32157938616</td>\n",
       "    </tr>\n",
       "    <tr>\n",
       "      <th>2021-10-31</th>\n",
       "      <td>61850.488281</td>\n",
       "      <td>62406.171875</td>\n",
       "      <td>60074.328125</td>\n",
       "      <td>61318.957031</td>\n",
       "      <td>61318.957031</td>\n",
       "      <td>32241199927</td>\n",
       "    </tr>\n",
       "    <tr>\n",
       "      <th>2021-11-01</th>\n",
       "      <td>61320.449219</td>\n",
       "      <td>62419.003906</td>\n",
       "      <td>59695.183594</td>\n",
       "      <td>61004.406250</td>\n",
       "      <td>61004.406250</td>\n",
       "      <td>36150572843</td>\n",
       "    </tr>\n",
       "  </tbody>\n",
       "</table>\n",
       "<p>2280 rows × 6 columns</p>\n",
       "</div>"
      ],
      "text/plain": [
       "                    Open          High           Low         Close  \\\n",
       "Date                                                                 \n",
       "2015-08-06    281.906006    281.906006    278.403015    278.576996   \n",
       "2015-08-07    278.740997    280.391998    276.365997    279.584991   \n",
       "2015-08-08    279.742004    279.928009    260.709991    260.997009   \n",
       "2015-08-09    261.115997    267.002991    260.467987    265.083008   \n",
       "2015-08-10    265.477997    267.032013    262.596008    264.470001   \n",
       "...                  ...           ...           ...           ...   \n",
       "2021-10-28  58470.730469  62128.632812  58206.917969  60622.136719   \n",
       "2021-10-29  60624.871094  62927.609375  60329.964844  62227.964844   \n",
       "2021-10-30  62239.363281  62330.144531  60918.386719  61888.832031   \n",
       "2021-10-31  61850.488281  62406.171875  60074.328125  61318.957031   \n",
       "2021-11-01  61320.449219  62419.003906  59695.183594  61004.406250   \n",
       "\n",
       "               Adj Close       Volume  \n",
       "Date                                   \n",
       "2015-08-06    278.576996     18792100  \n",
       "2015-08-07    279.584991     42484800  \n",
       "2015-08-08    260.997009     58533000  \n",
       "2015-08-09    265.083008     23789600  \n",
       "2015-08-10    264.470001     20979400  \n",
       "...                  ...          ...  \n",
       "2021-10-28  60622.136719  45257083247  \n",
       "2021-10-29  62227.964844  36856881767  \n",
       "2021-10-30  61888.832031  32157938616  \n",
       "2021-10-31  61318.957031  32241199927  \n",
       "2021-11-01  61004.406250  36150572843  \n",
       "\n",
       "[2280 rows x 6 columns]"
      ]
     },
     "execution_count": 2,
     "metadata": {},
     "output_type": "execute_result"
    }
   ],
   "source": [
    "bitcoin"
   ]
  },
  {
   "cell_type": "code",
   "execution_count": 3,
   "id": "b7ec7412-c2a9-4928-a1ef-a396d464f3d7",
   "metadata": {},
   "outputs": [
    {
     "data": {
      "text/html": [
       "<div>\n",
       "<style scoped>\n",
       "    .dataframe tbody tr th:only-of-type {\n",
       "        vertical-align: middle;\n",
       "    }\n",
       "\n",
       "    .dataframe tbody tr th {\n",
       "        vertical-align: top;\n",
       "    }\n",
       "\n",
       "    .dataframe thead th {\n",
       "        text-align: right;\n",
       "    }\n",
       "</style>\n",
       "<table border=\"1\" class=\"dataframe\">\n",
       "  <thead>\n",
       "    <tr style=\"text-align: right;\">\n",
       "      <th></th>\n",
       "      <th>Open</th>\n",
       "      <th>High</th>\n",
       "      <th>Low</th>\n",
       "      <th>Close</th>\n",
       "      <th>Adj Close</th>\n",
       "      <th>Volume</th>\n",
       "    </tr>\n",
       "    <tr>\n",
       "      <th>Date</th>\n",
       "      <th></th>\n",
       "      <th></th>\n",
       "      <th></th>\n",
       "      <th></th>\n",
       "      <th></th>\n",
       "      <th></th>\n",
       "    </tr>\n",
       "  </thead>\n",
       "  <tbody>\n",
       "    <tr>\n",
       "      <th>2017-11-09</th>\n",
       "      <td>308.644989</td>\n",
       "      <td>329.451996</td>\n",
       "      <td>307.056000</td>\n",
       "      <td>320.884003</td>\n",
       "      <td>320.884003</td>\n",
       "      <td>893249984</td>\n",
       "    </tr>\n",
       "    <tr>\n",
       "      <th>2017-11-10</th>\n",
       "      <td>320.670990</td>\n",
       "      <td>324.717987</td>\n",
       "      <td>294.541992</td>\n",
       "      <td>299.252991</td>\n",
       "      <td>299.252991</td>\n",
       "      <td>885985984</td>\n",
       "    </tr>\n",
       "    <tr>\n",
       "      <th>2017-11-11</th>\n",
       "      <td>298.585999</td>\n",
       "      <td>319.453003</td>\n",
       "      <td>298.191986</td>\n",
       "      <td>314.681000</td>\n",
       "      <td>314.681000</td>\n",
       "      <td>842300992</td>\n",
       "    </tr>\n",
       "    <tr>\n",
       "      <th>2017-11-12</th>\n",
       "      <td>314.690002</td>\n",
       "      <td>319.153015</td>\n",
       "      <td>298.513000</td>\n",
       "      <td>307.907990</td>\n",
       "      <td>307.907990</td>\n",
       "      <td>1613479936</td>\n",
       "    </tr>\n",
       "    <tr>\n",
       "      <th>2017-11-13</th>\n",
       "      <td>307.024994</td>\n",
       "      <td>328.415009</td>\n",
       "      <td>307.024994</td>\n",
       "      <td>316.716003</td>\n",
       "      <td>316.716003</td>\n",
       "      <td>1041889984</td>\n",
       "    </tr>\n",
       "    <tr>\n",
       "      <th>...</th>\n",
       "      <td>...</td>\n",
       "      <td>...</td>\n",
       "      <td>...</td>\n",
       "      <td>...</td>\n",
       "      <td>...</td>\n",
       "      <td>...</td>\n",
       "    </tr>\n",
       "    <tr>\n",
       "      <th>2021-10-28</th>\n",
       "      <td>3924.815430</td>\n",
       "      <td>4293.150879</td>\n",
       "      <td>3905.706055</td>\n",
       "      <td>4287.318848</td>\n",
       "      <td>4287.318848</td>\n",
       "      <td>25958154575</td>\n",
       "    </tr>\n",
       "    <tr>\n",
       "      <th>2021-10-29</th>\n",
       "      <td>4288.686523</td>\n",
       "      <td>4455.735352</td>\n",
       "      <td>4271.707520</td>\n",
       "      <td>4414.746582</td>\n",
       "      <td>4414.746582</td>\n",
       "      <td>22967641914</td>\n",
       "    </tr>\n",
       "    <tr>\n",
       "      <th>2021-10-30</th>\n",
       "      <td>4414.243652</td>\n",
       "      <td>4426.848633</td>\n",
       "      <td>4252.494141</td>\n",
       "      <td>4325.650391</td>\n",
       "      <td>4325.650391</td>\n",
       "      <td>14615490626</td>\n",
       "    </tr>\n",
       "    <tr>\n",
       "      <th>2021-10-31</th>\n",
       "      <td>4322.744141</td>\n",
       "      <td>4394.449707</td>\n",
       "      <td>4179.016113</td>\n",
       "      <td>4288.074219</td>\n",
       "      <td>4288.074219</td>\n",
       "      <td>17498160238</td>\n",
       "    </tr>\n",
       "    <tr>\n",
       "      <th>2021-11-01</th>\n",
       "      <td>4288.217285</td>\n",
       "      <td>4377.322266</td>\n",
       "      <td>4160.966797</td>\n",
       "      <td>4324.626953</td>\n",
       "      <td>4324.626953</td>\n",
       "      <td>17985288261</td>\n",
       "    </tr>\n",
       "  </tbody>\n",
       "</table>\n",
       "<p>1454 rows × 6 columns</p>\n",
       "</div>"
      ],
      "text/plain": [
       "                   Open         High          Low        Close    Adj Close  \\\n",
       "Date                                                                          \n",
       "2017-11-09   308.644989   329.451996   307.056000   320.884003   320.884003   \n",
       "2017-11-10   320.670990   324.717987   294.541992   299.252991   299.252991   \n",
       "2017-11-11   298.585999   319.453003   298.191986   314.681000   314.681000   \n",
       "2017-11-12   314.690002   319.153015   298.513000   307.907990   307.907990   \n",
       "2017-11-13   307.024994   328.415009   307.024994   316.716003   316.716003   \n",
       "...                 ...          ...          ...          ...          ...   \n",
       "2021-10-28  3924.815430  4293.150879  3905.706055  4287.318848  4287.318848   \n",
       "2021-10-29  4288.686523  4455.735352  4271.707520  4414.746582  4414.746582   \n",
       "2021-10-30  4414.243652  4426.848633  4252.494141  4325.650391  4325.650391   \n",
       "2021-10-31  4322.744141  4394.449707  4179.016113  4288.074219  4288.074219   \n",
       "2021-11-01  4288.217285  4377.322266  4160.966797  4324.626953  4324.626953   \n",
       "\n",
       "                 Volume  \n",
       "Date                     \n",
       "2017-11-09    893249984  \n",
       "2017-11-10    885985984  \n",
       "2017-11-11    842300992  \n",
       "2017-11-12   1613479936  \n",
       "2017-11-13   1041889984  \n",
       "...                 ...  \n",
       "2021-10-28  25958154575  \n",
       "2021-10-29  22967641914  \n",
       "2021-10-30  14615490626  \n",
       "2021-10-31  17498160238  \n",
       "2021-11-01  17985288261  \n",
       "\n",
       "[1454 rows x 6 columns]"
      ]
     },
     "execution_count": 3,
     "metadata": {},
     "output_type": "execute_result"
    }
   ],
   "source": [
    "eth"
   ]
  },
  {
   "cell_type": "code",
   "execution_count": 4,
   "id": "7a1b3f94-ba78-42ea-a5fe-1c2c2150fc74",
   "metadata": {},
   "outputs": [
    {
     "data": {
      "text/html": [
       "<div>\n",
       "<style scoped>\n",
       "    .dataframe tbody tr th:only-of-type {\n",
       "        vertical-align: middle;\n",
       "    }\n",
       "\n",
       "    .dataframe tbody tr th {\n",
       "        vertical-align: top;\n",
       "    }\n",
       "\n",
       "    .dataframe thead th {\n",
       "        text-align: right;\n",
       "    }\n",
       "</style>\n",
       "<table border=\"1\" class=\"dataframe\">\n",
       "  <thead>\n",
       "    <tr style=\"text-align: right;\">\n",
       "      <th></th>\n",
       "      <th>Open</th>\n",
       "      <th>High</th>\n",
       "      <th>Low</th>\n",
       "      <th>Close</th>\n",
       "      <th>Adj Close</th>\n",
       "      <th>Volume</th>\n",
       "    </tr>\n",
       "    <tr>\n",
       "      <th>Date</th>\n",
       "      <th></th>\n",
       "      <th></th>\n",
       "      <th></th>\n",
       "      <th></th>\n",
       "      <th></th>\n",
       "      <th></th>\n",
       "    </tr>\n",
       "  </thead>\n",
       "  <tbody>\n",
       "    <tr>\n",
       "      <th>2015-08-06</th>\n",
       "      <td>210.289993</td>\n",
       "      <td>210.419998</td>\n",
       "      <td>207.649994</td>\n",
       "      <td>208.350006</td>\n",
       "      <td>184.616196</td>\n",
       "      <td>116030800</td>\n",
       "    </tr>\n",
       "    <tr>\n",
       "      <th>2015-08-07</th>\n",
       "      <td>208.160004</td>\n",
       "      <td>208.339996</td>\n",
       "      <td>206.869995</td>\n",
       "      <td>207.949997</td>\n",
       "      <td>184.261780</td>\n",
       "      <td>117858000</td>\n",
       "    </tr>\n",
       "    <tr>\n",
       "      <th>2015-08-10</th>\n",
       "      <td>209.279999</td>\n",
       "      <td>210.669998</td>\n",
       "      <td>209.279999</td>\n",
       "      <td>210.570007</td>\n",
       "      <td>186.583298</td>\n",
       "      <td>80270700</td>\n",
       "    </tr>\n",
       "    <tr>\n",
       "      <th>2015-08-11</th>\n",
       "      <td>208.970001</td>\n",
       "      <td>209.470001</td>\n",
       "      <td>207.759995</td>\n",
       "      <td>208.669998</td>\n",
       "      <td>184.899719</td>\n",
       "      <td>126081400</td>\n",
       "    </tr>\n",
       "    <tr>\n",
       "      <th>2015-08-12</th>\n",
       "      <td>207.110001</td>\n",
       "      <td>209.139999</td>\n",
       "      <td>205.360001</td>\n",
       "      <td>208.919998</td>\n",
       "      <td>185.121262</td>\n",
       "      <td>172123700</td>\n",
       "    </tr>\n",
       "    <tr>\n",
       "      <th>...</th>\n",
       "      <td>...</td>\n",
       "      <td>...</td>\n",
       "      <td>...</td>\n",
       "      <td>...</td>\n",
       "      <td>...</td>\n",
       "      <td>...</td>\n",
       "    </tr>\n",
       "    <tr>\n",
       "      <th>2021-10-25</th>\n",
       "      <td>454.279999</td>\n",
       "      <td>455.899994</td>\n",
       "      <td>452.390015</td>\n",
       "      <td>455.549988</td>\n",
       "      <td>453.955139</td>\n",
       "      <td>45214500</td>\n",
       "    </tr>\n",
       "    <tr>\n",
       "      <th>2021-10-26</th>\n",
       "      <td>457.200012</td>\n",
       "      <td>458.489990</td>\n",
       "      <td>455.559998</td>\n",
       "      <td>455.959991</td>\n",
       "      <td>454.363708</td>\n",
       "      <td>56075100</td>\n",
       "    </tr>\n",
       "    <tr>\n",
       "      <th>2021-10-27</th>\n",
       "      <td>456.450012</td>\n",
       "      <td>457.160004</td>\n",
       "      <td>453.859985</td>\n",
       "      <td>453.940002</td>\n",
       "      <td>452.350800</td>\n",
       "      <td>72438000</td>\n",
       "    </tr>\n",
       "    <tr>\n",
       "      <th>2021-10-28</th>\n",
       "      <td>455.459991</td>\n",
       "      <td>458.399994</td>\n",
       "      <td>455.450012</td>\n",
       "      <td>458.320007</td>\n",
       "      <td>456.715454</td>\n",
       "      <td>51437900</td>\n",
       "    </tr>\n",
       "    <tr>\n",
       "      <th>2021-10-29</th>\n",
       "      <td>455.869995</td>\n",
       "      <td>459.559998</td>\n",
       "      <td>455.559998</td>\n",
       "      <td>459.250000</td>\n",
       "      <td>457.642181</td>\n",
       "      <td>70108200</td>\n",
       "    </tr>\n",
       "  </tbody>\n",
       "</table>\n",
       "<p>1571 rows × 6 columns</p>\n",
       "</div>"
      ],
      "text/plain": [
       "                  Open        High         Low       Close   Adj Close  \\\n",
       "Date                                                                     \n",
       "2015-08-06  210.289993  210.419998  207.649994  208.350006  184.616196   \n",
       "2015-08-07  208.160004  208.339996  206.869995  207.949997  184.261780   \n",
       "2015-08-10  209.279999  210.669998  209.279999  210.570007  186.583298   \n",
       "2015-08-11  208.970001  209.470001  207.759995  208.669998  184.899719   \n",
       "2015-08-12  207.110001  209.139999  205.360001  208.919998  185.121262   \n",
       "...                ...         ...         ...         ...         ...   \n",
       "2021-10-25  454.279999  455.899994  452.390015  455.549988  453.955139   \n",
       "2021-10-26  457.200012  458.489990  455.559998  455.959991  454.363708   \n",
       "2021-10-27  456.450012  457.160004  453.859985  453.940002  452.350800   \n",
       "2021-10-28  455.459991  458.399994  455.450012  458.320007  456.715454   \n",
       "2021-10-29  455.869995  459.559998  455.559998  459.250000  457.642181   \n",
       "\n",
       "               Volume  \n",
       "Date                   \n",
       "2015-08-06  116030800  \n",
       "2015-08-07  117858000  \n",
       "2015-08-10   80270700  \n",
       "2015-08-11  126081400  \n",
       "2015-08-12  172123700  \n",
       "...               ...  \n",
       "2021-10-25   45214500  \n",
       "2021-10-26   56075100  \n",
       "2021-10-27   72438000  \n",
       "2021-10-28   51437900  \n",
       "2021-10-29   70108200  \n",
       "\n",
       "[1571 rows x 6 columns]"
      ]
     },
     "execution_count": 4,
     "metadata": {},
     "output_type": "execute_result"
    }
   ],
   "source": [
    "spy"
   ]
  },
  {
   "cell_type": "markdown",
   "id": "88f7e972-7c4b-4a5f-a300-ef6d00f92d23",
   "metadata": {},
   "source": [
    "We can already see an issue with comparing cryptocurrency assets with regular securities, cryptocurrencies are traded 24/7 all year long and regular securites are not. This seen in the two dataframes above, both cryptocurrencies have 2,276 rows of daily data for our time period from 2015-08-06 : 2021-11-01 whereas the SPY dataframe only has 1,571 rows worth of daily data. To simplify the analyses we are going to merge the three tables with an inner join on the dates shared so we only keep the dates that are common to each dataframe while only keeping the daily adjusted close column to perform analysis with, the others can be discarded. "
   ]
  },
  {
   "cell_type": "code",
   "execution_count": 5,
   "id": "61f4d487-9165-4a24-9cf2-c4979be3bb37",
   "metadata": {},
   "outputs": [
    {
     "data": {
      "text/html": [
       "<div>\n",
       "<style scoped>\n",
       "    .dataframe tbody tr th:only-of-type {\n",
       "        vertical-align: middle;\n",
       "    }\n",
       "\n",
       "    .dataframe tbody tr th {\n",
       "        vertical-align: top;\n",
       "    }\n",
       "\n",
       "    .dataframe thead th {\n",
       "        text-align: right;\n",
       "    }\n",
       "</style>\n",
       "<table border=\"1\" class=\"dataframe\">\n",
       "  <thead>\n",
       "    <tr style=\"text-align: right;\">\n",
       "      <th></th>\n",
       "      <th>Adj Close_btc</th>\n",
       "      <th>Adj Close_eth</th>\n",
       "    </tr>\n",
       "    <tr>\n",
       "      <th>Date</th>\n",
       "      <th></th>\n",
       "      <th></th>\n",
       "    </tr>\n",
       "  </thead>\n",
       "  <tbody>\n",
       "    <tr>\n",
       "      <th>2017-11-09</th>\n",
       "      <td>7143.580078</td>\n",
       "      <td>320.884003</td>\n",
       "    </tr>\n",
       "    <tr>\n",
       "      <th>2017-11-10</th>\n",
       "      <td>6618.140137</td>\n",
       "      <td>299.252991</td>\n",
       "    </tr>\n",
       "    <tr>\n",
       "      <th>2017-11-11</th>\n",
       "      <td>6357.600098</td>\n",
       "      <td>314.681000</td>\n",
       "    </tr>\n",
       "    <tr>\n",
       "      <th>2017-11-12</th>\n",
       "      <td>5950.069824</td>\n",
       "      <td>307.907990</td>\n",
       "    </tr>\n",
       "    <tr>\n",
       "      <th>2017-11-13</th>\n",
       "      <td>6559.490234</td>\n",
       "      <td>316.716003</td>\n",
       "    </tr>\n",
       "  </tbody>\n",
       "</table>\n",
       "</div>"
      ],
      "text/plain": [
       "            Adj Close_btc  Adj Close_eth\n",
       "Date                                    \n",
       "2017-11-09    7143.580078     320.884003\n",
       "2017-11-10    6618.140137     299.252991\n",
       "2017-11-11    6357.600098     314.681000\n",
       "2017-11-12    5950.069824     307.907990\n",
       "2017-11-13    6559.490234     316.716003"
      ]
     },
     "execution_count": 5,
     "metadata": {},
     "output_type": "execute_result"
    }
   ],
   "source": [
    "close = pd.merge(bitcoin['Adj Close'], eth['Adj Close'], on = 'Date', how = 'inner', suffixes=('_btc','_eth'))\n",
    "close.head()"
   ]
  },
  {
   "cell_type": "code",
   "execution_count": 6,
   "id": "fe05fd2e-25fb-4a00-a3e4-3ee949ed1063",
   "metadata": {},
   "outputs": [
    {
     "data": {
      "text/html": [
       "<div>\n",
       "<style scoped>\n",
       "    .dataframe tbody tr th:only-of-type {\n",
       "        vertical-align: middle;\n",
       "    }\n",
       "\n",
       "    .dataframe tbody tr th {\n",
       "        vertical-align: top;\n",
       "    }\n",
       "\n",
       "    .dataframe thead th {\n",
       "        text-align: right;\n",
       "    }\n",
       "</style>\n",
       "<table border=\"1\" class=\"dataframe\">\n",
       "  <thead>\n",
       "    <tr style=\"text-align: right;\">\n",
       "      <th></th>\n",
       "      <th>BTC</th>\n",
       "      <th>ETH</th>\n",
       "      <th>SPY</th>\n",
       "    </tr>\n",
       "    <tr>\n",
       "      <th>Date</th>\n",
       "      <th></th>\n",
       "      <th></th>\n",
       "      <th></th>\n",
       "    </tr>\n",
       "  </thead>\n",
       "  <tbody>\n",
       "    <tr>\n",
       "      <th>2017-11-09</th>\n",
       "      <td>7143.580078</td>\n",
       "      <td>320.884003</td>\n",
       "      <td>239.654938</td>\n",
       "    </tr>\n",
       "    <tr>\n",
       "      <th>2017-11-10</th>\n",
       "      <td>6618.140137</td>\n",
       "      <td>299.252991</td>\n",
       "      <td>239.580688</td>\n",
       "    </tr>\n",
       "    <tr>\n",
       "      <th>2017-11-13</th>\n",
       "      <td>6559.490234</td>\n",
       "      <td>316.716003</td>\n",
       "      <td>239.803452</td>\n",
       "    </tr>\n",
       "    <tr>\n",
       "      <th>2017-11-14</th>\n",
       "      <td>6635.750000</td>\n",
       "      <td>337.631012</td>\n",
       "      <td>239.246506</td>\n",
       "    </tr>\n",
       "    <tr>\n",
       "      <th>2017-11-15</th>\n",
       "      <td>7315.540039</td>\n",
       "      <td>333.356995</td>\n",
       "      <td>238.048996</td>\n",
       "    </tr>\n",
       "    <tr>\n",
       "      <th>...</th>\n",
       "      <td>...</td>\n",
       "      <td>...</td>\n",
       "      <td>...</td>\n",
       "    </tr>\n",
       "    <tr>\n",
       "      <th>2021-10-25</th>\n",
       "      <td>63039.824219</td>\n",
       "      <td>4217.876953</td>\n",
       "      <td>453.955139</td>\n",
       "    </tr>\n",
       "    <tr>\n",
       "      <th>2021-10-26</th>\n",
       "      <td>60363.792969</td>\n",
       "      <td>4131.102051</td>\n",
       "      <td>454.363708</td>\n",
       "    </tr>\n",
       "    <tr>\n",
       "      <th>2021-10-27</th>\n",
       "      <td>58482.386719</td>\n",
       "      <td>3930.257324</td>\n",
       "      <td>452.350800</td>\n",
       "    </tr>\n",
       "    <tr>\n",
       "      <th>2021-10-28</th>\n",
       "      <td>60622.136719</td>\n",
       "      <td>4287.318848</td>\n",
       "      <td>456.715454</td>\n",
       "    </tr>\n",
       "    <tr>\n",
       "      <th>2021-10-29</th>\n",
       "      <td>62227.964844</td>\n",
       "      <td>4414.746582</td>\n",
       "      <td>457.642181</td>\n",
       "    </tr>\n",
       "  </tbody>\n",
       "</table>\n",
       "<p>1000 rows × 3 columns</p>\n",
       "</div>"
      ],
      "text/plain": [
       "                     BTC          ETH         SPY\n",
       "Date                                             \n",
       "2017-11-09   7143.580078   320.884003  239.654938\n",
       "2017-11-10   6618.140137   299.252991  239.580688\n",
       "2017-11-13   6559.490234   316.716003  239.803452\n",
       "2017-11-14   6635.750000   337.631012  239.246506\n",
       "2017-11-15   7315.540039   333.356995  238.048996\n",
       "...                  ...          ...         ...\n",
       "2021-10-25  63039.824219  4217.876953  453.955139\n",
       "2021-10-26  60363.792969  4131.102051  454.363708\n",
       "2021-10-27  58482.386719  3930.257324  452.350800\n",
       "2021-10-28  60622.136719  4287.318848  456.715454\n",
       "2021-10-29  62227.964844  4414.746582  457.642181\n",
       "\n",
       "[1000 rows x 3 columns]"
      ]
     },
     "execution_count": 6,
     "metadata": {},
     "output_type": "execute_result"
    }
   ],
   "source": [
    "close_final = pd.merge(close, spy['Adj Close'],on = 'Date', how = 'inner', suffixes= ('original', '_spy'))\n",
    "close_final.columns = ['BTC', 'ETH', 'SPY']\n",
    "close_final"
   ]
  },
  {
   "cell_type": "markdown",
   "id": "4e92c1ff-971c-4ba2-b86a-aab01826e7ff",
   "metadata": {},
   "source": [
    "We lost a few more days worth of data than we expected originally, we assumed it would 1,571 days worth of data matching all of Yahoo's data on SPY, but it seems Yahoo finance is missing a few days worth of data for Ethereum over this time period as well. These days have been dropped from all three dataframes and we are left with a single close_final dataframe containing the adjusted close prices of the respective assets: BTC, ETH, and SPY."
   ]
  },
  {
   "cell_type": "markdown",
   "id": "d587a25f-954b-4b87-af0f-ef63ffa8cc88",
   "metadata": {},
   "source": [
    "### Calculating the Log Returns"
   ]
  },
  {
   "cell_type": "markdown",
   "id": "a9f00dbd-9dc1-4d88-bbd3-834e9dee26de",
   "metadata": {},
   "source": [
    "Continuously compounded arithmetic returns are not symmetrical and is one of the reasons log returns are preferred when looking at expected annual returns in calculating the Sharpe Ratio below; Log returns are also time additive which is useful in further analysis. \n",
    "\n",
    "The arithmetic return can be defined as:\n",
    "\n",
    "$r_a = \\frac{FV}{PV}-1$  \n",
    "where FV is the Future Value and PV is the Present Value\n",
    "\n",
    "We can then express the log returns as: \n",
    "\n",
    "$r_{log} = ln(\\frac{FV}{PV})$ or via some manipulation $r_{log} = ln(r_a +1)$"
   ]
  },
  {
   "cell_type": "code",
   "execution_count": 7,
   "id": "ed6bbba8-af36-42d3-9282-6e15b3cfd75c",
   "metadata": {},
   "outputs": [
    {
     "data": {
      "text/html": [
       "<div>\n",
       "<style scoped>\n",
       "    .dataframe tbody tr th:only-of-type {\n",
       "        vertical-align: middle;\n",
       "    }\n",
       "\n",
       "    .dataframe tbody tr th {\n",
       "        vertical-align: top;\n",
       "    }\n",
       "\n",
       "    .dataframe thead th {\n",
       "        text-align: right;\n",
       "    }\n",
       "</style>\n",
       "<table border=\"1\" class=\"dataframe\">\n",
       "  <thead>\n",
       "    <tr style=\"text-align: right;\">\n",
       "      <th></th>\n",
       "      <th>BTC</th>\n",
       "      <th>ETH</th>\n",
       "      <th>SPY</th>\n",
       "    </tr>\n",
       "    <tr>\n",
       "      <th>Date</th>\n",
       "      <th></th>\n",
       "      <th></th>\n",
       "      <th></th>\n",
       "    </tr>\n",
       "  </thead>\n",
       "  <tbody>\n",
       "    <tr>\n",
       "      <th>2017-11-09</th>\n",
       "      <td>NaN</td>\n",
       "      <td>NaN</td>\n",
       "      <td>NaN</td>\n",
       "    </tr>\n",
       "    <tr>\n",
       "      <th>2017-11-10</th>\n",
       "      <td>-0.076400</td>\n",
       "      <td>-0.069790</td>\n",
       "      <td>-0.000310</td>\n",
       "    </tr>\n",
       "    <tr>\n",
       "      <th>2017-11-13</th>\n",
       "      <td>-0.008901</td>\n",
       "      <td>0.056716</td>\n",
       "      <td>0.000929</td>\n",
       "    </tr>\n",
       "    <tr>\n",
       "      <th>2017-11-14</th>\n",
       "      <td>0.011559</td>\n",
       "      <td>0.063948</td>\n",
       "      <td>-0.002325</td>\n",
       "    </tr>\n",
       "    <tr>\n",
       "      <th>2017-11-15</th>\n",
       "      <td>0.097529</td>\n",
       "      <td>-0.012740</td>\n",
       "      <td>-0.005018</td>\n",
       "    </tr>\n",
       "    <tr>\n",
       "      <th>...</th>\n",
       "      <td>...</td>\n",
       "      <td>...</td>\n",
       "      <td>...</td>\n",
       "    </tr>\n",
       "    <tr>\n",
       "      <th>2021-10-25</th>\n",
       "      <td>0.037950</td>\n",
       "      <td>0.060520</td>\n",
       "      <td>0.005348</td>\n",
       "    </tr>\n",
       "    <tr>\n",
       "      <th>2021-10-26</th>\n",
       "      <td>-0.043377</td>\n",
       "      <td>-0.020788</td>\n",
       "      <td>0.000900</td>\n",
       "    </tr>\n",
       "    <tr>\n",
       "      <th>2021-10-27</th>\n",
       "      <td>-0.031664</td>\n",
       "      <td>-0.049839</td>\n",
       "      <td>-0.004440</td>\n",
       "    </tr>\n",
       "    <tr>\n",
       "      <th>2021-10-28</th>\n",
       "      <td>0.035934</td>\n",
       "      <td>0.086957</td>\n",
       "      <td>0.009603</td>\n",
       "    </tr>\n",
       "    <tr>\n",
       "      <th>2021-10-29</th>\n",
       "      <td>0.026144</td>\n",
       "      <td>0.029289</td>\n",
       "      <td>0.002027</td>\n",
       "    </tr>\n",
       "  </tbody>\n",
       "</table>\n",
       "<p>1000 rows × 3 columns</p>\n",
       "</div>"
      ],
      "text/plain": [
       "                 BTC       ETH       SPY\n",
       "Date                                    \n",
       "2017-11-09       NaN       NaN       NaN\n",
       "2017-11-10 -0.076400 -0.069790 -0.000310\n",
       "2017-11-13 -0.008901  0.056716  0.000929\n",
       "2017-11-14  0.011559  0.063948 -0.002325\n",
       "2017-11-15  0.097529 -0.012740 -0.005018\n",
       "...              ...       ...       ...\n",
       "2021-10-25  0.037950  0.060520  0.005348\n",
       "2021-10-26 -0.043377 -0.020788  0.000900\n",
       "2021-10-27 -0.031664 -0.049839 -0.004440\n",
       "2021-10-28  0.035934  0.086957  0.009603\n",
       "2021-10-29  0.026144  0.029289  0.002027\n",
       "\n",
       "[1000 rows x 3 columns]"
      ]
     },
     "execution_count": 7,
     "metadata": {},
     "output_type": "execute_result"
    }
   ],
   "source": [
    "#ln( percentage change between previous row)\n",
    "log_returns = np.log(1+close_final.pct_change())\n",
    "log_returns"
   ]
  },
  {
   "cell_type": "markdown",
   "id": "b9884405-828a-4e86-a665-4f47e66fe370",
   "metadata": {},
   "source": [
    "The log_returns will be used to calculate the Return of our portfolio below when calculating the Sharpe Ratio. "
   ]
  },
  {
   "cell_type": "markdown",
   "id": "69000f83-c0cf-48ab-aa41-b3155a6dcb85",
   "metadata": {},
   "source": [
    "### Calculating the Sharpe Ratio"
   ]
  },
  {
   "cell_type": "markdown",
   "id": "9c7c151b-52db-49d3-9bf4-e9b221cfe4d0",
   "metadata": {},
   "source": [
    "The sharpe ratio helps to clarify the return of an investment compared to its risk by taking the average return earned in excess of the risk-free rate over the volatility or total risk of the portfolio. \n",
    "\n",
    "A high sharpe ratio is sought after when comparing portfolios with similar assets, the larger the sharpe ratio the better its risk adjusted return and this can help explain whether a portfolio's excess returns are a result of excessive risk. "
   ]
  },
  {
   "cell_type": "markdown",
   "id": "8d895186-cf75-49ee-a328-3b348ed148f3",
   "metadata": {},
   "source": [
    "The Sharpe Ratio is defined as:\n",
    "\n",
    "$Sharpe Ratio = \\frac{R_p -R_f}{\\sigma_p}$   \n",
    "\n",
    "where:\n",
    "\n",
    "$R_p=$ the return of the portfolio\n",
    "\n",
    "$R_f=$ risk-free rate\n",
    "\n",
    "$\\sigma_p=$ standard deviation of the portfio's excess return\n",
    "\n",
    "\n",
    "The expected returns can be found by taking: \n",
    "\n",
    "$R_p = (w_1r_1)+(w_2r_2)+...(w_nr_n)$ \n",
    "\n",
    "with $r_i=$ being the return of Security i and $w_i=$ Weight of Security i\n",
    "\n",
    "The standard deviation of the portfolio can be found with:\n",
    "\n",
    "$\\sigma_p = \\sqrt{ ({w_i}^2{\\sigma_i}^2)+({w_j}^2{\\sigma_j}^2)+(2w_jw_ip_{i,j}\\sigma_i\\sigma_j)}$\n",
    "\n",
    "where : \n",
    "\n",
    "$\\sigma_i =$ Standard deviation of the asset i \n",
    "\n",
    "$w_i =$ weight of asset i\n",
    "\n",
    "$p_{i,j} = $ Correlation Coefficient between the returns of asset i and asset j"
   ]
  },
  {
   "cell_type": "markdown",
   "id": "eaee2692-4fd6-41a9-bc63-f853ce352817",
   "metadata": {},
   "source": [
    "#### $R_p :$ Return of the Portfolio"
   ]
  },
  {
   "cell_type": "code",
   "execution_count": 8,
   "id": "7d141d24-fa7b-477a-a042-dee29259c6f7",
   "metadata": {
    "tags": []
   },
   "outputs": [],
   "source": [
    "#generate a random sample of weights for portfolios\n",
    "tickers = ['BTC-USD', 'ETH-USD','SPY']\n",
    "\n",
    "#generates rand sample weight btw 0 and 1\n",
    "weights = np.random.random_sample(len(tickers))\n",
    "\n",
    "#rebalance so the sum of the weights is ~ 1\n",
    "weights_balanced = weights / np.sum(weights)\n",
    "\n",
    "#Store Weights For Dataframe of Portfolio results\n",
    "final_weights = []\n",
    "final_weights.append(np.round(weights_balanced,3))\n",
    "\n",
    "#Calculate the annualized(252 days by convention) expected returns\n",
    "#average daily return for each asset * asset weight in portfolio * 252 days for the annualized returns\n",
    "exp_returns= np.sum( (log_returns.mean() * weights_balanced) * 252)\n"
   ]
  },
  {
   "cell_type": "code",
   "execution_count": 9,
   "id": "897754d6-c367-4945-8330-bd61b56807cb",
   "metadata": {},
   "outputs": [
    {
     "data": {
      "text/plain": [
       "0.4630803301248744"
      ]
     },
     "execution_count": 9,
     "metadata": {},
     "output_type": "execute_result"
    }
   ],
   "source": [
    "exp_returns"
   ]
  },
  {
   "cell_type": "code",
   "execution_count": 29,
   "id": "b3352e8a-1a16-4c23-bb43-01d75cb4dd86",
   "metadata": {},
   "outputs": [
    {
     "data": {
      "text/plain": [
       "0.46308033012487443"
      ]
     },
     "execution_count": 29,
     "metadata": {},
     "output_type": "execute_result"
    }
   ],
   "source": [
    "#exp returns\n",
    "np.dot(log_returns.mean(), weights_balanced)*252"
   ]
  },
  {
   "cell_type": "markdown",
   "id": "6dac3ad5-4d63-4351-92cf-a68dd39082f4",
   "metadata": {},
   "source": [
    "We have now found $R_p$, the return of the overall portfolio and stored this in the exp_returns variable."
   ]
  },
  {
   "cell_type": "markdown",
   "id": "32d55b36-e4b7-4854-a5aa-e451b79b4e50",
   "metadata": {},
   "source": [
    "#### $\\sigma_p:$ Standard Deviation of the portfolio"
   ]
  },
  {
   "cell_type": "markdown",
   "id": "394ca2b9-e9d7-443c-8f9f-435cc0df323e",
   "metadata": {},
   "source": [
    "Shown below is an example of how we may find the Variance of the portfolio with the formula seen above via matrix multiplication. Below the example was done with only two assets, here we used Bitcoin and Ethereum, this can be expanded upon for additional assets. \n",
    "\n",
    "First we will find the Covariance Matrix of the two assets Bitcoin and Ethereum, defined as $ \\Sigma_{B,E}$\n",
    "\n",
    "$ \\Large \\Sigma_{B,E} = \\begin{bmatrix} Var(B) & \\sigma_{B,E} \\\\ \\sigma_{E,B} & Var(E) \\end{bmatrix}$\n",
    "\n",
    "Then we proceed to multiply the Covariance Matrix of the two assets with Random Weights that have been assigned to each asset for the given portfolio.\n",
    "\n",
    "$ \\begin{bmatrix} Var(B) & \\sigma_{B,E} \\\\ \\sigma_{E,B} & Var(E) \\end{bmatrix} * \\begin{bmatrix} W_b \\\\ W_e \\end{bmatrix} = \\begin{bmatrix}W_b Var(B) + W_e\\sigma_{B,E} \\\\ W_e Var(E)+ W_b\\sigma_{E,B} \\end{bmatrix}$\n",
    "\n",
    "Then procced to multiply the transpose of weights vector with the resultant matrix seen above to get the Variance of the portfolio with randomly assigned weights: \n",
    "\n",
    "$ \\begin{bmatrix} W_b && W_e \\end{bmatrix}  * \\begin{bmatrix}W_b Var(B) + W_e\\sigma_{B,E} \\\\ W_e Var(E)+ W_b\\sigma_{E,B} \\end{bmatrix}   =  {W_b}^2Var(B) + {W_e}^2Var(E) + 2W_bW_e\\sigma_{E,B}$\n",
    "\n",
    "\n",
    "Recall that $Cov_{B,E}$ can also be expressed as $\\rho_{b,e}\\sigma_b\\sigma_e$ where $\\rho_{B,E}$ is the correlation coefficient between the two assets Bitcoin and Ethereum. \n",
    "\n",
    "Therefore we now have expressed the variance of the portfolio with matrix multiplication and it now resembles the above formula we expected to see. \n",
    "\n",
    "$ Var_p = {W_b}^2Var(B) + {W_e}^2Var(E) + 2W_bW_e\\rho_{b,e}\\sigma_b\\sigma_e$\n",
    "\n",
    "We can then proceed to take the square root of the $Var_p$ to get the $\\sigma_p$ : \n",
    "\n",
    "$ \\sigma_p = \\sqrt{{W_b}^2Var(B) + {W_e}^2Var(E) + 2W_bW_e\\rho_{b,e}\\sigma_b\\sigma_e }$ seen in the above equation defining the Sharpe Ratio"
   ]
  },
  {
   "cell_type": "code",
   "execution_count": 11,
   "id": "d22ce157-f70e-445a-9b55-a86307015e17",
   "metadata": {},
   "outputs": [],
   "source": [
    "#calculate the Expected Volatility. \n",
    "covariance_mat = log_returns.cov() * 252\n",
    "\n",
    "portfolio_var = np.dot(weights_balanced.T, np.dot(covariance_mat, weights_balanced) ) \n",
    "\n",
    "#volatility \n",
    "portfolio_std = np.sqrt(portfolio_var)"
   ]
  },
  {
   "cell_type": "markdown",
   "id": "851a98cd-ee1c-4164-a788-686d291b8f28",
   "metadata": {},
   "source": [
    "We have now found the standard deviation or volatility of the portfolio and stored it in the portfolio_std variable."
   ]
  },
  {
   "cell_type": "code",
   "execution_count": 12,
   "id": "3b19395b-151d-4069-a790-1e006155c99e",
   "metadata": {},
   "outputs": [
    {
     "data": {
      "text/plain": [
       "0.6109606182302743"
      ]
     },
     "execution_count": 12,
     "metadata": {},
     "output_type": "execute_result"
    }
   ],
   "source": [
    "portfolio_std"
   ]
  },
  {
   "cell_type": "markdown",
   "id": "5bd05636-a210-4915-9c03-3d57020bb979",
   "metadata": {},
   "source": [
    "#### Sharpe Ratio"
   ]
  },
  {
   "cell_type": "markdown",
   "id": "3e669b97-bb28-41d4-8677-8464fbe20703",
   "metadata": {},
   "source": [
    "$Sharpe Ratio = \\frac{R_p -R_f}{\\sigma_p}$   \n",
    "\n",
    "Here the risk free rate has been set to the 3 month Treasury Bill Rate as of November of 2021 at 0.05%"
   ]
  },
  {
   "cell_type": "code",
   "execution_count": 13,
   "id": "d28e1648-9695-4235-a30e-2452d6c3b2c1",
   "metadata": {
    "tags": []
   },
   "outputs": [
    {
     "data": {
      "text/plain": [
       "0.6761161322008192"
      ]
     },
     "execution_count": 13,
     "metadata": {},
     "output_type": "execute_result"
    }
   ],
   "source": [
    "#Risk Free Rate changes w.r.t to time and can be adjusted\n",
    "risk_free_rate = 0.05\n",
    "\n",
    "#Sharpe Ratio\n",
    "sharpe_ratio = (exp_returns - risk_free_rate) / portfolio_std\n",
    "sharpe_ratio"
   ]
  },
  {
   "cell_type": "code",
   "execution_count": 14,
   "id": "29e80284-033b-4bd7-af30-8dbbe0309c32",
   "metadata": {},
   "outputs": [
    {
     "data": {
      "text/html": [
       "<div>\n",
       "<style scoped>\n",
       "    .dataframe tbody tr th:only-of-type {\n",
       "        vertical-align: middle;\n",
       "    }\n",
       "\n",
       "    .dataframe tbody tr th {\n",
       "        vertical-align: top;\n",
       "    }\n",
       "\n",
       "    .dataframe thead th {\n",
       "        text-align: right;\n",
       "    }\n",
       "</style>\n",
       "<table border=\"1\" class=\"dataframe\">\n",
       "  <thead>\n",
       "    <tr style=\"text-align: right;\">\n",
       "      <th></th>\n",
       "      <th>Expected Portfolio Returns</th>\n",
       "      <th>Portfolio Standard Deviation</th>\n",
       "      <th>Portfolio Sharpe Ratio</th>\n",
       "      <th>Weight</th>\n",
       "    </tr>\n",
       "  </thead>\n",
       "  <tbody>\n",
       "    <tr>\n",
       "      <th>0</th>\n",
       "      <td>0.46308</td>\n",
       "      <td>0.610961</td>\n",
       "      <td>0.676116</td>\n",
       "      <td>[0.182, 0.462, 0.356]</td>\n",
       "    </tr>\n",
       "  </tbody>\n",
       "</table>\n",
       "</div>"
      ],
      "text/plain": [
       "   Expected Portfolio Returns  Portfolio Standard Deviation  \\\n",
       "0                     0.46308                      0.610961   \n",
       "\n",
       "   Portfolio Sharpe Ratio                 Weight  \n",
       "0                0.676116  [0.182, 0.462, 0.356]  "
      ]
     },
     "execution_count": 14,
     "metadata": {},
     "output_type": "execute_result"
    }
   ],
   "source": [
    "data = {'Expected Portfolio Returns' : exp_returns,\n",
    "        'Portfolio Standard Deviation' : portfolio_std, \n",
    "        'Portfolio Sharpe Ratio': sharpe_ratio,\n",
    "       'Weight': final_weights}\n",
    "\n",
    "pf_metrics = pd.DataFrame(data)\n",
    "pf_metrics"
   ]
  },
  {
   "cell_type": "code",
   "execution_count": 15,
   "id": "93957fee-e62b-4dc1-9d24-4c1c0f48a6bb",
   "metadata": {},
   "outputs": [
    {
     "name": "stdout",
     "output_type": "stream",
     "text": [
      "For our single run where we randomly allocated weights to each of the assets we obtained an Expected Portfolio Return of: 0.4630803301248744 with a Sharpe Ratio of: 0.6761161322008192 when BTC, ETH and SPY were weighted as: [array([0.182, 0.462, 0.356])] respectively.\n"
     ]
    }
   ],
   "source": [
    "print('For our single run where we randomly allocated weights to each of the assets we obtained an Expected Portfolio Return of: ' + str(exp_returns) +  ' with a Sharpe Ratio of: ' +str(sharpe_ratio) + ' when BTC, ETH and SPY were weighted as: ' + str(final_weights) + ' respectively.' )  "
   ]
  },
  {
   "cell_type": "markdown",
   "id": "bf255715-9d94-4f3e-b61a-093007efac7c",
   "metadata": {},
   "source": [
    "# Monte Carlo Simulation to Optimize Portfolio"
   ]
  },
  {
   "cell_type": "markdown",
   "id": "3f4789ee-572a-4dc3-9689-9de2b958bcd8",
   "metadata": {},
   "source": [
    "Now that we have found the sharpe ratio for one randomly weighted portfolio, lets repeat this experiment through thousands of randomly assigned weights with a Monte Carlo Simulation.  Monte Carlo methods use random sampling to obtain a numerical result that cannot easily be predicted due to the unknown interactions of random variables in the system under study.  Here we are going to run a basic Monte Carlo simulation with 10,000 runs, where in each run a new randomly sampled asset weight will be assigned as we iterate throughout the experiment. \n",
    "\n",
    "From there everything is just as we did above to calculate a single sharpe ratio with randomly assigned weights, excpet done 5000 times. By assigning 5000 randomly sampled weights to Bitcoin, Ethereum and SPY we are going to be able to discern what is the optimally balanced portfolio to maximize our Sharpe Ratio. "
   ]
  },
  {
   "cell_type": "code",
   "execution_count": 24,
   "id": "9ea4671b-f76b-4e40-bbd7-0c63b6003970",
   "metadata": {},
   "outputs": [],
   "source": [
    "#Number of simulations to run \n",
    "simulations = 10000\n",
    "\n",
    "\n",
    "#Store the Expected Returns\n",
    "expected_returns = np.zeros(simulations)\n",
    "\n",
    "#Volatility i.e portfolio standard deviation\n",
    "volatility = np.zeros(simulations) \n",
    "\n",
    "#Sharpe Ratio\n",
    "sharpe_ratio_final = np.zeros(simulations)\n",
    "\n",
    "#Portfolio Weights BTC,ETH, SPY create a simulations x 3 array to store weights\n",
    "portfolio_weights = np.zeros((simulations, len(tickers) ))\n",
    "\n",
    "\n",
    "#Begin the Simulations\n",
    "\n",
    "for portfolio in range(simulations):\n",
    "    #Generate the randomly assigned portfolio weights\n",
    "    weights_sim = np.random.random_sample(len(tickers))\n",
    "    #rebalance so the sum of the weights is ~1\n",
    "    weights_balanced_sim = weights_sim / np.sum(weights_sim)\n",
    "    \n",
    "    #add the weights to the portfolio_weights array row iterated on\n",
    "    portfolio_weights[portfolio, :] = np.round(weights_balanced_sim,3)\n",
    "    \n",
    "    #Calculate the annualized returns\n",
    "    log_returns_final = np.log(1+close_final.pct_change()) \n",
    "    exp_returns_final = np.sum( (log_returns_final.mean() * weights_balanced_sim) * 252)\n",
    "    \n",
    "    #store the exp_returns_final\n",
    "    expected_returns[portfolio] = exp_returns_final\n",
    "    \n",
    "    #calculate the volatility\n",
    "    covariance_mat_final = log_returns_final.cov() * 252\n",
    "    portfolio_var_final = np.dot(weights_balanced_sim.T, np.dot(covariance_mat_final, weights_balanced_sim) ) \n",
    "    #volatility \n",
    "    portfolio_std_final = np.sqrt(portfolio_var_final)\n",
    "    \n",
    "    volatility[portfolio] = portfolio_std_final\n",
    "    \n",
    "    #Sharpe Ratio\n",
    "    risk_free_rate_final = 0.05\n",
    "    sharpe_ratio_sim = (exp_returns_final - risk_free_rate_final) / portfolio_std_final\n",
    "    \n",
    "    sharpe_ratio_final[portfolio] = sharpe_ratio_sim\n",
    "\n",
    "\n"
   ]
  },
  {
   "cell_type": "code",
   "execution_count": 25,
   "id": "984c49a6-80bb-4957-89cc-435ae7226d5b",
   "metadata": {},
   "outputs": [
    {
     "data": {
      "text/html": [
       "<div>\n",
       "<style scoped>\n",
       "    .dataframe tbody tr th:only-of-type {\n",
       "        vertical-align: middle;\n",
       "    }\n",
       "\n",
       "    .dataframe tbody tr th {\n",
       "        vertical-align: top;\n",
       "    }\n",
       "\n",
       "    .dataframe thead th {\n",
       "        text-align: right;\n",
       "    }\n",
       "</style>\n",
       "<table border=\"1\" class=\"dataframe\">\n",
       "  <thead>\n",
       "    <tr style=\"text-align: right;\">\n",
       "      <th></th>\n",
       "      <th>Returns</th>\n",
       "      <th>Volatility</th>\n",
       "      <th>Sharpe Ratio</th>\n",
       "      <th>BTC-ETH-SPY Weights</th>\n",
       "    </tr>\n",
       "  </thead>\n",
       "  <tbody>\n",
       "    <tr>\n",
       "      <th>0</th>\n",
       "      <td>0.423592</td>\n",
       "      <td>0.529652</td>\n",
       "      <td>0.799756</td>\n",
       "      <td>[0.443, 0.182, 0.375]</td>\n",
       "    </tr>\n",
       "    <tr>\n",
       "      <th>1</th>\n",
       "      <td>0.567783</td>\n",
       "      <td>0.78957</td>\n",
       "      <td>0.719103</td>\n",
       "      <td>[0.362, 0.534, 0.104]</td>\n",
       "    </tr>\n",
       "    <tr>\n",
       "      <th>2</th>\n",
       "      <td>0.452956</td>\n",
       "      <td>0.582226</td>\n",
       "      <td>0.777973</td>\n",
       "      <td>[0.294, 0.356, 0.35]</td>\n",
       "    </tr>\n",
       "    <tr>\n",
       "      <th>3</th>\n",
       "      <td>0.454162</td>\n",
       "      <td>0.604312</td>\n",
       "      <td>0.751536</td>\n",
       "      <td>[0.704, 0.043, 0.253]</td>\n",
       "    </tr>\n",
       "    <tr>\n",
       "      <th>4</th>\n",
       "      <td>0.470402</td>\n",
       "      <td>0.609392</td>\n",
       "      <td>0.77192</td>\n",
       "      <td>[0.435, 0.283, 0.283]</td>\n",
       "    </tr>\n",
       "    <tr>\n",
       "      <th>...</th>\n",
       "      <td>...</td>\n",
       "      <td>...</td>\n",
       "      <td>...</td>\n",
       "      <td>...</td>\n",
       "    </tr>\n",
       "    <tr>\n",
       "      <th>9995</th>\n",
       "      <td>0.389899</td>\n",
       "      <td>0.471652</td>\n",
       "      <td>0.826666</td>\n",
       "      <td>[0.278, 0.242, 0.481]</td>\n",
       "    </tr>\n",
       "    <tr>\n",
       "      <th>9996</th>\n",
       "      <td>0.428306</td>\n",
       "      <td>0.567368</td>\n",
       "      <td>0.754899</td>\n",
       "      <td>[0.043, 0.499, 0.458]</td>\n",
       "    </tr>\n",
       "    <tr>\n",
       "      <th>9997</th>\n",
       "      <td>0.445171</td>\n",
       "      <td>0.566009</td>\n",
       "      <td>0.786509</td>\n",
       "      <td>[0.446, 0.223, 0.331]</td>\n",
       "    </tr>\n",
       "    <tr>\n",
       "      <th>9998</th>\n",
       "      <td>0.588026</td>\n",
       "      <td>0.820841</td>\n",
       "      <td>0.71637</td>\n",
       "      <td>[0.481, 0.483, 0.036]</td>\n",
       "    </tr>\n",
       "    <tr>\n",
       "      <th>9999</th>\n",
       "      <td>0.483059</td>\n",
       "      <td>0.678177</td>\n",
       "      <td>0.712291</td>\n",
       "      <td>[0.001, 0.641, 0.358]</td>\n",
       "    </tr>\n",
       "  </tbody>\n",
       "</table>\n",
       "<p>10000 rows × 4 columns</p>\n",
       "</div>"
      ],
      "text/plain": [
       "       Returns Volatility Sharpe Ratio    BTC-ETH-SPY Weights\n",
       "0     0.423592   0.529652     0.799756  [0.443, 0.182, 0.375]\n",
       "1     0.567783    0.78957     0.719103  [0.362, 0.534, 0.104]\n",
       "2     0.452956   0.582226     0.777973   [0.294, 0.356, 0.35]\n",
       "3     0.454162   0.604312     0.751536  [0.704, 0.043, 0.253]\n",
       "4     0.470402   0.609392      0.77192  [0.435, 0.283, 0.283]\n",
       "...        ...        ...          ...                    ...\n",
       "9995  0.389899   0.471652     0.826666  [0.278, 0.242, 0.481]\n",
       "9996  0.428306   0.567368     0.754899  [0.043, 0.499, 0.458]\n",
       "9997  0.445171   0.566009     0.786509  [0.446, 0.223, 0.331]\n",
       "9998  0.588026   0.820841      0.71637  [0.481, 0.483, 0.036]\n",
       "9999  0.483059   0.678177     0.712291  [0.001, 0.641, 0.358]\n",
       "\n",
       "[10000 rows x 4 columns]"
      ]
     },
     "execution_count": 25,
     "metadata": {},
     "output_type": "execute_result"
    }
   ],
   "source": [
    "#Create a DataFrame to store the results \n",
    "\n",
    "simulations_data = [expected_returns, volatility, sharpe_ratio_final, portfolio_weights]\n",
    "\n",
    "sim_df = pd.DataFrame(simulations_data).T\n",
    "\n",
    "sim_df.columns = ['Returns', 'Volatility', 'Sharpe Ratio', 'BTC-ETH-SPY Weights']\n",
    "\n",
    "sim_df\n"
   ]
  },
  {
   "cell_type": "markdown",
   "id": "5fe71eb5-8006-4091-a4e1-9c0466155c36",
   "metadata": {},
   "source": [
    "Now that we have run the simulation 10,000 times and stored the data from each run as an individual row in the sim_df we can proceed to analyze the sim_df to determine the portfolio's assigned asset weight for our max Sharpe Ratio, minimum volatilty, and highest return runs. "
   ]
  },
  {
   "cell_type": "code",
   "execution_count": 26,
   "id": "6586af02-94e5-4205-8c58-db1e54fa08a3",
   "metadata": {},
   "outputs": [
    {
     "name": "stdout",
     "output_type": "stream",
     "text": [
      "\n",
      "The portfolio with the highest sharpe ratio is: \n",
      "\n",
      "Returns                             0.241075\n",
      "Volatility                          0.252688\n",
      "Sharpe Ratio                         0.95404\n",
      "BTC-ETH-SPY Weights    [0.154, 0.038, 0.808]\n",
      "Name: 1094, dtype: object\n",
      "==================================================\n",
      "\n",
      "The portfolio with the the minimum amount of volatility is: \n",
      "\n",
      "Returns                              0.16533\n",
      "Volatility                          0.208283\n",
      "Sharpe Ratio                        0.793777\n",
      "BTC-ETH-SPY Weights    [0.002, 0.003, 0.995]\n",
      "Name: 7633, dtype: object\n",
      "==================================================\n",
      "\n",
      "The portfolio with the the highest return is: \n",
      "\n",
      "Returns                              0.65153\n",
      "Volatility                          0.990493\n",
      "Sharpe Ratio                        0.657783\n",
      "BTC-ETH-SPY Weights    [0.064, 0.932, 0.005]\n",
      "Name: 6379, dtype: object\n"
     ]
    }
   ],
   "source": [
    "#Return the max sharpe ratio from simulations\n",
    "highest_sharpe = sim_df.loc[sim_df['Sharpe Ratio'].astype(float).idxmax()]\n",
    "\n",
    "#Return the minimum volatility from the simulations\n",
    "min_vol = sim_df.loc[sim_df['Volatility'].astype(float).idxmin()]\n",
    "\n",
    "#Highest Return\n",
    "highest_return = sim_df.loc[sim_df['Returns'].astype(float).idxmax()]\n",
    "\n",
    "\n",
    "print('')\n",
    "print('The portfolio with the highest sharpe ratio is: ')\n",
    "print('')\n",
    "print(highest_sharpe)\n",
    "print('=' *50 )\n",
    "\n",
    "print('')\n",
    "print('The portfolio with the the minimum amount of volatility is: ')\n",
    "print('')\n",
    "print(min_vol)\n",
    "print('=' *50 )\n",
    "\n",
    "print('')\n",
    "print('The portfolio with the the highest return is: ')\n",
    "print('')\n",
    "print(highest_return)\n"
   ]
  },
  {
   "cell_type": "markdown",
   "id": "540d9200-d67f-4432-b4ca-b40612afc3df",
   "metadata": {},
   "source": [
    "# Visualization of the Efficient Frontier"
   ]
  },
  {
   "cell_type": "code",
   "execution_count": 62,
   "id": "8f363972-5fc8-4900-bcc0-1c90e5fff111",
   "metadata": {},
   "outputs": [
    {
     "data": {
      "image/png": "[encoded data removed]",
      "text/plain": [
       "<Figure size 720x720 with 1 Axes>"
      ]
     },
     "metadata": {},
     "output_type": "display_data"
    }
   ],
   "source": [
    "import matplotlib.pyplot as plt\n",
    "import matplotlib.style as style\n",
    "import seaborn as sns\n",
    "sns.set_context('notebook')\n",
    "style.use('fivethirtyeight')\n",
    "sns.set_palette('deep')\n",
    "\n",
    "plt.figure(figsize = (10,10) )\n",
    "sns.scatterplot(x='Volatility', y= 'Returns', data=sim_df, hue='Sharpe Ratio')\n",
    "plt.title('Portfolio Optimization')\n",
    "\n",
    "# Maximimum sharpe ratio\n",
    "plt.text(highest_sharpe['Volatility'], highest_sharpe['Returns'], 'Max_Sharpe_ratio', alpha=0.5, size=16) \n",
    "plt.scatter(highest_sharpe['Volatility'], highest_sharpe['Returns'], marker=(5, 1, 0), color='g',  s=600) \n",
    "\n",
    "\n",
    "#plt.scatter()\n",
    "plt.show()"
   ]
  },
  {
   "cell_type": "markdown",
   "id": "23fd4490-0fba-4855-860e-56fe2eec6e3e",
   "metadata": {},
   "source": [
    "If an investor were to choose a point that lies along the boundary formed by the simulations, the efficient frontier, they can say with certainty that for a given risk level they are maximizing their risk adjusted returns with the given portfolio. So in this case it comes down to the investors risk tolerance and what level of risk they are willing to accept. In the figure each point represents a run of our simulation and therefore it represents a portfolio with randomly assigned asset weightings, by plotting out all of the 10,000 runs we can then see the efficient frontier begin to form as the upper boundary or the maximum level of risk adjusted returns for the given volatility.\n",
    "\n",
    "The efficient frontier gives insight into designing a diversified portfolio allowing an investor to avoid a portfolio with a volatilty of 0.5 and return of 0.38, a point below the efiicient frontier, and to instead have a portfolio with a 0.5 volatility and return of 0.42 maximizing their risk adjusted return. \n"
   ]
  },
  {
   "cell_type": "code",
   "execution_count": 65,
   "id": "4bc7c9ae-8e57-4628-bc0d-47c3f1ccfa2e",
   "metadata": {},
   "outputs": [
    {
     "data": {
      "text/plain": [
       "Returns                             0.241075\n",
       "Volatility                          0.252688\n",
       "Sharpe Ratio                         0.95404\n",
       "BTC-ETH-SPY Weights    [0.154, 0.038, 0.808]\n",
       "Name: 1094, dtype: object"
      ]
     },
     "execution_count": 65,
     "metadata": {},
     "output_type": "execute_result"
    }
   ],
   "source": [
    "highest_sharpe"
   ]
  },
  {
   "cell_type": "code",
   "execution_count": 71,
   "id": "96005e14-80d5-4725-846d-2b0c68114811",
   "metadata": {},
   "outputs": [
    {
     "name": "stdout",
     "output_type": "stream",
     "text": [
      "The annual return when the Sharpe ratio is maximized is projected to be between: -0.011613559641221849 and 0.4937633276536347 with a 68% confidence interval. \n"
     ]
    }
   ],
   "source": [
    "print('The annual return when the Sharpe ratio is maximized is projected to be between: ' + str(highest_sharpe['Returns']-highest_sharpe['Volatility']) + ' and ' + str(highest_sharpe['Returns']+highest_sharpe['Volatility']) + ' with a 68% confidence interval. ')"
   ]
  },
  {
   "cell_type": "markdown",
   "id": "c1a7232a-fabd-4ff2-ba1c-d796a7669c5f",
   "metadata": {},
   "source": [
    "Sharpe ratio's greater than 1 are usually considered acceptable to investors, with a ratio of 3 considered as excellent and a ratio under 1 considered suboptimal. \n",
    "\n",
    "In this simulation most of the Sharpe ratios lay below 1, this is mainly due to the nature of the assets chosen for this analysis as cryptocurrencies are inherently volatile at this stage in the capital markets and as such causes the volatility term in the Sharpe ratio to be higher than what is seen in traditional financial assets. \n",
    "\n",
    "After this analysis we can conclude that a portfolio consisting of only BTC, ETH and SPY is not properly diversified and leaves the individual investor to be required to take on a high level of risk. \n"
   ]
  },
  {
   "cell_type": "markdown",
   "id": "e2acca01-db58-42a5-8b79-5868ccf5ffa5",
   "metadata": {},
   "source": [
    "If an investor wanted to maximize their returns over this time period and ignore their level of risk then the optimal strategy would have been a portfolio comprised mainly of Ethereum seeing as it has had the most growth over the time period of study here from 2015 onward with the rest of the portfolio's allocation weighted as seen below: "
   ]
  },
  {
   "cell_type": "code",
   "execution_count": 66,
   "id": "bb6a8ea5-0762-4c8b-bb65-1f8afaea647d",
   "metadata": {},
   "outputs": [
    {
     "data": {
      "text/plain": [
       "Returns                              0.65153\n",
       "Volatility                          0.990493\n",
       "Sharpe Ratio                        0.657783\n",
       "BTC-ETH-SPY Weights    [0.064, 0.932, 0.005]\n",
       "Name: 6379, dtype: object"
      ]
     },
     "execution_count": 66,
     "metadata": {},
     "output_type": "execute_result"
    }
   ],
   "source": [
    "highest_return"
   ]
  }
 ],
 "metadata": {
  "kernelspec": {
   "display_name": "Python 3 (ipykernel)",
   "language": "python",
   "name": "python3"
  },
  "language_info": {
   "codemirror_mode": {
    "name": "ipython",
    "version": 3
   },
   "file_extension": ".py",
   "mimetype": "text/x-python",
   "name": "python",
   "nbconvert_exporter": "python",
   "pygments_lexer": "ipython3",
   "version": "3.8.12"
  }
 },
 "nbformat": 4,
 "nbformat_minor": 5
}
