{
 "cells": [
  {
   "cell_type": "markdown",
   "id": "dd16f6e9-6046-4ef3-a59d-2741f37e758b",
   "metadata": {
    "tags": []
   },
   "source": [
    "# <center> Goodreads Exploratory Data Analysis\n"
   ]
  },
  {
   "cell_type": "markdown",
   "id": "d8e70c2c-e2d0-40ae-99a9-aae1757bade1",
   "metadata": {
    "tags": []
   },
   "source": [
    "## Background"
   ]
  },
  {
   "cell_type": "markdown",
   "id": "6decfcb4-6d37-442b-a0ea-f498bd781b43",
   "metadata": {},
   "source": [
    "Goodreads is a commonly used website among readers to catalog and review books users have read or are looking to read, this subsidiary of Amazon has acquired a user base of 90 million members as of July of 2019, making it one of the most popular book review sites on the interent. This large user base has the ability to create lists and hold votes on which titles should be included in the list based on user votes for the list's designated category such as: Most Popular Books, Best Fantasy or Best Books of the 20th century. "
   ]
  },
  {
   "cell_type": "markdown",
   "id": "5a8aad97-3a94-4d75-85c7-7c370f484f6c",
   "metadata": {},
   "source": [
    "The dataset we will be exploring has been pulled from kaggle: https://www.kaggle.com/zygmunt/goodbooks-10k\n",
    "\n",
    "The goodbooks-10k dataset includes several csv files: books.csv, book_tags.csv, ratings.csv, tags.csv and to_read.csv. \n",
    "\n",
    "The books.csv includes 10,000 of the most popular books as voted on by Goodreads users, with most of the books having 100 reviews each. The ratings mentioned refer to star ratings and users can rate a book from one to five stars, five stars meaning they loved the book and would recomend the book to others. \n",
    "\n",
    "The tags.csv is a dataset where each user has created a unique tag for a book, these can be anything the user determines and does not necessarily fall into the strict genre categories most readers are used to like Fantasy, Sci-Fi or Non-Fiction.\n",
    "\n",
    "This analysis will mainly look to explore the books.csv and ratings.csv files and attempt to determine what insights can be drawn from the books_dataset and the ratings dataset as defined below. "
   ]
  },
  {
   "cell_type": "markdown",
   "id": "4d0c2b2d-aa97-4ea0-a56e-787e0a859bb4",
   "metadata": {
    "tags": []
   },
   "source": [
    "# Cleaning the Goodreads dataset goodbooks-10k from Kaggle. \n"
   ]
  },
  {
   "cell_type": "code",
   "execution_count": 102,
   "id": "832b6e48-d05e-4ecd-aee2-60124dee7a9b",
   "metadata": {},
   "outputs": [],
   "source": [
    "import numpy as np\n",
    "import pandas as pd\n",
    "import warnings\n",
    "warnings.filterwarnings('ignore')\n",
    "\n",
    "pd.set_option(\"display.max_columns\", None)\n"
   ]
  },
  {
   "cell_type": "code",
   "execution_count": 45,
   "id": "e9c9f31f-5522-49b8-8f0f-f0b02482fc59",
   "metadata": {},
   "outputs": [],
   "source": [
    "#initial import of goodreads Data\n",
    "books_dataset = pd.read_csv(\"/mnt/c/Users/Prometheus-Desktop/Documents/Jupyter_Notebooks/Projects/datasets/Goodreads/archive/books.csv\") \n",
    "ratings = pd.read_csv(\"/mnt/c/Users/Prometheus-Desktop/Documents/Jupyter_Notebooks/Projects/datasets/Goodreads/archive/ratings.csv\") \n",
    "\n",
    "#additional files for further analysis\n",
    "book_tags = pd.read_csv(\"/mnt/c/Users/Prometheus-Desktop/Documents/Jupyter_Notebooks/Projects/datasets/Goodreads/archive/book_tags.csv\") \n",
    "user_tags = pd.read_csv(\"/mnt/c/Users/Prometheus-Desktop/Documents/Jupyter_Notebooks/Projects/datasets/Goodreads/archive/tags.csv\") \n",
    "#books marked as to read by users\n",
    "to_read = pd.read_csv(\"/mnt/c/Users/Prometheus-Desktop/Documents/Jupyter_Notebooks/Projects/datasets/Goodreads/archive/to_read.csv\") \n"
   ]
  },
  {
   "cell_type": "markdown",
   "id": "b5fc1130-f5f7-4535-a102-608cb80c66e1",
   "metadata": {
    "tags": []
   },
   "source": [
    "### Examining the books_dataset \n"
   ]
  },
  {
   "cell_type": "code",
   "execution_count": 46,
   "id": "38b87667-0f69-4c1e-9031-885905538f0a",
   "metadata": {
    "tags": []
   },
   "outputs": [
    {
     "data": {
      "text/html": [
       "<div>\n",
       "<style scoped>\n",
       "    .dataframe tbody tr th:only-of-type {\n",
       "        vertical-align: middle;\n",
       "    }\n",
       "\n",
       "    .dataframe tbody tr th {\n",
       "        vertical-align: top;\n",
       "    }\n",
       "\n",
       "    .dataframe thead th {\n",
       "        text-align: right;\n",
       "    }\n",
       "</style>\n",
       "<table border=\"1\" class=\"dataframe\">\n",
       "  <thead>\n",
       "    <tr style=\"text-align: right;\">\n",
       "      <th></th>\n",
       "      <th>id</th>\n",
       "      <th>book_id</th>\n",
       "      <th>best_book_id</th>\n",
       "      <th>work_id</th>\n",
       "      <th>books_count</th>\n",
       "      <th>isbn</th>\n",
       "      <th>isbn13</th>\n",
       "      <th>authors</th>\n",
       "      <th>original_publication_year</th>\n",
       "      <th>original_title</th>\n",
       "      <th>title</th>\n",
       "      <th>language_code</th>\n",
       "      <th>average_rating</th>\n",
       "      <th>ratings_count</th>\n",
       "      <th>work_ratings_count</th>\n",
       "      <th>work_text_reviews_count</th>\n",
       "      <th>ratings_1</th>\n",
       "      <th>ratings_2</th>\n",
       "      <th>ratings_3</th>\n",
       "      <th>ratings_4</th>\n",
       "      <th>ratings_5</th>\n",
       "      <th>image_url</th>\n",
       "      <th>small_image_url</th>\n",
       "    </tr>\n",
       "  </thead>\n",
       "  <tbody>\n",
       "    <tr>\n",
       "      <th>0</th>\n",
       "      <td>1</td>\n",
       "      <td>2767052</td>\n",
       "      <td>2767052</td>\n",
       "      <td>2792775</td>\n",
       "      <td>272</td>\n",
       "      <td>439023483</td>\n",
       "      <td>9.780439e+12</td>\n",
       "      <td>Suzanne Collins</td>\n",
       "      <td>2008.0</td>\n",
       "      <td>The Hunger Games</td>\n",
       "      <td>The Hunger Games (The Hunger Games, #1)</td>\n",
       "      <td>eng</td>\n",
       "      <td>4.34</td>\n",
       "      <td>4780653</td>\n",
       "      <td>4942365</td>\n",
       "      <td>155254</td>\n",
       "      <td>66715</td>\n",
       "      <td>127936</td>\n",
       "      <td>560092</td>\n",
       "      <td>1481305</td>\n",
       "      <td>2706317</td>\n",
       "      <td>https://images.gr-assets.com/books/1447303603m...</td>\n",
       "      <td>https://images.gr-assets.com/books/1447303603s...</td>\n",
       "    </tr>\n",
       "    <tr>\n",
       "      <th>1</th>\n",
       "      <td>2</td>\n",
       "      <td>3</td>\n",
       "      <td>3</td>\n",
       "      <td>4640799</td>\n",
       "      <td>491</td>\n",
       "      <td>439554934</td>\n",
       "      <td>9.780440e+12</td>\n",
       "      <td>J.K. Rowling, Mary GrandPré</td>\n",
       "      <td>1997.0</td>\n",
       "      <td>Harry Potter and the Philosopher's Stone</td>\n",
       "      <td>Harry Potter and the Sorcerer's Stone (Harry P...</td>\n",
       "      <td>eng</td>\n",
       "      <td>4.44</td>\n",
       "      <td>4602479</td>\n",
       "      <td>4800065</td>\n",
       "      <td>75867</td>\n",
       "      <td>75504</td>\n",
       "      <td>101676</td>\n",
       "      <td>455024</td>\n",
       "      <td>1156318</td>\n",
       "      <td>3011543</td>\n",
       "      <td>https://images.gr-assets.com/books/1474154022m...</td>\n",
       "      <td>https://images.gr-assets.com/books/1474154022s...</td>\n",
       "    </tr>\n",
       "    <tr>\n",
       "      <th>2</th>\n",
       "      <td>3</td>\n",
       "      <td>41865</td>\n",
       "      <td>41865</td>\n",
       "      <td>3212258</td>\n",
       "      <td>226</td>\n",
       "      <td>316015849</td>\n",
       "      <td>9.780316e+12</td>\n",
       "      <td>Stephenie Meyer</td>\n",
       "      <td>2005.0</td>\n",
       "      <td>Twilight</td>\n",
       "      <td>Twilight (Twilight, #1)</td>\n",
       "      <td>en-US</td>\n",
       "      <td>3.57</td>\n",
       "      <td>3866839</td>\n",
       "      <td>3916824</td>\n",
       "      <td>95009</td>\n",
       "      <td>456191</td>\n",
       "      <td>436802</td>\n",
       "      <td>793319</td>\n",
       "      <td>875073</td>\n",
       "      <td>1355439</td>\n",
       "      <td>https://images.gr-assets.com/books/1361039443m...</td>\n",
       "      <td>https://images.gr-assets.com/books/1361039443s...</td>\n",
       "    </tr>\n",
       "    <tr>\n",
       "      <th>3</th>\n",
       "      <td>4</td>\n",
       "      <td>2657</td>\n",
       "      <td>2657</td>\n",
       "      <td>3275794</td>\n",
       "      <td>487</td>\n",
       "      <td>61120081</td>\n",
       "      <td>9.780061e+12</td>\n",
       "      <td>Harper Lee</td>\n",
       "      <td>1960.0</td>\n",
       "      <td>To Kill a Mockingbird</td>\n",
       "      <td>To Kill a Mockingbird</td>\n",
       "      <td>eng</td>\n",
       "      <td>4.25</td>\n",
       "      <td>3198671</td>\n",
       "      <td>3340896</td>\n",
       "      <td>72586</td>\n",
       "      <td>60427</td>\n",
       "      <td>117415</td>\n",
       "      <td>446835</td>\n",
       "      <td>1001952</td>\n",
       "      <td>1714267</td>\n",
       "      <td>https://images.gr-assets.com/books/1361975680m...</td>\n",
       "      <td>https://images.gr-assets.com/books/1361975680s...</td>\n",
       "    </tr>\n",
       "    <tr>\n",
       "      <th>4</th>\n",
       "      <td>5</td>\n",
       "      <td>4671</td>\n",
       "      <td>4671</td>\n",
       "      <td>245494</td>\n",
       "      <td>1356</td>\n",
       "      <td>743273567</td>\n",
       "      <td>9.780743e+12</td>\n",
       "      <td>F. Scott Fitzgerald</td>\n",
       "      <td>1925.0</td>\n",
       "      <td>The Great Gatsby</td>\n",
       "      <td>The Great Gatsby</td>\n",
       "      <td>eng</td>\n",
       "      <td>3.89</td>\n",
       "      <td>2683664</td>\n",
       "      <td>2773745</td>\n",
       "      <td>51992</td>\n",
       "      <td>86236</td>\n",
       "      <td>197621</td>\n",
       "      <td>606158</td>\n",
       "      <td>936012</td>\n",
       "      <td>947718</td>\n",
       "      <td>https://images.gr-assets.com/books/1490528560m...</td>\n",
       "      <td>https://images.gr-assets.com/books/1490528560s...</td>\n",
       "    </tr>\n",
       "  </tbody>\n",
       "</table>\n",
       "</div>"
      ],
      "text/plain": [
       "   id  book_id  best_book_id  work_id  books_count       isbn        isbn13  \\\n",
       "0   1  2767052       2767052  2792775          272  439023483  9.780439e+12   \n",
       "1   2        3             3  4640799          491  439554934  9.780440e+12   \n",
       "2   3    41865         41865  3212258          226  316015849  9.780316e+12   \n",
       "3   4     2657          2657  3275794          487   61120081  9.780061e+12   \n",
       "4   5     4671          4671   245494         1356  743273567  9.780743e+12   \n",
       "\n",
       "                       authors  original_publication_year  \\\n",
       "0              Suzanne Collins                     2008.0   \n",
       "1  J.K. Rowling, Mary GrandPré                     1997.0   \n",
       "2              Stephenie Meyer                     2005.0   \n",
       "3                   Harper Lee                     1960.0   \n",
       "4          F. Scott Fitzgerald                     1925.0   \n",
       "\n",
       "                             original_title  \\\n",
       "0                          The Hunger Games   \n",
       "1  Harry Potter and the Philosopher's Stone   \n",
       "2                                  Twilight   \n",
       "3                     To Kill a Mockingbird   \n",
       "4                          The Great Gatsby   \n",
       "\n",
       "                                               title language_code  \\\n",
       "0            The Hunger Games (The Hunger Games, #1)           eng   \n",
       "1  Harry Potter and the Sorcerer's Stone (Harry P...           eng   \n",
       "2                            Twilight (Twilight, #1)         en-US   \n",
       "3                              To Kill a Mockingbird           eng   \n",
       "4                                   The Great Gatsby           eng   \n",
       "\n",
       "   average_rating  ratings_count  work_ratings_count  work_text_reviews_count  \\\n",
       "0            4.34        4780653             4942365                   155254   \n",
       "1            4.44        4602479             4800065                    75867   \n",
       "2            3.57        3866839             3916824                    95009   \n",
       "3            4.25        3198671             3340896                    72586   \n",
       "4            3.89        2683664             2773745                    51992   \n",
       "\n",
       "   ratings_1  ratings_2  ratings_3  ratings_4  ratings_5  \\\n",
       "0      66715     127936     560092    1481305    2706317   \n",
       "1      75504     101676     455024    1156318    3011543   \n",
       "2     456191     436802     793319     875073    1355439   \n",
       "3      60427     117415     446835    1001952    1714267   \n",
       "4      86236     197621     606158     936012     947718   \n",
       "\n",
       "                                           image_url  \\\n",
       "0  https://images.gr-assets.com/books/1447303603m...   \n",
       "1  https://images.gr-assets.com/books/1474154022m...   \n",
       "2  https://images.gr-assets.com/books/1361039443m...   \n",
       "3  https://images.gr-assets.com/books/1361975680m...   \n",
       "4  https://images.gr-assets.com/books/1490528560m...   \n",
       "\n",
       "                                     small_image_url  \n",
       "0  https://images.gr-assets.com/books/1447303603s...  \n",
       "1  https://images.gr-assets.com/books/1474154022s...  \n",
       "2  https://images.gr-assets.com/books/1361039443s...  \n",
       "3  https://images.gr-assets.com/books/1361975680s...  \n",
       "4  https://images.gr-assets.com/books/1490528560s...  "
      ]
     },
     "execution_count": 46,
     "metadata": {},
     "output_type": "execute_result"
    }
   ],
   "source": [
    "# Information for books_datset i.e. books.csv\n",
    "books_dataset.head()\n"
   ]
  },
  {
   "cell_type": "code",
   "execution_count": 47,
   "id": "4c87bbc4-4791-4a55-831c-b6d025c50d5e",
   "metadata": {},
   "outputs": [
    {
     "data": {
      "text/plain": [
       "(10000, 23)"
      ]
     },
     "execution_count": 47,
     "metadata": {},
     "output_type": "execute_result"
    }
   ],
   "source": [
    "books_dataset.shape"
   ]
  },
  {
   "cell_type": "code",
   "execution_count": 48,
   "id": "f75de157-b0b4-4d62-9cf4-44564faf2191",
   "metadata": {},
   "outputs": [
    {
     "name": "stdout",
     "output_type": "stream",
     "text": [
      "<class 'pandas.core.frame.DataFrame'>\n",
      "RangeIndex: 10000 entries, 0 to 9999\n",
      "Data columns (total 23 columns):\n",
      " #   Column                     Non-Null Count  Dtype  \n",
      "---  ------                     --------------  -----  \n",
      " 0   id                         10000 non-null  int64  \n",
      " 1   book_id                    10000 non-null  int64  \n",
      " 2   best_book_id               10000 non-null  int64  \n",
      " 3   work_id                    10000 non-null  int64  \n",
      " 4   books_count                10000 non-null  int64  \n",
      " 5   isbn                       9300 non-null   object \n",
      " 6   isbn13                     9415 non-null   float64\n",
      " 7   authors                    10000 non-null  object \n",
      " 8   original_publication_year  9979 non-null   float64\n",
      " 9   original_title             9415 non-null   object \n",
      " 10  title                      10000 non-null  object \n",
      " 11  language_code              8916 non-null   object \n",
      " 12  average_rating             10000 non-null  float64\n",
      " 13  ratings_count              10000 non-null  int64  \n",
      " 14  work_ratings_count         10000 non-null  int64  \n",
      " 15  work_text_reviews_count    10000 non-null  int64  \n",
      " 16  ratings_1                  10000 non-null  int64  \n",
      " 17  ratings_2                  10000 non-null  int64  \n",
      " 18  ratings_3                  10000 non-null  int64  \n",
      " 19  ratings_4                  10000 non-null  int64  \n",
      " 20  ratings_5                  10000 non-null  int64  \n",
      " 21  image_url                  10000 non-null  object \n",
      " 22  small_image_url            10000 non-null  object \n",
      "dtypes: float64(3), int64(13), object(7)\n",
      "memory usage: 1.8+ MB\n"
     ]
    }
   ],
   "source": [
    "books_dataset.info()"
   ]
  },
  {
   "cell_type": "markdown",
   "id": "06fe8eab-3486-4b03-b92c-60b08188f976",
   "metadata": {
    "tags": []
   },
   "source": [
    "### Examining The book_tags dataframe"
   ]
  },
  {
   "cell_type": "code",
   "execution_count": 49,
   "id": "33b0075c-9723-47ee-92b8-07b928eb3962",
   "metadata": {},
   "outputs": [
    {
     "name": "stdout",
     "output_type": "stream",
     "text": [
      "   goodreads_book_id  tag_id   count\n",
      "0                  1   30574  167697\n",
      "1                  1   11305   37174\n",
      "2                  1   11557   34173\n",
      "3                  1    8717   12986\n",
      "4                  1   33114   12716\n",
      "goodreads_book_id    False\n",
      "tag_id               False\n",
      "count                False\n",
      "dtype: bool\n"
     ]
    },
    {
     "data": {
      "text/plain": [
       "(999912, 3)"
      ]
     },
     "execution_count": 49,
     "metadata": {},
     "output_type": "execute_result"
    }
   ],
   "source": [
    "# Book tags associated with a given book, a book can have multiple user tags given to it\n",
    "print(book_tags.head()) \n",
    "print(book_tags.isnull().any())\n",
    "book_tags.shape"
   ]
  },
  {
   "cell_type": "markdown",
   "id": "98ae4718-229f-4f73-9d34-85c0e45c8be6",
   "metadata": {
    "tags": []
   },
   "source": [
    "### Examining the ratings dataframe"
   ]
  },
  {
   "cell_type": "code",
   "execution_count": 50,
   "id": "62a8f839-c9b1-4867-b5cf-018014f844ef",
   "metadata": {
    "tags": []
   },
   "outputs": [
    {
     "name": "stdout",
     "output_type": "stream",
     "text": [
      "   book_id  user_id  rating\n",
      "0        1      314       5\n",
      "1        1      439       3\n",
      "2        1      588       5\n",
      "3        1     1169       4\n",
      "4        1     1185       4\n",
      "(999912, 3)\n",
      "book_id    False\n",
      "user_id    False\n",
      "rating     False\n",
      "dtype: bool\n"
     ]
    }
   ],
   "source": [
    "# User ratings given to a specific book\n",
    "print(ratings.head())\n",
    "print(book_tags.shape) \n",
    "print(ratings.isnull().any())\n"
   ]
  },
  {
   "cell_type": "markdown",
   "id": "07155246-1236-441c-bd4e-cd2199b03671",
   "metadata": {
    "tags": []
   },
   "source": [
    "### Examining the user_tags dataframe"
   ]
  },
  {
   "cell_type": "code",
   "execution_count": 51,
   "id": "59f0dcfa-6fbe-44f7-93e3-80b5c47c4e9d",
   "metadata": {},
   "outputs": [
    {
     "name": "stdout",
     "output_type": "stream",
     "text": [
      "       tag_id    tag_name\n",
      "34247   34247   Ｃhildrens\n",
      "34248   34248   Ｆａｖｏｒｉｔｅｓ\n",
      "34249   34249       Ｍａｎｇａ\n",
      "34250   34250      ＳＥＲＩＥＳ\n",
      "34251   34251  ｆａｖｏｕｒｉｔｅｓ\n"
     ]
    },
    {
     "data": {
      "text/plain": [
       "(34252, 2)"
      ]
     },
     "execution_count": 51,
     "metadata": {},
     "output_type": "execute_result"
    }
   ],
   "source": [
    "# Tags given by users given name\n",
    "print(user_tags.tail())\n",
    "user_tags.shape\n"
   ]
  },
  {
   "cell_type": "markdown",
   "id": "a9a6bf02-055d-4478-817f-7e5fdce669e6",
   "metadata": {
    "tags": []
   },
   "source": [
    "## Cleaning up the Datasets\n"
   ]
  },
  {
   "cell_type": "markdown",
   "id": "5cf103cd-130f-4cdb-befb-1eb5cc53819a",
   "metadata": {},
   "source": [
    "### Cleaning the Books Dataset"
   ]
  },
  {
   "cell_type": "markdown",
   "id": "5d87ffa9-b43b-47d5-9070-2b194c158247",
   "metadata": {},
   "source": [
    "Drop the columns of no interest for analysis, the image_url columns."
   ]
  },
  {
   "cell_type": "code",
   "execution_count": 52,
   "id": "5794df93-cd15-4064-bc28-b6ca51c964fe",
   "metadata": {},
   "outputs": [
    {
     "data": {
      "text/html": [
       "<div>\n",
       "<style scoped>\n",
       "    .dataframe tbody tr th:only-of-type {\n",
       "        vertical-align: middle;\n",
       "    }\n",
       "\n",
       "    .dataframe tbody tr th {\n",
       "        vertical-align: top;\n",
       "    }\n",
       "\n",
       "    .dataframe thead th {\n",
       "        text-align: right;\n",
       "    }\n",
       "</style>\n",
       "<table border=\"1\" class=\"dataframe\">\n",
       "  <thead>\n",
       "    <tr style=\"text-align: right;\">\n",
       "      <th></th>\n",
       "      <th>id</th>\n",
       "      <th>book_id</th>\n",
       "      <th>best_book_id</th>\n",
       "      <th>work_id</th>\n",
       "      <th>books_count</th>\n",
       "      <th>isbn</th>\n",
       "      <th>isbn13</th>\n",
       "      <th>authors</th>\n",
       "      <th>original_publication_year</th>\n",
       "      <th>original_title</th>\n",
       "      <th>title</th>\n",
       "      <th>language_code</th>\n",
       "      <th>average_rating</th>\n",
       "      <th>ratings_count</th>\n",
       "      <th>work_ratings_count</th>\n",
       "      <th>work_text_reviews_count</th>\n",
       "      <th>ratings_1</th>\n",
       "      <th>ratings_2</th>\n",
       "      <th>ratings_3</th>\n",
       "      <th>ratings_4</th>\n",
       "      <th>ratings_5</th>\n",
       "    </tr>\n",
       "  </thead>\n",
       "  <tbody>\n",
       "    <tr>\n",
       "      <th>0</th>\n",
       "      <td>1</td>\n",
       "      <td>2767052</td>\n",
       "      <td>2767052</td>\n",
       "      <td>2792775</td>\n",
       "      <td>272</td>\n",
       "      <td>439023483</td>\n",
       "      <td>9.780439e+12</td>\n",
       "      <td>Suzanne Collins</td>\n",
       "      <td>2008.0</td>\n",
       "      <td>The Hunger Games</td>\n",
       "      <td>The Hunger Games (The Hunger Games, #1)</td>\n",
       "      <td>eng</td>\n",
       "      <td>4.34</td>\n",
       "      <td>4780653</td>\n",
       "      <td>4942365</td>\n",
       "      <td>155254</td>\n",
       "      <td>66715</td>\n",
       "      <td>127936</td>\n",
       "      <td>560092</td>\n",
       "      <td>1481305</td>\n",
       "      <td>2706317</td>\n",
       "    </tr>\n",
       "    <tr>\n",
       "      <th>1</th>\n",
       "      <td>2</td>\n",
       "      <td>3</td>\n",
       "      <td>3</td>\n",
       "      <td>4640799</td>\n",
       "      <td>491</td>\n",
       "      <td>439554934</td>\n",
       "      <td>9.780440e+12</td>\n",
       "      <td>J.K. Rowling, Mary GrandPré</td>\n",
       "      <td>1997.0</td>\n",
       "      <td>Harry Potter and the Philosopher's Stone</td>\n",
       "      <td>Harry Potter and the Sorcerer's Stone (Harry P...</td>\n",
       "      <td>eng</td>\n",
       "      <td>4.44</td>\n",
       "      <td>4602479</td>\n",
       "      <td>4800065</td>\n",
       "      <td>75867</td>\n",
       "      <td>75504</td>\n",
       "      <td>101676</td>\n",
       "      <td>455024</td>\n",
       "      <td>1156318</td>\n",
       "      <td>3011543</td>\n",
       "    </tr>\n",
       "    <tr>\n",
       "      <th>2</th>\n",
       "      <td>3</td>\n",
       "      <td>41865</td>\n",
       "      <td>41865</td>\n",
       "      <td>3212258</td>\n",
       "      <td>226</td>\n",
       "      <td>316015849</td>\n",
       "      <td>9.780316e+12</td>\n",
       "      <td>Stephenie Meyer</td>\n",
       "      <td>2005.0</td>\n",
       "      <td>Twilight</td>\n",
       "      <td>Twilight (Twilight, #1)</td>\n",
       "      <td>en-US</td>\n",
       "      <td>3.57</td>\n",
       "      <td>3866839</td>\n",
       "      <td>3916824</td>\n",
       "      <td>95009</td>\n",
       "      <td>456191</td>\n",
       "      <td>436802</td>\n",
       "      <td>793319</td>\n",
       "      <td>875073</td>\n",
       "      <td>1355439</td>\n",
       "    </tr>\n",
       "    <tr>\n",
       "      <th>3</th>\n",
       "      <td>4</td>\n",
       "      <td>2657</td>\n",
       "      <td>2657</td>\n",
       "      <td>3275794</td>\n",
       "      <td>487</td>\n",
       "      <td>61120081</td>\n",
       "      <td>9.780061e+12</td>\n",
       "      <td>Harper Lee</td>\n",
       "      <td>1960.0</td>\n",
       "      <td>To Kill a Mockingbird</td>\n",
       "      <td>To Kill a Mockingbird</td>\n",
       "      <td>eng</td>\n",
       "      <td>4.25</td>\n",
       "      <td>3198671</td>\n",
       "      <td>3340896</td>\n",
       "      <td>72586</td>\n",
       "      <td>60427</td>\n",
       "      <td>117415</td>\n",
       "      <td>446835</td>\n",
       "      <td>1001952</td>\n",
       "      <td>1714267</td>\n",
       "    </tr>\n",
       "    <tr>\n",
       "      <th>4</th>\n",
       "      <td>5</td>\n",
       "      <td>4671</td>\n",
       "      <td>4671</td>\n",
       "      <td>245494</td>\n",
       "      <td>1356</td>\n",
       "      <td>743273567</td>\n",
       "      <td>9.780743e+12</td>\n",
       "      <td>F. Scott Fitzgerald</td>\n",
       "      <td>1925.0</td>\n",
       "      <td>The Great Gatsby</td>\n",
       "      <td>The Great Gatsby</td>\n",
       "      <td>eng</td>\n",
       "      <td>3.89</td>\n",
       "      <td>2683664</td>\n",
       "      <td>2773745</td>\n",
       "      <td>51992</td>\n",
       "      <td>86236</td>\n",
       "      <td>197621</td>\n",
       "      <td>606158</td>\n",
       "      <td>936012</td>\n",
       "      <td>947718</td>\n",
       "    </tr>\n",
       "  </tbody>\n",
       "</table>\n",
       "</div>"
      ],
      "text/plain": [
       "   id  book_id  best_book_id  work_id  books_count       isbn        isbn13  \\\n",
       "0   1  2767052       2767052  2792775          272  439023483  9.780439e+12   \n",
       "1   2        3             3  4640799          491  439554934  9.780440e+12   \n",
       "2   3    41865         41865  3212258          226  316015849  9.780316e+12   \n",
       "3   4     2657          2657  3275794          487   61120081  9.780061e+12   \n",
       "4   5     4671          4671   245494         1356  743273567  9.780743e+12   \n",
       "\n",
       "                       authors  original_publication_year  \\\n",
       "0              Suzanne Collins                     2008.0   \n",
       "1  J.K. Rowling, Mary GrandPré                     1997.0   \n",
       "2              Stephenie Meyer                     2005.0   \n",
       "3                   Harper Lee                     1960.0   \n",
       "4          F. Scott Fitzgerald                     1925.0   \n",
       "\n",
       "                             original_title  \\\n",
       "0                          The Hunger Games   \n",
       "1  Harry Potter and the Philosopher's Stone   \n",
       "2                                  Twilight   \n",
       "3                     To Kill a Mockingbird   \n",
       "4                          The Great Gatsby   \n",
       "\n",
       "                                               title language_code  \\\n",
       "0            The Hunger Games (The Hunger Games, #1)           eng   \n",
       "1  Harry Potter and the Sorcerer's Stone (Harry P...           eng   \n",
       "2                            Twilight (Twilight, #1)         en-US   \n",
       "3                              To Kill a Mockingbird           eng   \n",
       "4                                   The Great Gatsby           eng   \n",
       "\n",
       "   average_rating  ratings_count  work_ratings_count  work_text_reviews_count  \\\n",
       "0            4.34        4780653             4942365                   155254   \n",
       "1            4.44        4602479             4800065                    75867   \n",
       "2            3.57        3866839             3916824                    95009   \n",
       "3            4.25        3198671             3340896                    72586   \n",
       "4            3.89        2683664             2773745                    51992   \n",
       "\n",
       "   ratings_1  ratings_2  ratings_3  ratings_4  ratings_5  \n",
       "0      66715     127936     560092    1481305    2706317  \n",
       "1      75504     101676     455024    1156318    3011543  \n",
       "2     456191     436802     793319     875073    1355439  \n",
       "3      60427     117415     446835    1001952    1714267  \n",
       "4      86236     197621     606158     936012     947718  "
      ]
     },
     "execution_count": 52,
     "metadata": {},
     "output_type": "execute_result"
    }
   ],
   "source": [
    "books_dataset = books_dataset.drop(columns = [\"image_url\", \"small_image_url\"]) \n",
    "books_dataset.head()"
   ]
  },
  {
   "cell_type": "code",
   "execution_count": 53,
   "id": "88c921f4-db1b-49ae-97c1-190b83e40663",
   "metadata": {},
   "outputs": [
    {
     "data": {
      "text/plain": [
       "id                           False\n",
       "book_id                      False\n",
       "best_book_id                 False\n",
       "work_id                      False\n",
       "books_count                  False\n",
       "isbn                          True\n",
       "isbn13                        True\n",
       "authors                      False\n",
       "original_publication_year     True\n",
       "original_title                True\n",
       "title                        False\n",
       "language_code                 True\n",
       "average_rating               False\n",
       "ratings_count                False\n",
       "work_ratings_count           False\n",
       "work_text_reviews_count      False\n",
       "ratings_1                    False\n",
       "ratings_2                    False\n",
       "ratings_3                    False\n",
       "ratings_4                    False\n",
       "ratings_5                    False\n",
       "dtype: bool"
      ]
     },
     "execution_count": 53,
     "metadata": {},
     "output_type": "execute_result"
    }
   ],
   "source": [
    "books_dataset.isnull().any()\n"
   ]
  },
  {
   "cell_type": "markdown",
   "id": "b330b9f6-c589-46c5-95e2-866d130882a2",
   "metadata": {},
   "source": [
    "We are going to drop the few rows containing null values in the books_dataset to make some of the further analysis cleaner, this should not skew the dataset too much as we have plenty of observations for the limited amount of analyses we are going to conduct on the books_dataset. "
   ]
  },
  {
   "cell_type": "code",
   "execution_count": 54,
   "id": "c39b0bc3-b2ca-4f65-aa0a-8f91b1ba5dc5",
   "metadata": {},
   "outputs": [],
   "source": [
    "books_dataset = books_dataset.dropna()\n"
   ]
  },
  {
   "cell_type": "markdown",
   "id": "5a6b1e38-a1f0-4b8b-8d82-a6e270b3e3a7",
   "metadata": {
    "tags": []
   },
   "source": [
    "### Cleaning the Ratings Dataset\n"
   ]
  },
  {
   "cell_type": "code",
   "execution_count": 55,
   "id": "887323af-686e-42a3-9cf6-e3dff4481033",
   "metadata": {},
   "outputs": [
    {
     "data": {
      "text/html": [
       "<div>\n",
       "<style scoped>\n",
       "    .dataframe tbody tr th:only-of-type {\n",
       "        vertical-align: middle;\n",
       "    }\n",
       "\n",
       "    .dataframe tbody tr th {\n",
       "        vertical-align: top;\n",
       "    }\n",
       "\n",
       "    .dataframe thead th {\n",
       "        text-align: right;\n",
       "    }\n",
       "</style>\n",
       "<table border=\"1\" class=\"dataframe\">\n",
       "  <thead>\n",
       "    <tr style=\"text-align: right;\">\n",
       "      <th></th>\n",
       "      <th>book_id</th>\n",
       "      <th>user_id</th>\n",
       "      <th>rating</th>\n",
       "    </tr>\n",
       "  </thead>\n",
       "  <tbody>\n",
       "    <tr>\n",
       "      <th>117889</th>\n",
       "      <td>1180</td>\n",
       "      <td>1</td>\n",
       "      <td>4</td>\n",
       "    </tr>\n",
       "    <tr>\n",
       "      <th>488112</th>\n",
       "      <td>4893</td>\n",
       "      <td>1</td>\n",
       "      <td>3</td>\n",
       "    </tr>\n",
       "    <tr>\n",
       "      <th>625717</th>\n",
       "      <td>6285</td>\n",
       "      <td>1</td>\n",
       "      <td>4</td>\n",
       "    </tr>\n",
       "    <tr>\n",
       "      <th>796318</th>\n",
       "      <td>8034</td>\n",
       "      <td>2</td>\n",
       "      <td>4</td>\n",
       "    </tr>\n",
       "    <tr>\n",
       "      <th>875008</th>\n",
       "      <td>8855</td>\n",
       "      <td>2</td>\n",
       "      <td>5</td>\n",
       "    </tr>\n",
       "  </tbody>\n",
       "</table>\n",
       "</div>"
      ],
      "text/plain": [
       "        book_id  user_id  rating\n",
       "117889     1180        1       4\n",
       "488112     4893        1       3\n",
       "625717     6285        1       4\n",
       "796318     8034        2       4\n",
       "875008     8855        2       5"
      ]
     },
     "execution_count": 55,
     "metadata": {},
     "output_type": "execute_result"
    }
   ],
   "source": [
    "ratings = ratings.sort_values([\"user_id\", \"book_id\"]) \n",
    "ratings.head()\n"
   ]
  },
  {
   "cell_type": "markdown",
   "id": "754a145e-25ef-4605-8863-0667838e5ae8",
   "metadata": {},
   "source": [
    "We know there are no null values to worry about from the above examination of the ratings dataset with .isnull().any() returning false for all of the categories, but we still need to worry about duplicates in case a user has managed to rate a book more than once."
   ]
  },
  {
   "cell_type": "code",
   "execution_count": 56,
   "id": "c4f8b6fe-44df-4cba-8aa2-cf42baa904e5",
   "metadata": {},
   "outputs": [
    {
     "data": {
      "text/plain": [
       "2278"
      ]
     },
     "execution_count": 56,
     "metadata": {},
     "output_type": "execute_result"
    }
   ],
   "source": [
    "#Are there duplicate ratings? \n",
    "\n",
    "ratings.duplicated(['user_id', 'book_id']).sum()"
   ]
  },
  {
   "cell_type": "markdown",
   "id": "0f62e917-9a26-404c-9448-4e18625a4465",
   "metadata": {},
   "source": [
    "There are 2,278 duplicate user ratings in the given dataset, so somehow certain users were able to give the same book multiple ratings which if left in the dataset will skew our analysis of the ratings datset. "
   ]
  },
  {
   "cell_type": "code",
   "execution_count": 57,
   "id": "cfb7b3ed-ba85-4ba7-ab3e-b090774be393",
   "metadata": {},
   "outputs": [
    {
     "data": {
      "text/html": [
       "<div>\n",
       "<style scoped>\n",
       "    .dataframe tbody tr th:only-of-type {\n",
       "        vertical-align: middle;\n",
       "    }\n",
       "\n",
       "    .dataframe tbody tr th {\n",
       "        vertical-align: top;\n",
       "    }\n",
       "\n",
       "    .dataframe thead th {\n",
       "        text-align: right;\n",
       "    }\n",
       "</style>\n",
       "<table border=\"1\" class=\"dataframe\">\n",
       "  <thead>\n",
       "    <tr style=\"text-align: right;\">\n",
       "      <th></th>\n",
       "      <th>book_id</th>\n",
       "      <th>user_id</th>\n",
       "      <th>rating</th>\n",
       "    </tr>\n",
       "  </thead>\n",
       "  <tbody>\n",
       "    <tr>\n",
       "      <th>459829</th>\n",
       "      <td>4608</td>\n",
       "      <td>7</td>\n",
       "      <td>2</td>\n",
       "    </tr>\n",
       "    <tr>\n",
       "      <th>883646</th>\n",
       "      <td>8946</td>\n",
       "      <td>16</td>\n",
       "      <td>3</td>\n",
       "    </tr>\n",
       "    <tr>\n",
       "      <th>702003</th>\n",
       "      <td>7063</td>\n",
       "      <td>17</td>\n",
       "      <td>5</td>\n",
       "    </tr>\n",
       "    <tr>\n",
       "      <th>613365</th>\n",
       "      <td>6160</td>\n",
       "      <td>25</td>\n",
       "      <td>4</td>\n",
       "    </tr>\n",
       "    <tr>\n",
       "      <th>883649</th>\n",
       "      <td>8946</td>\n",
       "      <td>25</td>\n",
       "      <td>5</td>\n",
       "    </tr>\n",
       "  </tbody>\n",
       "</table>\n",
       "</div>"
      ],
      "text/plain": [
       "        book_id  user_id  rating\n",
       "459829     4608        7       2\n",
       "883646     8946       16       3\n",
       "702003     7063       17       5\n",
       "613365     6160       25       4\n",
       "883649     8946       25       5"
      ]
     },
     "execution_count": 57,
     "metadata": {},
     "output_type": "execute_result"
    }
   ],
   "source": [
    "#Create a dataset containing all of the duplications for further inspection\n",
    "dupes = ratings[ratings.duplicated(['user_id', 'book_id'])].sort_values('user_id') \n",
    "dupes.head()"
   ]
  },
  {
   "cell_type": "markdown",
   "id": "3c450bad-0f47-4078-aa11-69a46f74e509",
   "metadata": {},
   "source": [
    "Lets isolate a user from the duplicates dataset created and examine their ratings from the full ratings dataset and see which books they have rated more than once.\\\n",
    "For this case user_id 16 was chosen as shown below:"
   ]
  },
  {
   "cell_type": "code",
   "execution_count": 58,
   "id": "7b69c5e8-76d3-4db0-9af6-ea6e0d4d73e5",
   "metadata": {},
   "outputs": [
    {
     "data": {
      "text/html": [
       "<div>\n",
       "<style scoped>\n",
       "    .dataframe tbody tr th:only-of-type {\n",
       "        vertical-align: middle;\n",
       "    }\n",
       "\n",
       "    .dataframe tbody tr th {\n",
       "        vertical-align: top;\n",
       "    }\n",
       "\n",
       "    .dataframe thead th {\n",
       "        text-align: right;\n",
       "    }\n",
       "</style>\n",
       "<table border=\"1\" class=\"dataframe\">\n",
       "  <thead>\n",
       "    <tr style=\"text-align: right;\">\n",
       "      <th></th>\n",
       "      <th>book_id</th>\n",
       "      <th>user_id</th>\n",
       "      <th>rating</th>\n",
       "    </tr>\n",
       "  </thead>\n",
       "  <tbody>\n",
       "    <tr>\n",
       "      <th>613362</th>\n",
       "      <td>6160</td>\n",
       "      <td>16</td>\n",
       "      <td>4</td>\n",
       "    </tr>\n",
       "    <tr>\n",
       "      <th>673669</th>\n",
       "      <td>6772</td>\n",
       "      <td>16</td>\n",
       "      <td>3</td>\n",
       "    </tr>\n",
       "    <tr>\n",
       "      <th>877620</th>\n",
       "      <td>8882</td>\n",
       "      <td>16</td>\n",
       "      <td>3</td>\n",
       "    </tr>\n",
       "    <tr>\n",
       "      <th>883645</th>\n",
       "      <td>8946</td>\n",
       "      <td>16</td>\n",
       "      <td>5</td>\n",
       "    </tr>\n",
       "    <tr>\n",
       "      <th>883646</th>\n",
       "      <td>8946</td>\n",
       "      <td>16</td>\n",
       "      <td>3</td>\n",
       "    </tr>\n",
       "    <tr>\n",
       "      <th>931736</th>\n",
       "      <td>9460</td>\n",
       "      <td>16</td>\n",
       "      <td>5</td>\n",
       "    </tr>\n",
       "    <tr>\n",
       "      <th>968640</th>\n",
       "      <td>9858</td>\n",
       "      <td>16</td>\n",
       "      <td>4</td>\n",
       "    </tr>\n",
       "  </tbody>\n",
       "</table>\n",
       "</div>"
      ],
      "text/plain": [
       "        book_id  user_id  rating\n",
       "613362     6160       16       4\n",
       "673669     6772       16       3\n",
       "877620     8882       16       3\n",
       "883645     8946       16       5\n",
       "883646     8946       16       3\n",
       "931736     9460       16       5\n",
       "968640     9858       16       4"
      ]
     },
     "execution_count": 58,
     "metadata": {},
     "output_type": "execute_result"
    }
   ],
   "source": [
    "#User 16 has rated book 8946 twice somehow\n",
    "dupe_for_user_16 = ratings[ratings['user_id'] == 16] \n",
    "dupe_for_user_16.sort_values('book_id')"
   ]
  },
  {
   "cell_type": "markdown",
   "id": "fd4546fb-da2e-4d58-bcad-4acf864522d7",
   "metadata": {
    "tags": []
   },
   "source": [
    "#### Drop the duplicates from the ratings dataset\n"
   ]
  },
  {
   "cell_type": "markdown",
   "id": "89386f2c-4040-4bd5-bd3b-680bbe58d753",
   "metadata": {},
   "source": [
    "As seen above the user 16 was able to rate the book with id 8946 twice, and 2,278 other users were able to duplicate their ratings on books, to fix this we are going to drop all of the duplicates in the ratings dataset and create a ratings_final dataframe with only one rating per book_id for each user."
   ]
  },
  {
   "cell_type": "code",
   "execution_count": 59,
   "id": "ae8d630e-bb7d-40ad-9b9e-8dbb3b16d3ed",
   "metadata": {},
   "outputs": [
    {
     "data": {
      "text/plain": [
       "(979478, 3)"
      ]
     },
     "execution_count": 59,
     "metadata": {},
     "output_type": "execute_result"
    }
   ],
   "source": [
    "ratings_final = ratings.drop_duplicates(subset = ['user_id', 'book_id'], keep = 'first')\n",
    "ratings_final.shape\n",
    "\n"
   ]
  },
  {
   "cell_type": "code",
   "execution_count": 60,
   "id": "9b8c7870-96a1-4902-9d63-61e9382f95fd",
   "metadata": {},
   "outputs": [
    {
     "data": {
      "text/html": [
       "<div>\n",
       "<style scoped>\n",
       "    .dataframe tbody tr th:only-of-type {\n",
       "        vertical-align: middle;\n",
       "    }\n",
       "\n",
       "    .dataframe tbody tr th {\n",
       "        vertical-align: top;\n",
       "    }\n",
       "\n",
       "    .dataframe thead th {\n",
       "        text-align: right;\n",
       "    }\n",
       "</style>\n",
       "<table border=\"1\" class=\"dataframe\">\n",
       "  <thead>\n",
       "    <tr style=\"text-align: right;\">\n",
       "      <th></th>\n",
       "      <th>book_id</th>\n",
       "      <th>user_id</th>\n",
       "      <th>rating</th>\n",
       "    </tr>\n",
       "  </thead>\n",
       "  <tbody>\n",
       "    <tr>\n",
       "      <th>613362</th>\n",
       "      <td>6160</td>\n",
       "      <td>16</td>\n",
       "      <td>4</td>\n",
       "    </tr>\n",
       "    <tr>\n",
       "      <th>673669</th>\n",
       "      <td>6772</td>\n",
       "      <td>16</td>\n",
       "      <td>3</td>\n",
       "    </tr>\n",
       "    <tr>\n",
       "      <th>877620</th>\n",
       "      <td>8882</td>\n",
       "      <td>16</td>\n",
       "      <td>3</td>\n",
       "    </tr>\n",
       "    <tr>\n",
       "      <th>883645</th>\n",
       "      <td>8946</td>\n",
       "      <td>16</td>\n",
       "      <td>5</td>\n",
       "    </tr>\n",
       "    <tr>\n",
       "      <th>931736</th>\n",
       "      <td>9460</td>\n",
       "      <td>16</td>\n",
       "      <td>5</td>\n",
       "    </tr>\n",
       "    <tr>\n",
       "      <th>968640</th>\n",
       "      <td>9858</td>\n",
       "      <td>16</td>\n",
       "      <td>4</td>\n",
       "    </tr>\n",
       "  </tbody>\n",
       "</table>\n",
       "</div>"
      ],
      "text/plain": [
       "        book_id  user_id  rating\n",
       "613362     6160       16       4\n",
       "673669     6772       16       3\n",
       "877620     8882       16       3\n",
       "883645     8946       16       5\n",
       "931736     9460       16       5\n",
       "968640     9858       16       4"
      ]
     },
     "execution_count": 60,
     "metadata": {},
     "output_type": "execute_result"
    }
   ],
   "source": [
    "ratings_final[ratings_final['user_id'] == 16].sort_values('book_id')"
   ]
  },
  {
   "cell_type": "markdown",
   "id": "9042011f-fead-4a41-a92d-7c00946f7365",
   "metadata": {},
   "source": [
    "We can now see in the above table that user 16 has only rated book_id 8946 the one time. \n"
   ]
  },
  {
   "cell_type": "markdown",
   "id": "2875758b-ed52-4a61-a92d-aa369924bb62",
   "metadata": {
    "tags": []
   },
   "source": [
    "# Exploration of the Ratings Dataset"
   ]
  },
  {
   "cell_type": "markdown",
   "id": "9dca01b3-d591-4970-b529-0215d530a1d6",
   "metadata": {
    "tags": []
   },
   "source": [
    "## Distribution of the Goodreads Ratings "
   ]
  },
  {
   "cell_type": "code",
   "execution_count": 61,
   "id": "29cbb1df-c21e-49c3-8192-90df95ea75a7",
   "metadata": {},
   "outputs": [
    {
     "data": {
      "image/png": "[encoded data removed]",
      "text/plain": [
       "<Figure size 360x360 with 1 Axes>"
      ]
     },
     "metadata": {},
     "output_type": "display_data"
    }
   ],
   "source": [
    "import matplotlib.pyplot as plt\n",
    "import matplotlib.style as style\n",
    "import seaborn as sns\n",
    "\n",
    "%matplotlib inline\n",
    "\n",
    "sns.set_context('notebook')\n",
    "style.use('ggplot')\n",
    "sns.set_palette('deep')\n",
    "\n",
    "\n",
    "sns.catplot(x='rating', data=ratings_final,kind='count')\n",
    "plt.title('Distribution of Ratings')\n",
    "plt.show()"
   ]
  },
  {
   "cell_type": "markdown",
   "id": "2f9f6adf-efd4-4de0-8253-3c6d4d15e167",
   "metadata": {},
   "source": [
    "The ratings dataset is left skewed with most of the ratings falling in the 3-5 range and with very few falling in the 1-2 range. This is not entirely surprising as most people who are willing to take the time to rate a book will have probably liked it enough to justify a 3 star rating, while the people who truly dislike a book likely end up putting the book down long before finishing it and therefore rarely take the time to go and rate it on goodreads."
   ]
  },
  {
   "cell_type": "code",
   "execution_count": 62,
   "id": "0098cb51-0ee3-4be6-9038-5d595877b072",
   "metadata": {},
   "outputs": [
    {
     "data": {
      "text/html": [
       "<div>\n",
       "<style scoped>\n",
       "    .dataframe tbody tr th:only-of-type {\n",
       "        vertical-align: middle;\n",
       "    }\n",
       "\n",
       "    .dataframe tbody tr th {\n",
       "        vertical-align: top;\n",
       "    }\n",
       "\n",
       "    .dataframe thead th {\n",
       "        text-align: right;\n",
       "    }\n",
       "</style>\n",
       "<table border=\"1\" class=\"dataframe\">\n",
       "  <thead>\n",
       "    <tr style=\"text-align: right;\">\n",
       "      <th></th>\n",
       "      <th>book_id</th>\n",
       "      <th>user_id</th>\n",
       "      <th>rating</th>\n",
       "    </tr>\n",
       "  </thead>\n",
       "  <tbody>\n",
       "    <tr>\n",
       "      <th>117889</th>\n",
       "      <td>1180</td>\n",
       "      <td>1</td>\n",
       "      <td>4</td>\n",
       "    </tr>\n",
       "    <tr>\n",
       "      <th>488112</th>\n",
       "      <td>4893</td>\n",
       "      <td>1</td>\n",
       "      <td>3</td>\n",
       "    </tr>\n",
       "    <tr>\n",
       "      <th>625717</th>\n",
       "      <td>6285</td>\n",
       "      <td>1</td>\n",
       "      <td>4</td>\n",
       "    </tr>\n",
       "    <tr>\n",
       "      <th>796318</th>\n",
       "      <td>8034</td>\n",
       "      <td>2</td>\n",
       "      <td>4</td>\n",
       "    </tr>\n",
       "    <tr>\n",
       "      <th>875008</th>\n",
       "      <td>8855</td>\n",
       "      <td>2</td>\n",
       "      <td>5</td>\n",
       "    </tr>\n",
       "    <tr>\n",
       "      <th>959821</th>\n",
       "      <td>9762</td>\n",
       "      <td>2</td>\n",
       "      <td>4</td>\n",
       "    </tr>\n",
       "    <tr>\n",
       "      <th>890007</th>\n",
       "      <td>9014</td>\n",
       "      <td>3</td>\n",
       "      <td>1</td>\n",
       "    </tr>\n",
       "    <tr>\n",
       "      <th>893311</th>\n",
       "      <td>9049</td>\n",
       "      <td>3</td>\n",
       "      <td>1</td>\n",
       "    </tr>\n",
       "    <tr>\n",
       "      <th>326891</th>\n",
       "      <td>3273</td>\n",
       "      <td>4</td>\n",
       "      <td>2</td>\n",
       "    </tr>\n",
       "    <tr>\n",
       "      <th>346433</th>\n",
       "      <td>3469</td>\n",
       "      <td>4</td>\n",
       "      <td>5</td>\n",
       "    </tr>\n",
       "  </tbody>\n",
       "</table>\n",
       "</div>"
      ],
      "text/plain": [
       "        book_id  user_id  rating\n",
       "117889     1180        1       4\n",
       "488112     4893        1       3\n",
       "625717     6285        1       4\n",
       "796318     8034        2       4\n",
       "875008     8855        2       5\n",
       "959821     9762        2       4\n",
       "890007     9014        3       1\n",
       "893311     9049        3       1\n",
       "326891     3273        4       2\n",
       "346433     3469        4       5"
      ]
     },
     "execution_count": 62,
     "metadata": {},
     "output_type": "execute_result"
    }
   ],
   "source": [
    "ratings_final.head(10)"
   ]
  },
  {
   "cell_type": "markdown",
   "id": "9b7e45f5-fce3-4e81-999f-ea8ea82d97de",
   "metadata": {},
   "source": [
    "## Number of Ratings Each User has made "
   ]
  },
  {
   "cell_type": "markdown",
   "id": "951b6b44-4a6a-44eb-9689-633e3db76519",
   "metadata": {
    "tags": []
   },
   "source": [
    "Lets continue to examine the ratings dataset and proceed to look at the number of books each user has managed to rate over their time on the Goodreads platform. This can be accomplished by grouping each user_id and counting the number of ratings they have made on books over their time spent reviewing on Goodreads."
   ]
  },
  {
   "cell_type": "code",
   "execution_count": 63,
   "id": "60bb02ec-37f6-4eb3-9007-a5048ca29d30",
   "metadata": {
    "tags": []
   },
   "outputs": [
    {
     "data": {
      "text/plain": [
       "user_id\n",
       "1         3\n",
       "2         3\n",
       "3         2\n",
       "4         3\n",
       "5         5\n",
       "         ..\n",
       "53420     6\n",
       "53421     8\n",
       "53422    18\n",
       "53423     2\n",
       "53424    16\n",
       "Name: rating, Length: 53424, dtype: int64"
      ]
     },
     "execution_count": 63,
     "metadata": {},
     "output_type": "execute_result"
    }
   ],
   "source": [
    "ratings_by_user = ratings_final.groupby(['user_id'])['rating'].count() #.to_frame('n_books_rated').reset_index()\n",
    "ratings_by_user"
   ]
  },
  {
   "cell_type": "code",
   "execution_count": 64,
   "id": "790b40cb-e6bf-4cf6-b630-7ed457806054",
   "metadata": {},
   "outputs": [
    {
     "data": {
      "text/plain": [
       "count    53424.000000\n",
       "mean        18.334045\n",
       "std         26.224647\n",
       "min          1.000000\n",
       "25%          3.000000\n",
       "50%          8.000000\n",
       "75%         22.000000\n",
       "max        200.000000\n",
       "Name: rating, dtype: float64"
      ]
     },
     "execution_count": 64,
     "metadata": {},
     "output_type": "execute_result"
    }
   ],
   "source": [
    "ratings_by_user.describe()"
   ]
  },
  {
   "cell_type": "markdown",
   "id": "6feb1210-32c0-4836-8134-3ed26e51d4fc",
   "metadata": {},
   "source": [
    "The mean number of ratings a user has made on Goodreads is 18.33 with a median of 8, meaning at least half the population of users on Goodreads have rated 8 books or less. We can see that the data is being influenced by outliers in this case and can verify that the data is right skewed, the ratings dataset has a right sided tail, by looking at the figure below with the Number of Ratings per User; There is a subset of users who have rated far more books than one would expect from a typical Goodreads user. "
   ]
  },
  {
   "cell_type": "code",
   "execution_count": 65,
   "id": "265ca33d-ced5-4a36-8a3a-e25dd5dbb157",
   "metadata": {},
   "outputs": [
    {
     "data": {
      "image/png": "[encoded data removed]",
      "text/plain": [
       "<Figure size 432x288 with 1 Axes>"
      ]
     },
     "metadata": {},
     "output_type": "display_data"
    }
   ],
   "source": [
    "fig, ax = plt.subplots()\n",
    "plt.hist(ratings_by_user, bins=50)\n",
    "ax.set(xlim=[0,100])\n",
    "ax.xaxis.set(ticks=range(0,100+1,5))\n",
    "ax.set(title='Number of Ratings Per User', ylabel='Count', xlabel ='Number of Books Rated by User')\n",
    "plt.show()"
   ]
  },
  {
   "cell_type": "markdown",
   "id": "cc0a4972-7c93-403f-b70e-326f9726d785",
   "metadata": {},
   "source": [
    "## Average Rating Each User Gave to Books"
   ]
  },
  {
   "cell_type": "code",
   "execution_count": 66,
   "id": "0d3eb353-a9b5-462e-8df0-d60084c862e6",
   "metadata": {},
   "outputs": [
    {
     "data": {
      "text/plain": [
       "count    53424.000000\n",
       "mean         3.876747\n",
       "std          0.621924\n",
       "min          1.000000\n",
       "25%          3.500000\n",
       "50%          3.911765\n",
       "75%          4.333333\n",
       "max          5.000000\n",
       "Name: rating, dtype: float64"
      ]
     },
     "execution_count": 66,
     "metadata": {},
     "output_type": "execute_result"
    }
   ],
   "source": [
    "avg_ratings_by_user = ratings_final.groupby(['user_id'])['rating'].mean()\n",
    "avg_ratings_by_user.describe()"
   ]
  },
  {
   "cell_type": "markdown",
   "id": "f0814010-73e8-42ba-a4e4-79c128af0d39",
   "metadata": {},
   "source": [
    "When each users ratings are grouped together we can get a sense for how they tend to rate books, do they rate every book five stars or do their ratings vary from book to book. We can see that the average user rating as a whole from the dataset is around 3.88, users tend to rate books  highly per the ratings we have analyzed with few to no one star ratings."
   ]
  },
  {
   "cell_type": "code",
   "execution_count": 67,
   "id": "392240d8-19c6-413f-bd86-b4f41c4ffa4e",
   "metadata": {},
   "outputs": [
    {
     "data": {
      "image/png": "[encoded data removed]",
      "text/plain": [
       "<Figure size 432x288 with 1 Axes>"
      ]
     },
     "metadata": {},
     "output_type": "display_data"
    }
   ],
   "source": [
    "fig, ax = plt.subplots()\n",
    "plt.hist(avg_ratings_by_user, bins=50)\n",
    "ax.xaxis.set(ticks=range(1,6,1))\n",
    "ax.set(title='Average User Star Rating', ylabel='Count', xlabel ='Average of Books Rated by User')\n",
    "plt.show()"
   ]
  },
  {
   "cell_type": "markdown",
   "id": "5a2305c5-021f-4e02-a158-7f472d46bd4d",
   "metadata": {},
   "source": [
    "From the figure above we can see that some Goodreads users do tend to rate most of the books they've read at the same value, meaning they tend to be a 4 or 5 star rater for every book read. This can be inferred from the spikes right at 3, 4, and 5 meaning their star ratings dont tend to shift around by much, these raters either really like all of the books they read and rate them as such or they tend to only rate books they've liked.\n",
    "\n",
    "The ratings come down to user preferences and how they've chosen to use Goodreads, some may only be using it as a catalog of their favorite books and review as such, while others may be using the site more seriously as a recommendation engine and rate their books on a more accurate scale for themselves to enhance the site's generated recommendations."
   ]
  },
  {
   "cell_type": "markdown",
   "id": "f31425f5-8e9b-498a-b840-7a4daf470eb6",
   "metadata": {},
   "source": [
    "## Number of ratings Per Book"
   ]
  },
  {
   "cell_type": "markdown",
   "id": "210b5932-0254-45c7-854d-0d6bac0d7f36",
   "metadata": {},
   "source": [
    "Lets look at the number of ratings each book in the dataset has: "
   ]
  },
  {
   "cell_type": "code",
   "execution_count": 68,
   "id": "6219ad57-730b-42c5-a199-d35b2e1dceed",
   "metadata": {},
   "outputs": [
    {
     "data": {
      "image/png": "[encoded data removed]",
      "text/plain": [
       "<Figure size 432x288 with 1 Axes>"
      ]
     },
     "metadata": {},
     "output_type": "display_data"
    }
   ],
   "source": [
    "ratings_per_book = ratings_final.groupby(['book_id'])['rating'].count()\n",
    "\n",
    "fig, ax = plt.subplots()\n",
    "plt.hist(ratings_per_book, bins=50)\n",
    "ax.set(xlim=[60,110])\n",
    "#ax.xaxis.set(ticks=range(0,100+1,5))\n",
    "ax.set(title='Number of Ratings Per Book', ylabel='Count', xlabel ='Number of Ratings Per Book')\n",
    "plt.show()"
   ]
  },
  {
   "cell_type": "code",
   "execution_count": 69,
   "id": "d660b2d6-1abd-4ff6-9749-0a6ca2563984",
   "metadata": {},
   "outputs": [
    {
     "data": {
      "text/plain": [
       "count    10000.000000\n",
       "mean        97.947800\n",
       "std          5.759322\n",
       "min          8.000000\n",
       "25%         99.000000\n",
       "50%        100.000000\n",
       "75%        100.000000\n",
       "max        100.000000\n",
       "Name: rating, dtype: float64"
      ]
     },
     "execution_count": 69,
     "metadata": {},
     "output_type": "execute_result"
    }
   ],
   "source": [
    "ratings_per_book.describe()"
   ]
  },
  {
   "cell_type": "markdown",
   "id": "5e85107a-07c7-4dac-9138-8714caff63c5",
   "metadata": {},
   "source": [
    "# Exploration of the books_dataset"
   ]
  },
  {
   "cell_type": "code",
   "execution_count": 70,
   "id": "685ec8f5-9acd-4985-a02e-2c393e773677",
   "metadata": {},
   "outputs": [
    {
     "data": {
      "text/html": [
       "<div>\n",
       "<style scoped>\n",
       "    .dataframe tbody tr th:only-of-type {\n",
       "        vertical-align: middle;\n",
       "    }\n",
       "\n",
       "    .dataframe tbody tr th {\n",
       "        vertical-align: top;\n",
       "    }\n",
       "\n",
       "    .dataframe thead th {\n",
       "        text-align: right;\n",
       "    }\n",
       "</style>\n",
       "<table border=\"1\" class=\"dataframe\">\n",
       "  <thead>\n",
       "    <tr style=\"text-align: right;\">\n",
       "      <th></th>\n",
       "      <th>id</th>\n",
       "      <th>book_id</th>\n",
       "      <th>best_book_id</th>\n",
       "      <th>work_id</th>\n",
       "      <th>books_count</th>\n",
       "      <th>isbn</th>\n",
       "      <th>isbn13</th>\n",
       "      <th>authors</th>\n",
       "      <th>original_publication_year</th>\n",
       "      <th>original_title</th>\n",
       "      <th>title</th>\n",
       "      <th>language_code</th>\n",
       "      <th>average_rating</th>\n",
       "      <th>ratings_count</th>\n",
       "      <th>work_ratings_count</th>\n",
       "      <th>work_text_reviews_count</th>\n",
       "      <th>ratings_1</th>\n",
       "      <th>ratings_2</th>\n",
       "      <th>ratings_3</th>\n",
       "      <th>ratings_4</th>\n",
       "      <th>ratings_5</th>\n",
       "    </tr>\n",
       "  </thead>\n",
       "  <tbody>\n",
       "    <tr>\n",
       "      <th>0</th>\n",
       "      <td>1</td>\n",
       "      <td>2767052</td>\n",
       "      <td>2767052</td>\n",
       "      <td>2792775</td>\n",
       "      <td>272</td>\n",
       "      <td>439023483</td>\n",
       "      <td>9.780439e+12</td>\n",
       "      <td>Suzanne Collins</td>\n",
       "      <td>2008.0</td>\n",
       "      <td>The Hunger Games</td>\n",
       "      <td>The Hunger Games (The Hunger Games, #1)</td>\n",
       "      <td>eng</td>\n",
       "      <td>4.34</td>\n",
       "      <td>4780653</td>\n",
       "      <td>4942365</td>\n",
       "      <td>155254</td>\n",
       "      <td>66715</td>\n",
       "      <td>127936</td>\n",
       "      <td>560092</td>\n",
       "      <td>1481305</td>\n",
       "      <td>2706317</td>\n",
       "    </tr>\n",
       "    <tr>\n",
       "      <th>1</th>\n",
       "      <td>2</td>\n",
       "      <td>3</td>\n",
       "      <td>3</td>\n",
       "      <td>4640799</td>\n",
       "      <td>491</td>\n",
       "      <td>439554934</td>\n",
       "      <td>9.780440e+12</td>\n",
       "      <td>J.K. Rowling, Mary GrandPré</td>\n",
       "      <td>1997.0</td>\n",
       "      <td>Harry Potter and the Philosopher's Stone</td>\n",
       "      <td>Harry Potter and the Sorcerer's Stone (Harry P...</td>\n",
       "      <td>eng</td>\n",
       "      <td>4.44</td>\n",
       "      <td>4602479</td>\n",
       "      <td>4800065</td>\n",
       "      <td>75867</td>\n",
       "      <td>75504</td>\n",
       "      <td>101676</td>\n",
       "      <td>455024</td>\n",
       "      <td>1156318</td>\n",
       "      <td>3011543</td>\n",
       "    </tr>\n",
       "    <tr>\n",
       "      <th>2</th>\n",
       "      <td>3</td>\n",
       "      <td>41865</td>\n",
       "      <td>41865</td>\n",
       "      <td>3212258</td>\n",
       "      <td>226</td>\n",
       "      <td>316015849</td>\n",
       "      <td>9.780316e+12</td>\n",
       "      <td>Stephenie Meyer</td>\n",
       "      <td>2005.0</td>\n",
       "      <td>Twilight</td>\n",
       "      <td>Twilight (Twilight, #1)</td>\n",
       "      <td>en-US</td>\n",
       "      <td>3.57</td>\n",
       "      <td>3866839</td>\n",
       "      <td>3916824</td>\n",
       "      <td>95009</td>\n",
       "      <td>456191</td>\n",
       "      <td>436802</td>\n",
       "      <td>793319</td>\n",
       "      <td>875073</td>\n",
       "      <td>1355439</td>\n",
       "    </tr>\n",
       "    <tr>\n",
       "      <th>3</th>\n",
       "      <td>4</td>\n",
       "      <td>2657</td>\n",
       "      <td>2657</td>\n",
       "      <td>3275794</td>\n",
       "      <td>487</td>\n",
       "      <td>61120081</td>\n",
       "      <td>9.780061e+12</td>\n",
       "      <td>Harper Lee</td>\n",
       "      <td>1960.0</td>\n",
       "      <td>To Kill a Mockingbird</td>\n",
       "      <td>To Kill a Mockingbird</td>\n",
       "      <td>eng</td>\n",
       "      <td>4.25</td>\n",
       "      <td>3198671</td>\n",
       "      <td>3340896</td>\n",
       "      <td>72586</td>\n",
       "      <td>60427</td>\n",
       "      <td>117415</td>\n",
       "      <td>446835</td>\n",
       "      <td>1001952</td>\n",
       "      <td>1714267</td>\n",
       "    </tr>\n",
       "    <tr>\n",
       "      <th>4</th>\n",
       "      <td>5</td>\n",
       "      <td>4671</td>\n",
       "      <td>4671</td>\n",
       "      <td>245494</td>\n",
       "      <td>1356</td>\n",
       "      <td>743273567</td>\n",
       "      <td>9.780743e+12</td>\n",
       "      <td>F. Scott Fitzgerald</td>\n",
       "      <td>1925.0</td>\n",
       "      <td>The Great Gatsby</td>\n",
       "      <td>The Great Gatsby</td>\n",
       "      <td>eng</td>\n",
       "      <td>3.89</td>\n",
       "      <td>2683664</td>\n",
       "      <td>2773745</td>\n",
       "      <td>51992</td>\n",
       "      <td>86236</td>\n",
       "      <td>197621</td>\n",
       "      <td>606158</td>\n",
       "      <td>936012</td>\n",
       "      <td>947718</td>\n",
       "    </tr>\n",
       "  </tbody>\n",
       "</table>\n",
       "</div>"
      ],
      "text/plain": [
       "   id  book_id  best_book_id  work_id  books_count       isbn        isbn13  \\\n",
       "0   1  2767052       2767052  2792775          272  439023483  9.780439e+12   \n",
       "1   2        3             3  4640799          491  439554934  9.780440e+12   \n",
       "2   3    41865         41865  3212258          226  316015849  9.780316e+12   \n",
       "3   4     2657          2657  3275794          487   61120081  9.780061e+12   \n",
       "4   5     4671          4671   245494         1356  743273567  9.780743e+12   \n",
       "\n",
       "                       authors  original_publication_year  \\\n",
       "0              Suzanne Collins                     2008.0   \n",
       "1  J.K. Rowling, Mary GrandPré                     1997.0   \n",
       "2              Stephenie Meyer                     2005.0   \n",
       "3                   Harper Lee                     1960.0   \n",
       "4          F. Scott Fitzgerald                     1925.0   \n",
       "\n",
       "                             original_title  \\\n",
       "0                          The Hunger Games   \n",
       "1  Harry Potter and the Philosopher's Stone   \n",
       "2                                  Twilight   \n",
       "3                     To Kill a Mockingbird   \n",
       "4                          The Great Gatsby   \n",
       "\n",
       "                                               title language_code  \\\n",
       "0            The Hunger Games (The Hunger Games, #1)           eng   \n",
       "1  Harry Potter and the Sorcerer's Stone (Harry P...           eng   \n",
       "2                            Twilight (Twilight, #1)         en-US   \n",
       "3                              To Kill a Mockingbird           eng   \n",
       "4                                   The Great Gatsby           eng   \n",
       "\n",
       "   average_rating  ratings_count  work_ratings_count  work_text_reviews_count  \\\n",
       "0            4.34        4780653             4942365                   155254   \n",
       "1            4.44        4602479             4800065                    75867   \n",
       "2            3.57        3866839             3916824                    95009   \n",
       "3            4.25        3198671             3340896                    72586   \n",
       "4            3.89        2683664             2773745                    51992   \n",
       "\n",
       "   ratings_1  ratings_2  ratings_3  ratings_4  ratings_5  \n",
       "0      66715     127936     560092    1481305    2706317  \n",
       "1      75504     101676     455024    1156318    3011543  \n",
       "2     456191     436802     793319     875073    1355439  \n",
       "3      60427     117415     446835    1001952    1714267  \n",
       "4      86236     197621     606158     936012     947718  "
      ]
     },
     "execution_count": 70,
     "metadata": {},
     "output_type": "execute_result"
    }
   ],
   "source": [
    "books_dataset.head()"
   ]
  },
  {
   "cell_type": "markdown",
   "id": "104db60f-b85d-4b98-8a04-3f8095ce5ea6",
   "metadata": {},
   "source": [
    "We can find the most read books, in this case meaning the most rated books by sorting the books_dataset on the ratings_count column. Here we are classifying most read as equivalent to most rated.\n",
    "\n",
    "We can also find the books readers seem to love the most by sorting for the highest average_rating and we will classify this as the most beloved books. "
   ]
  },
  {
   "cell_type": "markdown",
   "id": "0fb0c1cf-8b72-4691-a85a-51ea326ce4ce",
   "metadata": {
    "tags": []
   },
   "source": [
    "## Most Read Books"
   ]
  },
  {
   "cell_type": "code",
   "execution_count": 71,
   "id": "e5cbc72a-c041-4ee8-8bf1-f8fc36339ad6",
   "metadata": {},
   "outputs": [
    {
     "data": {
      "application/vnd.plotly.v1+json": {
       "config": {
        "plotlyServerURL": "https://plot.ly"
       },
       "data": [
        {
         "alignmentgroup": "True",
         "hovertemplate": "original_title=%{y}<br>ratings_count=%{x}<extra></extra>",
         "legendgroup": "The Hunger Games",
         "marker": {
          "color": "#636efa",
          "pattern": {
           "shape": ""
          }
         },
         "name": "The Hunger Games",
         "offsetgroup": "The Hunger Games",
         "orientation": "h",
         "showlegend": true,
         "textposition": "auto",
         "type": "bar",
         "x": [
          4780653
         ],
         "xaxis": "x",
         "y": [
          "The Hunger Games"
         ],
         "yaxis": "y"
        },
        {
         "alignmentgroup": "True",
         "hovertemplate": "original_title=%{y}<br>ratings_count=%{x}<extra></extra>",
         "legendgroup": "Harry Potter and the Philosopher's Stone",
         "marker": {
          "color": "#EF553B",
          "pattern": {
           "shape": ""
          }
         },
         "name": "Harry Potter and the Philosopher's Stone",
         "offsetgroup": "Harry Potter and the Philosopher's Stone",
         "orientation": "h",
         "showlegend": true,
         "textposition": "auto",
         "type": "bar",
         "x": [
          4602479
         ],
         "xaxis": "x",
         "y": [
          "Harry Potter and the Philosopher's Stone"
         ],
         "yaxis": "y"
        },
        {
         "alignmentgroup": "True",
         "hovertemplate": "original_title=%{y}<br>ratings_count=%{x}<extra></extra>",
         "legendgroup": "Twilight",
         "marker": {
          "color": "#00cc96",
          "pattern": {
           "shape": ""
          }
         },
         "name": "Twilight",
         "offsetgroup": "Twilight",
         "orientation": "h",
         "showlegend": true,
         "textposition": "auto",
         "type": "bar",
         "x": [
          3866839
         ],
         "xaxis": "x",
         "y": [
          "Twilight"
         ],
         "yaxis": "y"
        },
        {
         "alignmentgroup": "True",
         "hovertemplate": "original_title=%{y}<br>ratings_count=%{x}<extra></extra>",
         "legendgroup": "To Kill a Mockingbird",
         "marker": {
          "color": "#ab63fa",
          "pattern": {
           "shape": ""
          }
         },
         "name": "To Kill a Mockingbird",
         "offsetgroup": "To Kill a Mockingbird",
         "orientation": "h",
         "showlegend": true,
         "textposition": "auto",
         "type": "bar",
         "x": [
          3198671
         ],
         "xaxis": "x",
         "y": [
          "To Kill a Mockingbird"
         ],
         "yaxis": "y"
        },
        {
         "alignmentgroup": "True",
         "hovertemplate": "original_title=%{y}<br>ratings_count=%{x}<extra></extra>",
         "legendgroup": "The Great Gatsby",
         "marker": {
          "color": "#FFA15A",
          "pattern": {
           "shape": ""
          }
         },
         "name": "The Great Gatsby",
         "offsetgroup": "The Great Gatsby",
         "orientation": "h",
         "showlegend": true,
         "textposition": "auto",
         "type": "bar",
         "x": [
          2683664
         ],
         "xaxis": "x",
         "y": [
          "The Great Gatsby"
         ],
         "yaxis": "y"
        },
        {
         "alignmentgroup": "True",
         "hovertemplate": "original_title=%{y}<br>ratings_count=%{x}<extra></extra>",
         "legendgroup": "The Fault in Our Stars",
         "marker": {
          "color": "#19d3f3",
          "pattern": {
           "shape": ""
          }
         },
         "name": "The Fault in Our Stars",
         "offsetgroup": "The Fault in Our Stars",
         "orientation": "h",
         "showlegend": true,
         "textposition": "auto",
         "type": "bar",
         "x": [
          2346404
         ],
         "xaxis": "x",
         "y": [
          "The Fault in Our Stars"
         ],
         "yaxis": "y"
        },
        {
         "alignmentgroup": "True",
         "hovertemplate": "original_title=%{y}<br>ratings_count=%{x}<extra></extra>",
         "legendgroup": "The Hobbit or There and Back Again",
         "marker": {
          "color": "#FF6692",
          "pattern": {
           "shape": ""
          }
         },
         "name": "The Hobbit or There and Back Again",
         "offsetgroup": "The Hobbit or There and Back Again",
         "orientation": "h",
         "showlegend": true,
         "textposition": "auto",
         "type": "bar",
         "x": [
          2071616
         ],
         "xaxis": "x",
         "y": [
          "The Hobbit or There and Back Again"
         ],
         "yaxis": "y"
        },
        {
         "alignmentgroup": "True",
         "hovertemplate": "original_title=%{y}<br>ratings_count=%{x}<extra></extra>",
         "legendgroup": "The Catcher in the Rye",
         "marker": {
          "color": "#B6E880",
          "pattern": {
           "shape": ""
          }
         },
         "name": "The Catcher in the Rye",
         "offsetgroup": "The Catcher in the Rye",
         "orientation": "h",
         "showlegend": true,
         "textposition": "auto",
         "type": "bar",
         "x": [
          2044241
         ],
         "xaxis": "x",
         "y": [
          "The Catcher in the Rye"
         ],
         "yaxis": "y"
        },
        {
         "alignmentgroup": "True",
         "hovertemplate": "original_title=%{y}<br>ratings_count=%{x}<extra></extra>",
         "legendgroup": "Pride and Prejudice",
         "marker": {
          "color": "#FF97FF",
          "pattern": {
           "shape": ""
          }
         },
         "name": "Pride and Prejudice",
         "offsetgroup": "Pride and Prejudice",
         "orientation": "h",
         "showlegend": true,
         "textposition": "auto",
         "type": "bar",
         "x": [
          2035490
         ],
         "xaxis": "x",
         "y": [
          "Pride and Prejudice"
         ],
         "yaxis": "y"
        },
        {
         "alignmentgroup": "True",
         "hovertemplate": "original_title=%{y}<br>ratings_count=%{x}<extra></extra>",
         "legendgroup": "Angels & Demons ",
         "marker": {
          "color": "#FECB52",
          "pattern": {
           "shape": ""
          }
         },
         "name": "Angels & Demons ",
         "offsetgroup": "Angels & Demons ",
         "orientation": "h",
         "showlegend": true,
         "textposition": "auto",
         "type": "bar",
         "x": [
          2001311
         ],
         "xaxis": "x",
         "y": [
          "Angels & Demons "
         ],
         "yaxis": "y"
        },
        {
         "alignmentgroup": "True",
         "hovertemplate": "original_title=%{y}<br>ratings_count=%{x}<extra></extra>",
         "legendgroup": "Het Achterhuis: Dagboekbrieven 14 juni 1942 - 1 augustus 1944",
         "marker": {
          "color": "#636efa",
          "pattern": {
           "shape": ""
          }
         },
         "name": "Het Achterhuis: Dagboekbrieven 14 juni 1942 - 1 augustus 1944",
         "offsetgroup": "Het Achterhuis: Dagboekbrieven 14 juni 1942 - 1 augustus 1944",
         "orientation": "h",
         "showlegend": true,
         "textposition": "auto",
         "type": "bar",
         "x": [
          1972666
         ],
         "xaxis": "x",
         "y": [
          "Het Achterhuis: Dagboekbrieven 14 juni 1942 - 1 augustus 1944"
         ],
         "yaxis": "y"
        },
        {
         "alignmentgroup": "True",
         "hovertemplate": "original_title=%{y}<br>ratings_count=%{x}<extra></extra>",
         "legendgroup": "Nineteen Eighty-Four",
         "marker": {
          "color": "#EF553B",
          "pattern": {
           "shape": ""
          }
         },
         "name": "Nineteen Eighty-Four",
         "offsetgroup": "Nineteen Eighty-Four",
         "orientation": "h",
         "showlegend": true,
         "textposition": "auto",
         "type": "bar",
         "x": [
          1956832
         ],
         "xaxis": "x",
         "y": [
          "Nineteen Eighty-Four"
         ],
         "yaxis": "y"
        },
        {
         "alignmentgroup": "True",
         "hovertemplate": "original_title=%{y}<br>ratings_count=%{x}<extra></extra>",
         "legendgroup": "Divergent",
         "marker": {
          "color": "#00cc96",
          "pattern": {
           "shape": ""
          }
         },
         "name": "Divergent",
         "offsetgroup": "Divergent",
         "orientation": "h",
         "showlegend": true,
         "textposition": "auto",
         "type": "bar",
         "x": [
          1903563
         ],
         "xaxis": "x",
         "y": [
          "Divergent"
         ],
         "yaxis": "y"
        },
        {
         "alignmentgroup": "True",
         "hovertemplate": "original_title=%{y}<br>ratings_count=%{x}<extra></extra>",
         "legendgroup": "Animal Farm: A Fairy Story",
         "marker": {
          "color": "#ab63fa",
          "pattern": {
           "shape": ""
          }
         },
         "name": "Animal Farm: A Fairy Story",
         "offsetgroup": "Animal Farm: A Fairy Story",
         "orientation": "h",
         "showlegend": true,
         "textposition": "auto",
         "type": "bar",
         "x": [
          1881700
         ],
         "xaxis": "x",
         "y": [
          "Animal Farm: A Fairy Story"
         ],
         "yaxis": "y"
        },
        {
         "alignmentgroup": "True",
         "hovertemplate": "original_title=%{y}<br>ratings_count=%{x}<extra></extra>",
         "legendgroup": "Harry Potter and the Prisoner of Azkaban",
         "marker": {
          "color": "#FFA15A",
          "pattern": {
           "shape": ""
          }
         },
         "name": "Harry Potter and the Prisoner of Azkaban",
         "offsetgroup": "Harry Potter and the Prisoner of Azkaban",
         "orientation": "h",
         "showlegend": true,
         "textposition": "auto",
         "type": "bar",
         "x": [
          1832823
         ],
         "xaxis": "x",
         "y": [
          "Harry Potter and the Prisoner of Azkaban"
         ],
         "yaxis": "y"
        },
        {
         "alignmentgroup": "True",
         "hovertemplate": "original_title=%{y}<br>ratings_count=%{x}<extra></extra>",
         "legendgroup": "Catching Fire",
         "marker": {
          "color": "#19d3f3",
          "pattern": {
           "shape": ""
          }
         },
         "name": "Catching Fire",
         "offsetgroup": "Catching Fire",
         "orientation": "h",
         "showlegend": true,
         "textposition": "auto",
         "type": "bar",
         "x": [
          1831039
         ],
         "xaxis": "x",
         "y": [
          "Catching Fire"
         ],
         "yaxis": "y"
        },
        {
         "alignmentgroup": "True",
         "hovertemplate": "original_title=%{y}<br>ratings_count=%{x}<extra></extra>",
         "legendgroup": "The Kite Runner ",
         "marker": {
          "color": "#FF6692",
          "pattern": {
           "shape": ""
          }
         },
         "name": "The Kite Runner ",
         "offsetgroup": "The Kite Runner ",
         "orientation": "h",
         "showlegend": true,
         "textposition": "auto",
         "type": "bar",
         "x": [
          1813044
         ],
         "xaxis": "x",
         "y": [
          "The Kite Runner "
         ],
         "yaxis": "y"
        },
        {
         "alignmentgroup": "True",
         "hovertemplate": "original_title=%{y}<br>ratings_count=%{x}<extra></extra>",
         "legendgroup": "Män som hatar kvinnor",
         "marker": {
          "color": "#B6E880",
          "pattern": {
           "shape": ""
          }
         },
         "name": "Män som hatar kvinnor",
         "offsetgroup": "Män som hatar kvinnor",
         "orientation": "h",
         "showlegend": true,
         "textposition": "auto",
         "type": "bar",
         "x": [
          1808403
         ],
         "xaxis": "x",
         "y": [
          "Män som hatar kvinnor"
         ],
         "yaxis": "y"
        },
        {
         "alignmentgroup": "True",
         "hovertemplate": "original_title=%{y}<br>ratings_count=%{x}<extra></extra>",
         "legendgroup": "Harry Potter and the Chamber of Secrets",
         "marker": {
          "color": "#FF97FF",
          "pattern": {
           "shape": ""
          }
         },
         "name": "Harry Potter and the Chamber of Secrets",
         "offsetgroup": "Harry Potter and the Chamber of Secrets",
         "orientation": "h",
         "showlegend": true,
         "textposition": "auto",
         "type": "bar",
         "x": [
          1779331
         ],
         "xaxis": "x",
         "y": [
          "Harry Potter and the Chamber of Secrets"
         ],
         "yaxis": "y"
        },
        {
         "alignmentgroup": "True",
         "hovertemplate": "original_title=%{y}<br>ratings_count=%{x}<extra></extra>",
         "legendgroup": " The Fellowship of the Ring",
         "marker": {
          "color": "#FECB52",
          "pattern": {
           "shape": ""
          }
         },
         "name": " The Fellowship of the Ring",
         "offsetgroup": " The Fellowship of the Ring",
         "orientation": "h",
         "showlegend": true,
         "textposition": "auto",
         "type": "bar",
         "x": [
          1766803
         ],
         "xaxis": "x",
         "y": [
          " The Fellowship of the Ring"
         ],
         "yaxis": "y"
        }
       ],
       "layout": {
        "barmode": "relative",
        "height": 700,
        "legend": {
         "title": {
          "text": "original_title"
         },
         "tracegroupgap": 0
        },
        "template": {
         "data": {
          "bar": [
           {
            "error_x": {
             "color": "#2a3f5f"
            },
            "error_y": {
             "color": "#2a3f5f"
            },
            "marker": {
             "line": {
              "color": "#E5ECF6",
              "width": 0.5
             },
             "pattern": {
              "fillmode": "overlay",
              "size": 10,
              "solidity": 0.2
             }
            },
            "type": "bar"
           }
          ],
          "barpolar": [
           {
            "marker": {
             "line": {
              "color": "#E5ECF6",
              "width": 0.5
             },
             "pattern": {
              "fillmode": "overlay",
              "size": 10,
              "solidity": 0.2
             }
            },
            "type": "barpolar"
           }
          ],
          "carpet": [
           {
            "aaxis": {
             "endlinecolor": "#2a3f5f",
             "gridcolor": "white",
             "linecolor": "white",
             "minorgridcolor": "white",
             "startlinecolor": "#2a3f5f"
            },
            "baxis": {
             "endlinecolor": "#2a3f5f",
             "gridcolor": "white",
             "linecolor": "white",
             "minorgridcolor": "white",
             "startlinecolor": "#2a3f5f"
            },
            "type": "carpet"
           }
          ],
          "choropleth": [
           {
            "colorbar": {
             "outlinewidth": 0,
             "ticks": ""
            },
            "type": "choropleth"
           }
          ],
          "contour": [
           {
            "colorbar": {
             "outlinewidth": 0,
             "ticks": ""
            },
            "colorscale": [
             [
              0,
              "#0d0887"
             ],
             [
              0.1111111111111111,
              "#46039f"
             ],
             [
              0.2222222222222222,
              "#7201a8"
             ],
             [
              0.3333333333333333,
              "#9c179e"
             ],
             [
              0.4444444444444444,
              "#bd3786"
             ],
             [
              0.5555555555555556,
              "#d8576b"
             ],
             [
              0.6666666666666666,
              "#ed7953"
             ],
             [
              0.7777777777777778,
              "#fb9f3a"
             ],
             [
              0.8888888888888888,
              "#fdca26"
             ],
             [
              1,
              "#f0f921"
             ]
            ],
            "type": "contour"
           }
          ],
          "contourcarpet": [
           {
            "colorbar": {
             "outlinewidth": 0,
             "ticks": ""
            },
            "type": "contourcarpet"
           }
          ],
          "heatmap": [
           {
            "colorbar": {
             "outlinewidth": 0,
             "ticks": ""
            },
            "colorscale": [
             [
              0,
              "#0d0887"
             ],
             [
              0.1111111111111111,
              "#46039f"
             ],
             [
              0.2222222222222222,
              "#7201a8"
             ],
             [
              0.3333333333333333,
              "#9c179e"
             ],
             [
              0.4444444444444444,
              "#bd3786"
             ],
             [
              0.5555555555555556,
              "#d8576b"
             ],
             [
              0.6666666666666666,
              "#ed7953"
             ],
             [
              0.7777777777777778,
              "#fb9f3a"
             ],
             [
              0.8888888888888888,
              "#fdca26"
             ],
             [
              1,
              "#f0f921"
             ]
            ],
            "type": "heatmap"
           }
          ],
          "heatmapgl": [
           {
            "colorbar": {
             "outlinewidth": 0,
             "ticks": ""
            },
            "colorscale": [
             [
              0,
              "#0d0887"
             ],
             [
              0.1111111111111111,
              "#46039f"
             ],
             [
              0.2222222222222222,
              "#7201a8"
             ],
             [
              0.3333333333333333,
              "#9c179e"
             ],
             [
              0.4444444444444444,
              "#bd3786"
             ],
             [
              0.5555555555555556,
              "#d8576b"
             ],
             [
              0.6666666666666666,
              "#ed7953"
             ],
             [
              0.7777777777777778,
              "#fb9f3a"
             ],
             [
              0.8888888888888888,
              "#fdca26"
             ],
             [
              1,
              "#f0f921"
             ]
            ],
            "type": "heatmapgl"
           }
          ],
          "histogram": [
           {
            "marker": {
             "pattern": {
              "fillmode": "overlay",
              "size": 10,
              "solidity": 0.2
             }
            },
            "type": "histogram"
           }
          ],
          "histogram2d": [
           {
            "colorbar": {
             "outlinewidth": 0,
             "ticks": ""
            },
            "colorscale": [
             [
              0,
              "#0d0887"
             ],
             [
              0.1111111111111111,
              "#46039f"
             ],
             [
              0.2222222222222222,
              "#7201a8"
             ],
             [
              0.3333333333333333,
              "#9c179e"
             ],
             [
              0.4444444444444444,
              "#bd3786"
             ],
             [
              0.5555555555555556,
              "#d8576b"
             ],
             [
              0.6666666666666666,
              "#ed7953"
             ],
             [
              0.7777777777777778,
              "#fb9f3a"
             ],
             [
              0.8888888888888888,
              "#fdca26"
             ],
             [
              1,
              "#f0f921"
             ]
            ],
            "type": "histogram2d"
           }
          ],
          "histogram2dcontour": [
           {
            "colorbar": {
             "outlinewidth": 0,
             "ticks": ""
            },
            "colorscale": [
             [
              0,
              "#0d0887"
             ],
             [
              0.1111111111111111,
              "#46039f"
             ],
             [
              0.2222222222222222,
              "#7201a8"
             ],
             [
              0.3333333333333333,
              "#9c179e"
             ],
             [
              0.4444444444444444,
              "#bd3786"
             ],
             [
              0.5555555555555556,
              "#d8576b"
             ],
             [
              0.6666666666666666,
              "#ed7953"
             ],
             [
              0.7777777777777778,
              "#fb9f3a"
             ],
             [
              0.8888888888888888,
              "#fdca26"
             ],
             [
              1,
              "#f0f921"
             ]
            ],
            "type": "histogram2dcontour"
           }
          ],
          "mesh3d": [
           {
            "colorbar": {
             "outlinewidth": 0,
             "ticks": ""
            },
            "type": "mesh3d"
           }
          ],
          "parcoords": [
           {
            "line": {
             "colorbar": {
              "outlinewidth": 0,
              "ticks": ""
             }
            },
            "type": "parcoords"
           }
          ],
          "pie": [
           {
            "automargin": true,
            "type": "pie"
           }
          ],
          "scatter": [
           {
            "marker": {
             "colorbar": {
              "outlinewidth": 0,
              "ticks": ""
             }
            },
            "type": "scatter"
           }
          ],
          "scatter3d": [
           {
            "line": {
             "colorbar": {
              "outlinewidth": 0,
              "ticks": ""
             }
            },
            "marker": {
             "colorbar": {
              "outlinewidth": 0,
              "ticks": ""
             }
            },
            "type": "scatter3d"
           }
          ],
          "scattercarpet": [
           {
            "marker": {
             "colorbar": {
              "outlinewidth": 0,
              "ticks": ""
             }
            },
            "type": "scattercarpet"
           }
          ],
          "scattergeo": [
           {
            "marker": {
             "colorbar": {
              "outlinewidth": 0,
              "ticks": ""
             }
            },
            "type": "scattergeo"
           }
          ],
          "scattergl": [
           {
            "marker": {
             "colorbar": {
              "outlinewidth": 0,
              "ticks": ""
             }
            },
            "type": "scattergl"
           }
          ],
          "scattermapbox": [
           {
            "marker": {
             "colorbar": {
              "outlinewidth": 0,
              "ticks": ""
             }
            },
            "type": "scattermapbox"
           }
          ],
          "scatterpolar": [
           {
            "marker": {
             "colorbar": {
              "outlinewidth": 0,
              "ticks": ""
             }
            },
            "type": "scatterpolar"
           }
          ],
          "scatterpolargl": [
           {
            "marker": {
             "colorbar": {
              "outlinewidth": 0,
              "ticks": ""
             }
            },
            "type": "scatterpolargl"
           }
          ],
          "scatterternary": [
           {
            "marker": {
             "colorbar": {
              "outlinewidth": 0,
              "ticks": ""
             }
            },
            "type": "scatterternary"
           }
          ],
          "surface": [
           {
            "colorbar": {
             "outlinewidth": 0,
             "ticks": ""
            },
            "colorscale": [
             [
              0,
              "#0d0887"
             ],
             [
              0.1111111111111111,
              "#46039f"
             ],
             [
              0.2222222222222222,
              "#7201a8"
             ],
             [
              0.3333333333333333,
              "#9c179e"
             ],
             [
              0.4444444444444444,
              "#bd3786"
             ],
             [
              0.5555555555555556,
              "#d8576b"
             ],
             [
              0.6666666666666666,
              "#ed7953"
             ],
             [
              0.7777777777777778,
              "#fb9f3a"
             ],
             [
              0.8888888888888888,
              "#fdca26"
             ],
             [
              1,
              "#f0f921"
             ]
            ],
            "type": "surface"
           }
          ],
          "table": [
           {
            "cells": {
             "fill": {
              "color": "#EBF0F8"
             },
             "line": {
              "color": "white"
             }
            },
            "header": {
             "fill": {
              "color": "#C8D4E3"
             },
             "line": {
              "color": "white"
             }
            },
            "type": "table"
           }
          ]
         },
         "layout": {
          "annotationdefaults": {
           "arrowcolor": "#2a3f5f",
           "arrowhead": 0,
           "arrowwidth": 1
          },
          "autotypenumbers": "strict",
          "coloraxis": {
           "colorbar": {
            "outlinewidth": 0,
            "ticks": ""
           }
          },
          "colorscale": {
           "diverging": [
            [
             0,
             "#8e0152"
            ],
            [
             0.1,
             "#c51b7d"
            ],
            [
             0.2,
             "#de77ae"
            ],
            [
             0.3,
             "#f1b6da"
            ],
            [
             0.4,
             "#fde0ef"
            ],
            [
             0.5,
             "#f7f7f7"
            ],
            [
             0.6,
             "#e6f5d0"
            ],
            [
             0.7,
             "#b8e186"
            ],
            [
             0.8,
             "#7fbc41"
            ],
            [
             0.9,
             "#4d9221"
            ],
            [
             1,
             "#276419"
            ]
           ],
           "sequential": [
            [
             0,
             "#0d0887"
            ],
            [
             0.1111111111111111,
             "#46039f"
            ],
            [
             0.2222222222222222,
             "#7201a8"
            ],
            [
             0.3333333333333333,
             "#9c179e"
            ],
            [
             0.4444444444444444,
             "#bd3786"
            ],
            [
             0.5555555555555556,
             "#d8576b"
            ],
            [
             0.6666666666666666,
             "#ed7953"
            ],
            [
             0.7777777777777778,
             "#fb9f3a"
            ],
            [
             0.8888888888888888,
             "#fdca26"
            ],
            [
             1,
             "#f0f921"
            ]
           ],
           "sequentialminus": [
            [
             0,
             "#0d0887"
            ],
            [
             0.1111111111111111,
             "#46039f"
            ],
            [
             0.2222222222222222,
             "#7201a8"
            ],
            [
             0.3333333333333333,
             "#9c179e"
            ],
            [
             0.4444444444444444,
             "#bd3786"
            ],
            [
             0.5555555555555556,
             "#d8576b"
            ],
            [
             0.6666666666666666,
             "#ed7953"
            ],
            [
             0.7777777777777778,
             "#fb9f3a"
            ],
            [
             0.8888888888888888,
             "#fdca26"
            ],
            [
             1,
             "#f0f921"
            ]
           ]
          },
          "colorway": [
           "#636efa",
           "#EF553B",
           "#00cc96",
           "#ab63fa",
           "#FFA15A",
           "#19d3f3",
           "#FF6692",
           "#B6E880",
           "#FF97FF",
           "#FECB52"
          ],
          "font": {
           "color": "#2a3f5f"
          },
          "geo": {
           "bgcolor": "white",
           "lakecolor": "white",
           "landcolor": "#E5ECF6",
           "showlakes": true,
           "showland": true,
           "subunitcolor": "white"
          },
          "hoverlabel": {
           "align": "left"
          },
          "hovermode": "closest",
          "mapbox": {
           "style": "light"
          },
          "paper_bgcolor": "white",
          "plot_bgcolor": "#E5ECF6",
          "polar": {
           "angularaxis": {
            "gridcolor": "white",
            "linecolor": "white",
            "ticks": ""
           },
           "bgcolor": "#E5ECF6",
           "radialaxis": {
            "gridcolor": "white",
            "linecolor": "white",
            "ticks": ""
           }
          },
          "scene": {
           "xaxis": {
            "backgroundcolor": "#E5ECF6",
            "gridcolor": "white",
            "gridwidth": 2,
            "linecolor": "white",
            "showbackground": true,
            "ticks": "",
            "zerolinecolor": "white"
           },
           "yaxis": {
            "backgroundcolor": "#E5ECF6",
            "gridcolor": "white",
            "gridwidth": 2,
            "linecolor": "white",
            "showbackground": true,
            "ticks": "",
            "zerolinecolor": "white"
           },
           "zaxis": {
            "backgroundcolor": "#E5ECF6",
            "gridcolor": "white",
            "gridwidth": 2,
            "linecolor": "white",
            "showbackground": true,
            "ticks": "",
            "zerolinecolor": "white"
           }
          },
          "shapedefaults": {
           "line": {
            "color": "#2a3f5f"
           }
          },
          "ternary": {
           "aaxis": {
            "gridcolor": "white",
            "linecolor": "white",
            "ticks": ""
           },
           "baxis": {
            "gridcolor": "white",
            "linecolor": "white",
            "ticks": ""
           },
           "bgcolor": "#E5ECF6",
           "caxis": {
            "gridcolor": "white",
            "linecolor": "white",
            "ticks": ""
           }
          },
          "title": {
           "x": 0.05
          },
          "xaxis": {
           "automargin": true,
           "gridcolor": "white",
           "linecolor": "white",
           "ticks": "",
           "title": {
            "standoff": 15
           },
           "zerolinecolor": "white",
           "zerolinewidth": 2
          },
          "yaxis": {
           "automargin": true,
           "gridcolor": "white",
           "linecolor": "white",
           "ticks": "",
           "title": {
            "standoff": 15
           },
           "zerolinecolor": "white",
           "zerolinewidth": 2
          }
         }
        },
        "title": {
         "text": "Most Freqeuntly Read Books and Their Average Rating"
        },
        "width": 1500,
        "xaxis": {
         "anchor": "y",
         "autorange": true,
         "domain": [
          0,
          1
         ],
         "range": [
          0,
          5032266.315789473
         ],
         "title": {
          "text": "ratings_count"
         },
         "type": "linear"
        },
        "yaxis": {
         "anchor": "x",
         "autorange": true,
         "categoryarray": [
          " The Fellowship of the Ring",
          "Harry Potter and the Chamber of Secrets",
          "Män som hatar kvinnor",
          "The Kite Runner ",
          "Catching Fire",
          "Harry Potter and the Prisoner of Azkaban",
          "Animal Farm: A Fairy Story",
          "Divergent",
          "Nineteen Eighty-Four",
          "Het Achterhuis: Dagboekbrieven 14 juni 1942 - 1 augustus 1944",
          "Angels & Demons ",
          "Pride and Prejudice",
          "The Catcher in the Rye",
          "The Hobbit or There and Back Again",
          "The Fault in Our Stars",
          "The Great Gatsby",
          "To Kill a Mockingbird",
          "Twilight",
          "Harry Potter and the Philosopher's Stone",
          "The Hunger Games"
         ],
         "categoryorder": "array",
         "domain": [
          0,
          1
         ],
         "range": [
          -0.5,
          19.5
         ],
         "title": {
          "text": "original_title"
         },
         "type": "category"
        }
       }
      },
      "image/png": "[encoded data removed]",
      "text/html": [
       "<div>                            <div id=\"c755fc58-752d-4499-b47f-a54bbe8c40b5\" class=\"plotly-graph-div\" style=\"height:700px; width:1500px;\"></div>            <script type=\"text/javascript\">                require([\"plotly\"], function(Plotly) {                    window.PLOTLYENV=window.PLOTLYENV || {};                                    if (document.getElementById(\"c755fc58-752d-4499-b47f-a54bbe8c40b5\")) {                    Plotly.newPlot(                        \"c755fc58-752d-4499-b47f-a54bbe8c40b5\",                        [{\"alignmentgroup\":\"True\",\"hovertemplate\":\"original_title=%{y}<br>ratings_count=%{x}<extra></extra>\",\"legendgroup\":\"The Hunger Games\",\"marker\":{\"color\":\"#636efa\",\"pattern\":{\"shape\":\"\"}},\"name\":\"The Hunger Games\",\"offsetgroup\":\"The Hunger Games\",\"orientation\":\"h\",\"showlegend\":true,\"textposition\":\"auto\",\"type\":\"bar\",\"x\":[4780653],\"xaxis\":\"x\",\"y\":[\"The Hunger Games\"],\"yaxis\":\"y\"},{\"alignmentgroup\":\"True\",\"hovertemplate\":\"original_title=%{y}<br>ratings_count=%{x}<extra></extra>\",\"legendgroup\":\"Harry Potter and the Philosopher's Stone\",\"marker\":{\"color\":\"#EF553B\",\"pattern\":{\"shape\":\"\"}},\"name\":\"Harry Potter and the Philosopher's Stone\",\"offsetgroup\":\"Harry Potter and the Philosopher's Stone\",\"orientation\":\"h\",\"showlegend\":true,\"textposition\":\"auto\",\"type\":\"bar\",\"x\":[4602479],\"xaxis\":\"x\",\"y\":[\"Harry Potter and the Philosopher's Stone\"],\"yaxis\":\"y\"},{\"alignmentgroup\":\"True\",\"hovertemplate\":\"original_title=%{y}<br>ratings_count=%{x}<extra></extra>\",\"legendgroup\":\"Twilight\",\"marker\":{\"color\":\"#00cc96\",\"pattern\":{\"shape\":\"\"}},\"name\":\"Twilight\",\"offsetgroup\":\"Twilight\",\"orientation\":\"h\",\"showlegend\":true,\"textposition\":\"auto\",\"type\":\"bar\",\"x\":[3866839],\"xaxis\":\"x\",\"y\":[\"Twilight\"],\"yaxis\":\"y\"},{\"alignmentgroup\":\"True\",\"hovertemplate\":\"original_title=%{y}<br>ratings_count=%{x}<extra></extra>\",\"legendgroup\":\"To Kill a Mockingbird\",\"marker\":{\"color\":\"#ab63fa\",\"pattern\":{\"shape\":\"\"}},\"name\":\"To Kill a Mockingbird\",\"offsetgroup\":\"To Kill a Mockingbird\",\"orientation\":\"h\",\"showlegend\":true,\"textposition\":\"auto\",\"type\":\"bar\",\"x\":[3198671],\"xaxis\":\"x\",\"y\":[\"To Kill a Mockingbird\"],\"yaxis\":\"y\"},{\"alignmentgroup\":\"True\",\"hovertemplate\":\"original_title=%{y}<br>ratings_count=%{x}<extra></extra>\",\"legendgroup\":\"The Great Gatsby\",\"marker\":{\"color\":\"#FFA15A\",\"pattern\":{\"shape\":\"\"}},\"name\":\"The Great Gatsby\",\"offsetgroup\":\"The Great Gatsby\",\"orientation\":\"h\",\"showlegend\":true,\"textposition\":\"auto\",\"type\":\"bar\",\"x\":[2683664],\"xaxis\":\"x\",\"y\":[\"The Great Gatsby\"],\"yaxis\":\"y\"},{\"alignmentgroup\":\"True\",\"hovertemplate\":\"original_title=%{y}<br>ratings_count=%{x}<extra></extra>\",\"legendgroup\":\"The Fault in Our Stars\",\"marker\":{\"color\":\"#19d3f3\",\"pattern\":{\"shape\":\"\"}},\"name\":\"The Fault in Our Stars\",\"offsetgroup\":\"The Fault in Our Stars\",\"orientation\":\"h\",\"showlegend\":true,\"textposition\":\"auto\",\"type\":\"bar\",\"x\":[2346404],\"xaxis\":\"x\",\"y\":[\"The Fault in Our Stars\"],\"yaxis\":\"y\"},{\"alignmentgroup\":\"True\",\"hovertemplate\":\"original_title=%{y}<br>ratings_count=%{x}<extra></extra>\",\"legendgroup\":\"The Hobbit or There and Back Again\",\"marker\":{\"color\":\"#FF6692\",\"pattern\":{\"shape\":\"\"}},\"name\":\"The Hobbit or There and Back Again\",\"offsetgroup\":\"The Hobbit or There and Back Again\",\"orientation\":\"h\",\"showlegend\":true,\"textposition\":\"auto\",\"type\":\"bar\",\"x\":[2071616],\"xaxis\":\"x\",\"y\":[\"The Hobbit or There and Back Again\"],\"yaxis\":\"y\"},{\"alignmentgroup\":\"True\",\"hovertemplate\":\"original_title=%{y}<br>ratings_count=%{x}<extra></extra>\",\"legendgroup\":\"The Catcher in the Rye\",\"marker\":{\"color\":\"#B6E880\",\"pattern\":{\"shape\":\"\"}},\"name\":\"The Catcher in the Rye\",\"offsetgroup\":\"The Catcher in the Rye\",\"orientation\":\"h\",\"showlegend\":true,\"textposition\":\"auto\",\"type\":\"bar\",\"x\":[2044241],\"xaxis\":\"x\",\"y\":[\"The Catcher in the Rye\"],\"yaxis\":\"y\"},{\"alignmentgroup\":\"True\",\"hovertemplate\":\"original_title=%{y}<br>ratings_count=%{x}<extra></extra>\",\"legendgroup\":\"Pride and Prejudice\",\"marker\":{\"color\":\"#FF97FF\",\"pattern\":{\"shape\":\"\"}},\"name\":\"Pride and Prejudice\",\"offsetgroup\":\"Pride and Prejudice\",\"orientation\":\"h\",\"showlegend\":true,\"textposition\":\"auto\",\"type\":\"bar\",\"x\":[2035490],\"xaxis\":\"x\",\"y\":[\"Pride and Prejudice\"],\"yaxis\":\"y\"},{\"alignmentgroup\":\"True\",\"hovertemplate\":\"original_title=%{y}<br>ratings_count=%{x}<extra></extra>\",\"legendgroup\":\"Angels & Demons \",\"marker\":{\"color\":\"#FECB52\",\"pattern\":{\"shape\":\"\"}},\"name\":\"Angels & Demons \",\"offsetgroup\":\"Angels & Demons \",\"orientation\":\"h\",\"showlegend\":true,\"textposition\":\"auto\",\"type\":\"bar\",\"x\":[2001311],\"xaxis\":\"x\",\"y\":[\"Angels & Demons \"],\"yaxis\":\"y\"},{\"alignmentgroup\":\"True\",\"hovertemplate\":\"original_title=%{y}<br>ratings_count=%{x}<extra></extra>\",\"legendgroup\":\"Het Achterhuis: Dagboekbrieven 14 juni 1942 - 1 augustus 1944\",\"marker\":{\"color\":\"#636efa\",\"pattern\":{\"shape\":\"\"}},\"name\":\"Het Achterhuis: Dagboekbrieven 14 juni 1942 - 1 augustus 1944\",\"offsetgroup\":\"Het Achterhuis: Dagboekbrieven 14 juni 1942 - 1 augustus 1944\",\"orientation\":\"h\",\"showlegend\":true,\"textposition\":\"auto\",\"type\":\"bar\",\"x\":[1972666],\"xaxis\":\"x\",\"y\":[\"Het Achterhuis: Dagboekbrieven 14 juni 1942 - 1 augustus 1944\"],\"yaxis\":\"y\"},{\"alignmentgroup\":\"True\",\"hovertemplate\":\"original_title=%{y}<br>ratings_count=%{x}<extra></extra>\",\"legendgroup\":\"Nineteen Eighty-Four\",\"marker\":{\"color\":\"#EF553B\",\"pattern\":{\"shape\":\"\"}},\"name\":\"Nineteen Eighty-Four\",\"offsetgroup\":\"Nineteen Eighty-Four\",\"orientation\":\"h\",\"showlegend\":true,\"textposition\":\"auto\",\"type\":\"bar\",\"x\":[1956832],\"xaxis\":\"x\",\"y\":[\"Nineteen Eighty-Four\"],\"yaxis\":\"y\"},{\"alignmentgroup\":\"True\",\"hovertemplate\":\"original_title=%{y}<br>ratings_count=%{x}<extra></extra>\",\"legendgroup\":\"Divergent\",\"marker\":{\"color\":\"#00cc96\",\"pattern\":{\"shape\":\"\"}},\"name\":\"Divergent\",\"offsetgroup\":\"Divergent\",\"orientation\":\"h\",\"showlegend\":true,\"textposition\":\"auto\",\"type\":\"bar\",\"x\":[1903563],\"xaxis\":\"x\",\"y\":[\"Divergent\"],\"yaxis\":\"y\"},{\"alignmentgroup\":\"True\",\"hovertemplate\":\"original_title=%{y}<br>ratings_count=%{x}<extra></extra>\",\"legendgroup\":\"Animal Farm: A Fairy Story\",\"marker\":{\"color\":\"#ab63fa\",\"pattern\":{\"shape\":\"\"}},\"name\":\"Animal Farm: A Fairy Story\",\"offsetgroup\":\"Animal Farm: A Fairy Story\",\"orientation\":\"h\",\"showlegend\":true,\"textposition\":\"auto\",\"type\":\"bar\",\"x\":[1881700],\"xaxis\":\"x\",\"y\":[\"Animal Farm: A Fairy Story\"],\"yaxis\":\"y\"},{\"alignmentgroup\":\"True\",\"hovertemplate\":\"original_title=%{y}<br>ratings_count=%{x}<extra></extra>\",\"legendgroup\":\"Harry Potter and the Prisoner of Azkaban\",\"marker\":{\"color\":\"#FFA15A\",\"pattern\":{\"shape\":\"\"}},\"name\":\"Harry Potter and the Prisoner of Azkaban\",\"offsetgroup\":\"Harry Potter and the Prisoner of Azkaban\",\"orientation\":\"h\",\"showlegend\":true,\"textposition\":\"auto\",\"type\":\"bar\",\"x\":[1832823],\"xaxis\":\"x\",\"y\":[\"Harry Potter and the Prisoner of Azkaban\"],\"yaxis\":\"y\"},{\"alignmentgroup\":\"True\",\"hovertemplate\":\"original_title=%{y}<br>ratings_count=%{x}<extra></extra>\",\"legendgroup\":\"Catching Fire\",\"marker\":{\"color\":\"#19d3f3\",\"pattern\":{\"shape\":\"\"}},\"name\":\"Catching Fire\",\"offsetgroup\":\"Catching Fire\",\"orientation\":\"h\",\"showlegend\":true,\"textposition\":\"auto\",\"type\":\"bar\",\"x\":[1831039],\"xaxis\":\"x\",\"y\":[\"Catching Fire\"],\"yaxis\":\"y\"},{\"alignmentgroup\":\"True\",\"hovertemplate\":\"original_title=%{y}<br>ratings_count=%{x}<extra></extra>\",\"legendgroup\":\"The Kite Runner \",\"marker\":{\"color\":\"#FF6692\",\"pattern\":{\"shape\":\"\"}},\"name\":\"The Kite Runner \",\"offsetgroup\":\"The Kite Runner \",\"orientation\":\"h\",\"showlegend\":true,\"textposition\":\"auto\",\"type\":\"bar\",\"x\":[1813044],\"xaxis\":\"x\",\"y\":[\"The Kite Runner \"],\"yaxis\":\"y\"},{\"alignmentgroup\":\"True\",\"hovertemplate\":\"original_title=%{y}<br>ratings_count=%{x}<extra></extra>\",\"legendgroup\":\"M\\u00e4n som hatar kvinnor\",\"marker\":{\"color\":\"#B6E880\",\"pattern\":{\"shape\":\"\"}},\"name\":\"M\\u00e4n som hatar kvinnor\",\"offsetgroup\":\"M\\u00e4n som hatar kvinnor\",\"orientation\":\"h\",\"showlegend\":true,\"textposition\":\"auto\",\"type\":\"bar\",\"x\":[1808403],\"xaxis\":\"x\",\"y\":[\"M\\u00e4n som hatar kvinnor\"],\"yaxis\":\"y\"},{\"alignmentgroup\":\"True\",\"hovertemplate\":\"original_title=%{y}<br>ratings_count=%{x}<extra></extra>\",\"legendgroup\":\"Harry Potter and the Chamber of Secrets\",\"marker\":{\"color\":\"#FF97FF\",\"pattern\":{\"shape\":\"\"}},\"name\":\"Harry Potter and the Chamber of Secrets\",\"offsetgroup\":\"Harry Potter and the Chamber of Secrets\",\"orientation\":\"h\",\"showlegend\":true,\"textposition\":\"auto\",\"type\":\"bar\",\"x\":[1779331],\"xaxis\":\"x\",\"y\":[\"Harry Potter and the Chamber of Secrets\"],\"yaxis\":\"y\"},{\"alignmentgroup\":\"True\",\"hovertemplate\":\"original_title=%{y}<br>ratings_count=%{x}<extra></extra>\",\"legendgroup\":\" The Fellowship of the Ring\",\"marker\":{\"color\":\"#FECB52\",\"pattern\":{\"shape\":\"\"}},\"name\":\" The Fellowship of the Ring\",\"offsetgroup\":\" The Fellowship of the Ring\",\"orientation\":\"h\",\"showlegend\":true,\"textposition\":\"auto\",\"type\":\"bar\",\"x\":[1766803],\"xaxis\":\"x\",\"y\":[\" The Fellowship of the Ring\"],\"yaxis\":\"y\"}],                        {\"barmode\":\"relative\",\"height\":700,\"legend\":{\"title\":{\"text\":\"original_title\"},\"tracegroupgap\":0},\"template\":{\"data\":{\"bar\":[{\"error_x\":{\"color\":\"#2a3f5f\"},\"error_y\":{\"color\":\"#2a3f5f\"},\"marker\":{\"line\":{\"color\":\"#E5ECF6\",\"width\":0.5},\"pattern\":{\"fillmode\":\"overlay\",\"size\":10,\"solidity\":0.2}},\"type\":\"bar\"}],\"barpolar\":[{\"marker\":{\"line\":{\"color\":\"#E5ECF6\",\"width\":0.5},\"pattern\":{\"fillmode\":\"overlay\",\"size\":10,\"solidity\":0.2}},\"type\":\"barpolar\"}],\"carpet\":[{\"aaxis\":{\"endlinecolor\":\"#2a3f5f\",\"gridcolor\":\"white\",\"linecolor\":\"white\",\"minorgridcolor\":\"white\",\"startlinecolor\":\"#2a3f5f\"},\"baxis\":{\"endlinecolor\":\"#2a3f5f\",\"gridcolor\":\"white\",\"linecolor\":\"white\",\"minorgridcolor\":\"white\",\"startlinecolor\":\"#2a3f5f\"},\"type\":\"carpet\"}],\"choropleth\":[{\"colorbar\":{\"outlinewidth\":0,\"ticks\":\"\"},\"type\":\"choropleth\"}],\"contour\":[{\"colorbar\":{\"outlinewidth\":0,\"ticks\":\"\"},\"colorscale\":[[0.0,\"#0d0887\"],[0.1111111111111111,\"#46039f\"],[0.2222222222222222,\"#7201a8\"],[0.3333333333333333,\"#9c179e\"],[0.4444444444444444,\"#bd3786\"],[0.5555555555555556,\"#d8576b\"],[0.6666666666666666,\"#ed7953\"],[0.7777777777777778,\"#fb9f3a\"],[0.8888888888888888,\"#fdca26\"],[1.0,\"#f0f921\"]],\"type\":\"contour\"}],\"contourcarpet\":[{\"colorbar\":{\"outlinewidth\":0,\"ticks\":\"\"},\"type\":\"contourcarpet\"}],\"heatmap\":[{\"colorbar\":{\"outlinewidth\":0,\"ticks\":\"\"},\"colorscale\":[[0.0,\"#0d0887\"],[0.1111111111111111,\"#46039f\"],[0.2222222222222222,\"#7201a8\"],[0.3333333333333333,\"#9c179e\"],[0.4444444444444444,\"#bd3786\"],[0.5555555555555556,\"#d8576b\"],[0.6666666666666666,\"#ed7953\"],[0.7777777777777778,\"#fb9f3a\"],[0.8888888888888888,\"#fdca26\"],[1.0,\"#f0f921\"]],\"type\":\"heatmap\"}],\"heatmapgl\":[{\"colorbar\":{\"outlinewidth\":0,\"ticks\":\"\"},\"colorscale\":[[0.0,\"#0d0887\"],[0.1111111111111111,\"#46039f\"],[0.2222222222222222,\"#7201a8\"],[0.3333333333333333,\"#9c179e\"],[0.4444444444444444,\"#bd3786\"],[0.5555555555555556,\"#d8576b\"],[0.6666666666666666,\"#ed7953\"],[0.7777777777777778,\"#fb9f3a\"],[0.8888888888888888,\"#fdca26\"],[1.0,\"#f0f921\"]],\"type\":\"heatmapgl\"}],\"histogram\":[{\"marker\":{\"pattern\":{\"fillmode\":\"overlay\",\"size\":10,\"solidity\":0.2}},\"type\":\"histogram\"}],\"histogram2d\":[{\"colorbar\":{\"outlinewidth\":0,\"ticks\":\"\"},\"colorscale\":[[0.0,\"#0d0887\"],[0.1111111111111111,\"#46039f\"],[0.2222222222222222,\"#7201a8\"],[0.3333333333333333,\"#9c179e\"],[0.4444444444444444,\"#bd3786\"],[0.5555555555555556,\"#d8576b\"],[0.6666666666666666,\"#ed7953\"],[0.7777777777777778,\"#fb9f3a\"],[0.8888888888888888,\"#fdca26\"],[1.0,\"#f0f921\"]],\"type\":\"histogram2d\"}],\"histogram2dcontour\":[{\"colorbar\":{\"outlinewidth\":0,\"ticks\":\"\"},\"colorscale\":[[0.0,\"#0d0887\"],[0.1111111111111111,\"#46039f\"],[0.2222222222222222,\"#7201a8\"],[0.3333333333333333,\"#9c179e\"],[0.4444444444444444,\"#bd3786\"],[0.5555555555555556,\"#d8576b\"],[0.6666666666666666,\"#ed7953\"],[0.7777777777777778,\"#fb9f3a\"],[0.8888888888888888,\"#fdca26\"],[1.0,\"#f0f921\"]],\"type\":\"histogram2dcontour\"}],\"mesh3d\":[{\"colorbar\":{\"outlinewidth\":0,\"ticks\":\"\"},\"type\":\"mesh3d\"}],\"parcoords\":[{\"line\":{\"colorbar\":{\"outlinewidth\":0,\"ticks\":\"\"}},\"type\":\"parcoords\"}],\"pie\":[{\"automargin\":true,\"type\":\"pie\"}],\"scatter\":[{\"marker\":{\"colorbar\":{\"outlinewidth\":0,\"ticks\":\"\"}},\"type\":\"scatter\"}],\"scatter3d\":[{\"line\":{\"colorbar\":{\"outlinewidth\":0,\"ticks\":\"\"}},\"marker\":{\"colorbar\":{\"outlinewidth\":0,\"ticks\":\"\"}},\"type\":\"scatter3d\"}],\"scattercarpet\":[{\"marker\":{\"colorbar\":{\"outlinewidth\":0,\"ticks\":\"\"}},\"type\":\"scattercarpet\"}],\"scattergeo\":[{\"marker\":{\"colorbar\":{\"outlinewidth\":0,\"ticks\":\"\"}},\"type\":\"scattergeo\"}],\"scattergl\":[{\"marker\":{\"colorbar\":{\"outlinewidth\":0,\"ticks\":\"\"}},\"type\":\"scattergl\"}],\"scattermapbox\":[{\"marker\":{\"colorbar\":{\"outlinewidth\":0,\"ticks\":\"\"}},\"type\":\"scattermapbox\"}],\"scatterpolar\":[{\"marker\":{\"colorbar\":{\"outlinewidth\":0,\"ticks\":\"\"}},\"type\":\"scatterpolar\"}],\"scatterpolargl\":[{\"marker\":{\"colorbar\":{\"outlinewidth\":0,\"ticks\":\"\"}},\"type\":\"scatterpolargl\"}],\"scatterternary\":[{\"marker\":{\"colorbar\":{\"outlinewidth\":0,\"ticks\":\"\"}},\"type\":\"scatterternary\"}],\"surface\":[{\"colorbar\":{\"outlinewidth\":0,\"ticks\":\"\"},\"colorscale\":[[0.0,\"#0d0887\"],[0.1111111111111111,\"#46039f\"],[0.2222222222222222,\"#7201a8\"],[0.3333333333333333,\"#9c179e\"],[0.4444444444444444,\"#bd3786\"],[0.5555555555555556,\"#d8576b\"],[0.6666666666666666,\"#ed7953\"],[0.7777777777777778,\"#fb9f3a\"],[0.8888888888888888,\"#fdca26\"],[1.0,\"#f0f921\"]],\"type\":\"surface\"}],\"table\":[{\"cells\":{\"fill\":{\"color\":\"#EBF0F8\"},\"line\":{\"color\":\"white\"}},\"header\":{\"fill\":{\"color\":\"#C8D4E3\"},\"line\":{\"color\":\"white\"}},\"type\":\"table\"}]},\"layout\":{\"annotationdefaults\":{\"arrowcolor\":\"#2a3f5f\",\"arrowhead\":0,\"arrowwidth\":1},\"autotypenumbers\":\"strict\",\"coloraxis\":{\"colorbar\":{\"outlinewidth\":0,\"ticks\":\"\"}},\"colorscale\":{\"diverging\":[[0,\"#8e0152\"],[0.1,\"#c51b7d\"],[0.2,\"#de77ae\"],[0.3,\"#f1b6da\"],[0.4,\"#fde0ef\"],[0.5,\"#f7f7f7\"],[0.6,\"#e6f5d0\"],[0.7,\"#b8e186\"],[0.8,\"#7fbc41\"],[0.9,\"#4d9221\"],[1,\"#276419\"]],\"sequential\":[[0.0,\"#0d0887\"],[0.1111111111111111,\"#46039f\"],[0.2222222222222222,\"#7201a8\"],[0.3333333333333333,\"#9c179e\"],[0.4444444444444444,\"#bd3786\"],[0.5555555555555556,\"#d8576b\"],[0.6666666666666666,\"#ed7953\"],[0.7777777777777778,\"#fb9f3a\"],[0.8888888888888888,\"#fdca26\"],[1.0,\"#f0f921\"]],\"sequentialminus\":[[0.0,\"#0d0887\"],[0.1111111111111111,\"#46039f\"],[0.2222222222222222,\"#7201a8\"],[0.3333333333333333,\"#9c179e\"],[0.4444444444444444,\"#bd3786\"],[0.5555555555555556,\"#d8576b\"],[0.6666666666666666,\"#ed7953\"],[0.7777777777777778,\"#fb9f3a\"],[0.8888888888888888,\"#fdca26\"],[1.0,\"#f0f921\"]]},\"colorway\":[\"#636efa\",\"#EF553B\",\"#00cc96\",\"#ab63fa\",\"#FFA15A\",\"#19d3f3\",\"#FF6692\",\"#B6E880\",\"#FF97FF\",\"#FECB52\"],\"font\":{\"color\":\"#2a3f5f\"},\"geo\":{\"bgcolor\":\"white\",\"lakecolor\":\"white\",\"landcolor\":\"#E5ECF6\",\"showlakes\":true,\"showland\":true,\"subunitcolor\":\"white\"},\"hoverlabel\":{\"align\":\"left\"},\"hovermode\":\"closest\",\"mapbox\":{\"style\":\"light\"},\"paper_bgcolor\":\"white\",\"plot_bgcolor\":\"#E5ECF6\",\"polar\":{\"angularaxis\":{\"gridcolor\":\"white\",\"linecolor\":\"white\",\"ticks\":\"\"},\"bgcolor\":\"#E5ECF6\",\"radialaxis\":{\"gridcolor\":\"white\",\"linecolor\":\"white\",\"ticks\":\"\"}},\"scene\":{\"xaxis\":{\"backgroundcolor\":\"#E5ECF6\",\"gridcolor\":\"white\",\"gridwidth\":2,\"linecolor\":\"white\",\"showbackground\":true,\"ticks\":\"\",\"zerolinecolor\":\"white\"},\"yaxis\":{\"backgroundcolor\":\"#E5ECF6\",\"gridcolor\":\"white\",\"gridwidth\":2,\"linecolor\":\"white\",\"showbackground\":true,\"ticks\":\"\",\"zerolinecolor\":\"white\"},\"zaxis\":{\"backgroundcolor\":\"#E5ECF6\",\"gridcolor\":\"white\",\"gridwidth\":2,\"linecolor\":\"white\",\"showbackground\":true,\"ticks\":\"\",\"zerolinecolor\":\"white\"}},\"shapedefaults\":{\"line\":{\"color\":\"#2a3f5f\"}},\"ternary\":{\"aaxis\":{\"gridcolor\":\"white\",\"linecolor\":\"white\",\"ticks\":\"\"},\"baxis\":{\"gridcolor\":\"white\",\"linecolor\":\"white\",\"ticks\":\"\"},\"bgcolor\":\"#E5ECF6\",\"caxis\":{\"gridcolor\":\"white\",\"linecolor\":\"white\",\"ticks\":\"\"}},\"title\":{\"x\":0.05},\"xaxis\":{\"automargin\":true,\"gridcolor\":\"white\",\"linecolor\":\"white\",\"ticks\":\"\",\"title\":{\"standoff\":15},\"zerolinecolor\":\"white\",\"zerolinewidth\":2},\"yaxis\":{\"automargin\":true,\"gridcolor\":\"white\",\"linecolor\":\"white\",\"ticks\":\"\",\"title\":{\"standoff\":15},\"zerolinecolor\":\"white\",\"zerolinewidth\":2}}},\"title\":{\"text\":\"Most Freqeuntly Read Books and Their Average Rating\"},\"width\":1500,\"xaxis\":{\"anchor\":\"y\",\"domain\":[0.0,1.0],\"title\":{\"text\":\"ratings_count\"}},\"yaxis\":{\"anchor\":\"x\",\"categoryarray\":[\" The Fellowship of the Ring\",\"Harry Potter and the Chamber of Secrets\",\"M\\u00e4n som hatar kvinnor\",\"The Kite Runner \",\"Catching Fire\",\"Harry Potter and the Prisoner of Azkaban\",\"Animal Farm: A Fairy Story\",\"Divergent\",\"Nineteen Eighty-Four\",\"Het Achterhuis: Dagboekbrieven 14 juni 1942 - 1 augustus 1944\",\"Angels & Demons \",\"Pride and Prejudice\",\"The Catcher in the Rye\",\"The Hobbit or There and Back Again\",\"The Fault in Our Stars\",\"The Great Gatsby\",\"To Kill a Mockingbird\",\"Twilight\",\"Harry Potter and the Philosopher's Stone\",\"The Hunger Games\"],\"categoryorder\":\"array\",\"domain\":[0.0,1.0],\"title\":{\"text\":\"original_title\"}}},                        {\"responsive\": true}                    ).then(function(){\n",
       "                            \n",
       "var gd = document.getElementById('c755fc58-752d-4499-b47f-a54bbe8c40b5');\n",
       "var x = new MutationObserver(function (mutations, observer) {{\n",
       "        var display = window.getComputedStyle(gd).display;\n",
       "        if (!display || display === 'none') {{\n",
       "            console.log([gd, 'removed!']);\n",
       "            Plotly.purge(gd);\n",
       "            observer.disconnect();\n",
       "        }}\n",
       "}});\n",
       "\n",
       "// Listen for the removal of the full notebook cells\n",
       "var notebookContainer = gd.closest('#notebook-container');\n",
       "if (notebookContainer) {{\n",
       "    x.observe(notebookContainer, {childList: true});\n",
       "}}\n",
       "\n",
       "// Listen for the clearing of the current output cell\n",
       "var outputEl = gd.closest('.output');\n",
       "if (outputEl) {{\n",
       "    x.observe(outputEl, {childList: true});\n",
       "}}\n",
       "\n",
       "                        })                };                });            </script>        </div>"
      ]
     },
     "metadata": {},
     "output_type": "display_data"
    }
   ],
   "source": [
    "import plotly.express as px\n",
    "\n",
    "most_rated = books_dataset.sort_values('ratings_count', ascending=False)\n",
    "most_rated_20 = most_rated[0:20]\n",
    "\n",
    "fig = px.bar(most_rated_20, x=\"ratings_count\", y=\"original_title\", title='Most Freqeuntly Read Books and Their Average Rating',\n",
    "             orientation='h', color='original_title', width=1500, height=700)\n",
    "fig.show()\n"
   ]
  },
  {
   "cell_type": "markdown",
   "id": "3f8b7278-7f64-41c8-a7c9-999d4d865b0c",
   "metadata": {
    "tags": []
   },
   "source": [
    "## Most Beloved Books"
   ]
  },
  {
   "cell_type": "code",
   "execution_count": 72,
   "id": "049f0850-4641-4978-8757-7c3ccfbe3590",
   "metadata": {},
   "outputs": [
    {
     "data": {
      "application/vnd.plotly.v1+json": {
       "config": {
        "plotlyServerURL": "https://plot.ly"
       },
       "data": [
        {
         "alignmentgroup": "True",
         "hovertemplate": "original_title=The Complete Calvin and Hobbes<br>average_rating=%{x}<br>title=%{y}<extra></extra>",
         "legendgroup": "The Complete Calvin and Hobbes",
         "marker": {
          "color": "#636efa",
          "pattern": {
           "shape": ""
          }
         },
         "name": "The Complete Calvin and Hobbes",
         "offsetgroup": "The Complete Calvin and Hobbes",
         "orientation": "h",
         "showlegend": true,
         "textposition": "auto",
         "type": "bar",
         "x": [
          4.82
         ],
         "xaxis": "x",
         "y": [
          "The Complete Calvin and Hobbes"
         ],
         "yaxis": "y"
        },
        {
         "alignmentgroup": "True",
         "hovertemplate": "original_title=Words of Radiance<br>average_rating=%{x}<br>title=%{y}<extra></extra>",
         "legendgroup": "Words of Radiance",
         "marker": {
          "color": "#EF553B",
          "pattern": {
           "shape": ""
          }
         },
         "name": "Words of Radiance",
         "offsetgroup": "Words of Radiance",
         "orientation": "h",
         "showlegend": true,
         "textposition": "auto",
         "type": "bar",
         "x": [
          4.77
         ],
         "xaxis": "x",
         "y": [
          "Words of Radiance (The Stormlight Archive, #2)"
         ],
         "yaxis": "y"
        },
        {
         "alignmentgroup": "True",
         "hovertemplate": "original_title=Mark of the Lion Trilogy<br>average_rating=%{x}<br>title=%{y}<extra></extra>",
         "legendgroup": "Mark of the Lion Trilogy",
         "marker": {
          "color": "#00cc96",
          "pattern": {
           "shape": ""
          }
         },
         "name": "Mark of the Lion Trilogy",
         "offsetgroup": "Mark of the Lion Trilogy",
         "orientation": "h",
         "showlegend": true,
         "textposition": "auto",
         "type": "bar",
         "x": [
          4.76
         ],
         "xaxis": "x",
         "y": [
          "Mark of the Lion Trilogy"
         ],
         "yaxis": "y"
        },
        {
         "alignmentgroup": "True",
         "hovertemplate": "original_title=It's a Magical World: A Calvin and Hobbes Collection<br>average_rating=%{x}<br>title=%{y}<extra></extra>",
         "legendgroup": "It's a Magical World: A Calvin and Hobbes Collection",
         "marker": {
          "color": "#ab63fa",
          "pattern": {
           "shape": ""
          }
         },
         "name": "It's a Magical World: A Calvin and Hobbes Collection",
         "offsetgroup": "It's a Magical World: A Calvin and Hobbes Collection",
         "orientation": "h",
         "showlegend": true,
         "textposition": "auto",
         "type": "bar",
         "x": [
          4.75
         ],
         "xaxis": "x",
         "y": [
          "It's a Magical World: A Calvin and Hobbes Collection"
         ],
         "yaxis": "y"
        },
        {
         "alignmentgroup": "True",
         "hovertemplate": "original_title=There's Treasure Everywhere: A Calvin and Hobbes Collection<br>average_rating=%{x}<br>title=%{y}<extra></extra>",
         "legendgroup": "There's Treasure Everywhere: A Calvin and Hobbes Collection",
         "marker": {
          "color": "#FFA15A",
          "pattern": {
           "shape": ""
          }
         },
         "name": "There's Treasure Everywhere: A Calvin and Hobbes Collection",
         "offsetgroup": "There's Treasure Everywhere: A Calvin and Hobbes Collection",
         "orientation": "h",
         "showlegend": true,
         "textposition": "auto",
         "type": "bar",
         "x": [
          4.74
         ],
         "xaxis": "x",
         "y": [
          "There's Treasure Everywhere: A Calvin and Hobbes Collection"
         ],
         "yaxis": "y"
        },
        {
         "alignmentgroup": "True",
         "hovertemplate": "original_title=Complete Harry Potter Boxed Set<br>average_rating=%{x}<br>title=%{y}<extra></extra>",
         "legendgroup": "Complete Harry Potter Boxed Set",
         "marker": {
          "color": "#19d3f3",
          "pattern": {
           "shape": ""
          }
         },
         "name": "Complete Harry Potter Boxed Set",
         "offsetgroup": "Complete Harry Potter Boxed Set",
         "orientation": "h",
         "showlegend": true,
         "textposition": "auto",
         "type": "bar",
         "x": [
          4.74
         ],
         "xaxis": "x",
         "y": [
          "Harry Potter Boxset (Harry Potter, #1-7)"
         ],
         "yaxis": "y"
        },
        {
         "alignmentgroup": "True",
         "hovertemplate": "original_title=The Authoritative Calvin and Hobbes<br>average_rating=%{x}<br>title=%{y}<extra></extra>",
         "legendgroup": "The Authoritative Calvin and Hobbes",
         "marker": {
          "color": "#FF6692",
          "pattern": {
           "shape": ""
          }
         },
         "name": "The Authoritative Calvin and Hobbes",
         "offsetgroup": "The Authoritative Calvin and Hobbes",
         "orientation": "h",
         "showlegend": true,
         "textposition": "auto",
         "type": "bar",
         "x": [
          4.73
         ],
         "xaxis": "x",
         "y": [
          "The Authoritative Calvin and Hobbes: A Calvin and Hobbes Treasury"
         ],
         "yaxis": "y"
        },
        {
         "alignmentgroup": "True",
         "hovertemplate": "original_title=The Indispensable Calvin and Hobbes: A Calvin and Hobbes Treasury<br>average_rating=%{x}<br>title=%{y}<extra></extra>",
         "legendgroup": "The Indispensable Calvin and Hobbes: A Calvin and Hobbes Treasury",
         "marker": {
          "color": "#B6E880",
          "pattern": {
           "shape": ""
          }
         },
         "name": "The Indispensable Calvin and Hobbes: A Calvin and Hobbes Treasury",
         "offsetgroup": "The Indispensable Calvin and Hobbes: A Calvin and Hobbes Treasury",
         "orientation": "h",
         "showlegend": true,
         "textposition": "auto",
         "type": "bar",
         "x": [
          4.73
         ],
         "xaxis": "x",
         "y": [
          "The Indispensable Calvin and Hobbes"
         ],
         "yaxis": "y"
        },
        {
         "alignmentgroup": "True",
         "hovertemplate": "original_title=Harry Potter Collection (Harry Potter, #1-6)<br>average_rating=%{x}<br>title=%{y}<extra></extra>",
         "legendgroup": "Harry Potter Collection (Harry Potter, #1-6)",
         "marker": {
          "color": "#FF97FF",
          "pattern": {
           "shape": ""
          }
         },
         "name": "Harry Potter Collection (Harry Potter, #1-6)",
         "offsetgroup": "Harry Potter Collection (Harry Potter, #1-6)",
         "orientation": "h",
         "showlegend": true,
         "textposition": "auto",
         "type": "bar",
         "x": [
          4.73
         ],
         "xaxis": "x",
         "y": [
          "Harry Potter Collection (Harry Potter, #1-6)"
         ],
         "yaxis": "y"
        },
        {
         "alignmentgroup": "True",
         "hovertemplate": "original_title=Attack of the Deranged Mutant Killer Monster Snow Goons: A Calvin and Hobbes Collection<br>average_rating=%{x}<br>title=%{y}<extra></extra>",
         "legendgroup": "Attack of the Deranged Mutant Killer Monster Snow Goons: A Calvin and Hobbes Collection",
         "marker": {
          "color": "#FECB52",
          "pattern": {
           "shape": ""
          }
         },
         "name": "Attack of the Deranged Mutant Killer Monster Snow Goons: A Calvin and Hobbes Collection",
         "offsetgroup": "Attack of the Deranged Mutant Killer Monster Snow Goons: A Calvin and Hobbes Collection",
         "orientation": "h",
         "showlegend": true,
         "textposition": "auto",
         "type": "bar",
         "x": [
          4.72
         ],
         "xaxis": "x",
         "y": [
          "Attack of the Deranged Mutant Killer Monster Snow Goons"
         ],
         "yaxis": "y"
        },
        {
         "alignmentgroup": "True",
         "hovertemplate": "original_title=Homicidal Psycho Jungle Cat: A Calvin and Hobbes Collection<br>average_rating=%{x}<br>title=%{y}<extra></extra>",
         "legendgroup": "Homicidal Psycho Jungle Cat: A Calvin and Hobbes Collection",
         "marker": {
          "color": "#636efa",
          "pattern": {
           "shape": ""
          }
         },
         "name": "Homicidal Psycho Jungle Cat: A Calvin and Hobbes Collection",
         "offsetgroup": "Homicidal Psycho Jungle Cat: A Calvin and Hobbes Collection",
         "orientation": "h",
         "showlegend": true,
         "textposition": "auto",
         "type": "bar",
         "x": [
          4.71
         ],
         "xaxis": "x",
         "y": [
          "Homicidal Psycho Jungle Cat: A Calvin and Hobbes Collection"
         ],
         "yaxis": "y"
        },
        {
         "alignmentgroup": "True",
         "hovertemplate": "original_title=The Days Are Just Packed: A Calvin and Hobbes Collection<br>average_rating=%{x}<br>title=%{y}<extra></extra>",
         "legendgroup": "The Days Are Just Packed: A Calvin and Hobbes Collection",
         "marker": {
          "color": "#EF553B",
          "pattern": {
           "shape": ""
          }
         },
         "name": "The Days Are Just Packed: A Calvin and Hobbes Collection",
         "offsetgroup": "The Days Are Just Packed: A Calvin and Hobbes Collection",
         "orientation": "h",
         "showlegend": true,
         "textposition": "auto",
         "type": "bar",
         "x": [
          4.68
         ],
         "xaxis": "x",
         "y": [
          "The Days Are Just Packed: A Calvin and Hobbes Collection"
         ],
         "yaxis": "y"
        },
        {
         "alignmentgroup": "True",
         "hovertemplate": "original_title=The Way of Kings, Part 1<br>average_rating=%{x}<br>title=%{y}<extra></extra>",
         "legendgroup": "The Way of Kings, Part 1",
         "marker": {
          "color": "#00cc96",
          "pattern": {
           "shape": ""
          }
         },
         "name": "The Way of Kings, Part 1",
         "offsetgroup": "The Way of Kings, Part 1",
         "orientation": "h",
         "showlegend": true,
         "textposition": "auto",
         "type": "bar",
         "x": [
          4.67
         ],
         "xaxis": "x",
         "y": [
          "The Way of Kings, Part 1 (The Stormlight Archive #1.1)"
         ],
         "yaxis": "y"
        },
        {
         "alignmentgroup": "True",
         "hovertemplate": "original_title=Harry Potter Boxed Set Books 1-4<br>average_rating=%{x}<br>title=%{y}<extra></extra>",
         "legendgroup": "Harry Potter Boxed Set Books 1-4",
         "marker": {
          "color": "#ab63fa",
          "pattern": {
           "shape": ""
          }
         },
         "name": "Harry Potter Boxed Set Books 1-4",
         "offsetgroup": "Harry Potter Boxed Set Books 1-4",
         "orientation": "h",
         "showlegend": true,
         "textposition": "auto",
         "type": "bar",
         "x": [
          4.66
         ],
         "xaxis": "x",
         "y": [
          "The Harry Potter Collection 1-4 (Harry Potter, #1-4)"
         ],
         "yaxis": "y"
        },
        {
         "alignmentgroup": "True",
         "hovertemplate": "original_title=The Calvin and Hobbes Lazy Sunday Book<br>average_rating=%{x}<br>title=%{y}<extra></extra>",
         "legendgroup": "The Calvin and Hobbes Lazy Sunday Book",
         "marker": {
          "color": "#FFA15A",
          "pattern": {
           "shape": ""
          }
         },
         "name": "The Calvin and Hobbes Lazy Sunday Book",
         "offsetgroup": "The Calvin and Hobbes Lazy Sunday Book",
         "orientation": "h",
         "showlegend": true,
         "textposition": "auto",
         "type": "bar",
         "x": [
          4.66
         ],
         "xaxis": "x",
         "y": [
          "The Calvin and Hobbes Lazy Sunday Book"
         ],
         "yaxis": "y"
        },
        {
         "alignmentgroup": "True",
         "hovertemplate": "original_title=The Absolute Sandman, Volume One<br>average_rating=%{x}<br>title=%{y}<extra></extra>",
         "legendgroup": "The Absolute Sandman, Volume One",
         "marker": {
          "color": "#19d3f3",
          "pattern": {
           "shape": ""
          }
         },
         "name": "The Absolute Sandman, Volume One",
         "offsetgroup": "The Absolute Sandman, Volume One",
         "orientation": "h",
         "showlegend": true,
         "textposition": "auto",
         "type": "bar",
         "x": [
          4.65
         ],
         "xaxis": "x",
         "y": [
          "The Absolute Sandman, Volume One"
         ],
         "yaxis": "y"
        },
        {
         "alignmentgroup": "True",
         "hovertemplate": "original_title=The Essential Calvin and Hobbes: A Calvin and Hobbes Treasury<br>average_rating=%{x}<br>title=%{y}<extra></extra>",
         "legendgroup": "The Essential Calvin and Hobbes: A Calvin and Hobbes Treasury",
         "marker": {
          "color": "#FF6692",
          "pattern": {
           "shape": ""
          }
         },
         "name": "The Essential Calvin and Hobbes: A Calvin and Hobbes Treasury",
         "offsetgroup": "The Essential Calvin and Hobbes: A Calvin and Hobbes Treasury",
         "orientation": "h",
         "showlegend": true,
         "textposition": "auto",
         "type": "bar",
         "x": [
          4.65
         ],
         "xaxis": "x",
         "y": [
          "The Essential Calvin and Hobbes: A Calvin and Hobbes Treasury"
         ],
         "yaxis": "y"
        },
        {
         "alignmentgroup": "True",
         "hovertemplate": "original_title=The Way of Kings<br>average_rating=%{x}<br>title=%{y}<extra></extra>",
         "legendgroup": "The Way of Kings",
         "marker": {
          "color": "#B6E880",
          "pattern": {
           "shape": ""
          }
         },
         "name": "The Way of Kings",
         "offsetgroup": "The Way of Kings",
         "orientation": "h",
         "showlegend": true,
         "textposition": "auto",
         "type": "bar",
         "x": [
          4.64
         ],
         "xaxis": "x",
         "y": [
          "The Way of Kings (The Stormlight Archive, #1)"
         ],
         "yaxis": "y"
        },
        {
         "alignmentgroup": "True",
         "hovertemplate": "original_title=The Calvin and Hobbes Tenth Anniversary Book<br>average_rating=%{x}<br>title=%{y}<extra></extra>",
         "legendgroup": "The Calvin and Hobbes Tenth Anniversary Book",
         "marker": {
          "color": "#FF97FF",
          "pattern": {
           "shape": ""
          }
         },
         "name": "The Calvin and Hobbes Tenth Anniversary Book",
         "offsetgroup": "The Calvin and Hobbes Tenth Anniversary Book",
         "orientation": "h",
         "showlegend": true,
         "textposition": "auto",
         "type": "bar",
         "x": [
          4.63
         ],
         "xaxis": "x",
         "y": [
          "The Calvin and Hobbes Tenth Anniversary Book"
         ],
         "yaxis": "y"
        },
        {
         "alignmentgroup": "True",
         "hovertemplate": "original_title=A Song of Ice and Fire<br>average_rating=%{x}<br>title=%{y}<extra></extra>",
         "legendgroup": "A Song of Ice and Fire",
         "marker": {
          "color": "#FECB52",
          "pattern": {
           "shape": ""
          }
         },
         "name": "A Song of Ice and Fire",
         "offsetgroup": "A Song of Ice and Fire",
         "orientation": "h",
         "showlegend": true,
         "textposition": "auto",
         "type": "bar",
         "x": [
          4.63
         ],
         "xaxis": "x",
         "y": [
          "A Song of Ice and Fire (A Song of Ice and Fire, #1-5)"
         ],
         "yaxis": "y"
        }
       ],
       "layout": {
        "barmode": "relative",
        "height": 700,
        "legend": {
         "title": {
          "text": "original_title"
         },
         "tracegroupgap": 0
        },
        "template": {
         "data": {
          "bar": [
           {
            "error_x": {
             "color": "#2a3f5f"
            },
            "error_y": {
             "color": "#2a3f5f"
            },
            "marker": {
             "line": {
              "color": "#E5ECF6",
              "width": 0.5
             },
             "pattern": {
              "fillmode": "overlay",
              "size": 10,
              "solidity": 0.2
             }
            },
            "type": "bar"
           }
          ],
          "barpolar": [
           {
            "marker": {
             "line": {
              "color": "#E5ECF6",
              "width": 0.5
             },
             "pattern": {
              "fillmode": "overlay",
              "size": 10,
              "solidity": 0.2
             }
            },
            "type": "barpolar"
           }
          ],
          "carpet": [
           {
            "aaxis": {
             "endlinecolor": "#2a3f5f",
             "gridcolor": "white",
             "linecolor": "white",
             "minorgridcolor": "white",
             "startlinecolor": "#2a3f5f"
            },
            "baxis": {
             "endlinecolor": "#2a3f5f",
             "gridcolor": "white",
             "linecolor": "white",
             "minorgridcolor": "white",
             "startlinecolor": "#2a3f5f"
            },
            "type": "carpet"
           }
          ],
          "choropleth": [
           {
            "colorbar": {
             "outlinewidth": 0,
             "ticks": ""
            },
            "type": "choropleth"
           }
          ],
          "contour": [
           {
            "colorbar": {
             "outlinewidth": 0,
             "ticks": ""
            },
            "colorscale": [
             [
              0,
              "#0d0887"
             ],
             [
              0.1111111111111111,
              "#46039f"
             ],
             [
              0.2222222222222222,
              "#7201a8"
             ],
             [
              0.3333333333333333,
              "#9c179e"
             ],
             [
              0.4444444444444444,
              "#bd3786"
             ],
             [
              0.5555555555555556,
              "#d8576b"
             ],
             [
              0.6666666666666666,
              "#ed7953"
             ],
             [
              0.7777777777777778,
              "#fb9f3a"
             ],
             [
              0.8888888888888888,
              "#fdca26"
             ],
             [
              1,
              "#f0f921"
             ]
            ],
            "type": "contour"
           }
          ],
          "contourcarpet": [
           {
            "colorbar": {
             "outlinewidth": 0,
             "ticks": ""
            },
            "type": "contourcarpet"
           }
          ],
          "heatmap": [
           {
            "colorbar": {
             "outlinewidth": 0,
             "ticks": ""
            },
            "colorscale": [
             [
              0,
              "#0d0887"
             ],
             [
              0.1111111111111111,
              "#46039f"
             ],
             [
              0.2222222222222222,
              "#7201a8"
             ],
             [
              0.3333333333333333,
              "#9c179e"
             ],
             [
              0.4444444444444444,
              "#bd3786"
             ],
             [
              0.5555555555555556,
              "#d8576b"
             ],
             [
              0.6666666666666666,
              "#ed7953"
             ],
             [
              0.7777777777777778,
              "#fb9f3a"
             ],
             [
              0.8888888888888888,
              "#fdca26"
             ],
             [
              1,
              "#f0f921"
             ]
            ],
            "type": "heatmap"
           }
          ],
          "heatmapgl": [
           {
            "colorbar": {
             "outlinewidth": 0,
             "ticks": ""
            },
            "colorscale": [
             [
              0,
              "#0d0887"
             ],
             [
              0.1111111111111111,
              "#46039f"
             ],
             [
              0.2222222222222222,
              "#7201a8"
             ],
             [
              0.3333333333333333,
              "#9c179e"
             ],
             [
              0.4444444444444444,
              "#bd3786"
             ],
             [
              0.5555555555555556,
              "#d8576b"
             ],
             [
              0.6666666666666666,
              "#ed7953"
             ],
             [
              0.7777777777777778,
              "#fb9f3a"
             ],
             [
              0.8888888888888888,
              "#fdca26"
             ],
             [
              1,
              "#f0f921"
             ]
            ],
            "type": "heatmapgl"
           }
          ],
          "histogram": [
           {
            "marker": {
             "pattern": {
              "fillmode": "overlay",
              "size": 10,
              "solidity": 0.2
             }
            },
            "type": "histogram"
           }
          ],
          "histogram2d": [
           {
            "colorbar": {
             "outlinewidth": 0,
             "ticks": ""
            },
            "colorscale": [
             [
              0,
              "#0d0887"
             ],
             [
              0.1111111111111111,
              "#46039f"
             ],
             [
              0.2222222222222222,
              "#7201a8"
             ],
             [
              0.3333333333333333,
              "#9c179e"
             ],
             [
              0.4444444444444444,
              "#bd3786"
             ],
             [
              0.5555555555555556,
              "#d8576b"
             ],
             [
              0.6666666666666666,
              "#ed7953"
             ],
             [
              0.7777777777777778,
              "#fb9f3a"
             ],
             [
              0.8888888888888888,
              "#fdca26"
             ],
             [
              1,
              "#f0f921"
             ]
            ],
            "type": "histogram2d"
           }
          ],
          "histogram2dcontour": [
           {
            "colorbar": {
             "outlinewidth": 0,
             "ticks": ""
            },
            "colorscale": [
             [
              0,
              "#0d0887"
             ],
             [
              0.1111111111111111,
              "#46039f"
             ],
             [
              0.2222222222222222,
              "#7201a8"
             ],
             [
              0.3333333333333333,
              "#9c179e"
             ],
             [
              0.4444444444444444,
              "#bd3786"
             ],
             [
              0.5555555555555556,
              "#d8576b"
             ],
             [
              0.6666666666666666,
              "#ed7953"
             ],
             [
              0.7777777777777778,
              "#fb9f3a"
             ],
             [
              0.8888888888888888,
              "#fdca26"
             ],
             [
              1,
              "#f0f921"
             ]
            ],
            "type": "histogram2dcontour"
           }
          ],
          "mesh3d": [
           {
            "colorbar": {
             "outlinewidth": 0,
             "ticks": ""
            },
            "type": "mesh3d"
           }
          ],
          "parcoords": [
           {
            "line": {
             "colorbar": {
              "outlinewidth": 0,
              "ticks": ""
             }
            },
            "type": "parcoords"
           }
          ],
          "pie": [
           {
            "automargin": true,
            "type": "pie"
           }
          ],
          "scatter": [
           {
            "marker": {
             "colorbar": {
              "outlinewidth": 0,
              "ticks": ""
             }
            },
            "type": "scatter"
           }
          ],
          "scatter3d": [
           {
            "line": {
             "colorbar": {
              "outlinewidth": 0,
              "ticks": ""
             }
            },
            "marker": {
             "colorbar": {
              "outlinewidth": 0,
              "ticks": ""
             }
            },
            "type": "scatter3d"
           }
          ],
          "scattercarpet": [
           {
            "marker": {
             "colorbar": {
              "outlinewidth": 0,
              "ticks": ""
             }
            },
            "type": "scattercarpet"
           }
          ],
          "scattergeo": [
           {
            "marker": {
             "colorbar": {
              "outlinewidth": 0,
              "ticks": ""
             }
            },
            "type": "scattergeo"
           }
          ],
          "scattergl": [
           {
            "marker": {
             "colorbar": {
              "outlinewidth": 0,
              "ticks": ""
             }
            },
            "type": "scattergl"
           }
          ],
          "scattermapbox": [
           {
            "marker": {
             "colorbar": {
              "outlinewidth": 0,
              "ticks": ""
             }
            },
            "type": "scattermapbox"
           }
          ],
          "scatterpolar": [
           {
            "marker": {
             "colorbar": {
              "outlinewidth": 0,
              "ticks": ""
             }
            },
            "type": "scatterpolar"
           }
          ],
          "scatterpolargl": [
           {
            "marker": {
             "colorbar": {
              "outlinewidth": 0,
              "ticks": ""
             }
            },
            "type": "scatterpolargl"
           }
          ],
          "scatterternary": [
           {
            "marker": {
             "colorbar": {
              "outlinewidth": 0,
              "ticks": ""
             }
            },
            "type": "scatterternary"
           }
          ],
          "surface": [
           {
            "colorbar": {
             "outlinewidth": 0,
             "ticks": ""
            },
            "colorscale": [
             [
              0,
              "#0d0887"
             ],
             [
              0.1111111111111111,
              "#46039f"
             ],
             [
              0.2222222222222222,
              "#7201a8"
             ],
             [
              0.3333333333333333,
              "#9c179e"
             ],
             [
              0.4444444444444444,
              "#bd3786"
             ],
             [
              0.5555555555555556,
              "#d8576b"
             ],
             [
              0.6666666666666666,
              "#ed7953"
             ],
             [
              0.7777777777777778,
              "#fb9f3a"
             ],
             [
              0.8888888888888888,
              "#fdca26"
             ],
             [
              1,
              "#f0f921"
             ]
            ],
            "type": "surface"
           }
          ],
          "table": [
           {
            "cells": {
             "fill": {
              "color": "#EBF0F8"
             },
             "line": {
              "color": "white"
             }
            },
            "header": {
             "fill": {
              "color": "#C8D4E3"
             },
             "line": {
              "color": "white"
             }
            },
            "type": "table"
           }
          ]
         },
         "layout": {
          "annotationdefaults": {
           "arrowcolor": "#2a3f5f",
           "arrowhead": 0,
           "arrowwidth": 1
          },
          "autotypenumbers": "strict",
          "coloraxis": {
           "colorbar": {
            "outlinewidth": 0,
            "ticks": ""
           }
          },
          "colorscale": {
           "diverging": [
            [
             0,
             "#8e0152"
            ],
            [
             0.1,
             "#c51b7d"
            ],
            [
             0.2,
             "#de77ae"
            ],
            [
             0.3,
             "#f1b6da"
            ],
            [
             0.4,
             "#fde0ef"
            ],
            [
             0.5,
             "#f7f7f7"
            ],
            [
             0.6,
             "#e6f5d0"
            ],
            [
             0.7,
             "#b8e186"
            ],
            [
             0.8,
             "#7fbc41"
            ],
            [
             0.9,
             "#4d9221"
            ],
            [
             1,
             "#276419"
            ]
           ],
           "sequential": [
            [
             0,
             "#0d0887"
            ],
            [
             0.1111111111111111,
             "#46039f"
            ],
            [
             0.2222222222222222,
             "#7201a8"
            ],
            [
             0.3333333333333333,
             "#9c179e"
            ],
            [
             0.4444444444444444,
             "#bd3786"
            ],
            [
             0.5555555555555556,
             "#d8576b"
            ],
            [
             0.6666666666666666,
             "#ed7953"
            ],
            [
             0.7777777777777778,
             "#fb9f3a"
            ],
            [
             0.8888888888888888,
             "#fdca26"
            ],
            [
             1,
             "#f0f921"
            ]
           ],
           "sequentialminus": [
            [
             0,
             "#0d0887"
            ],
            [
             0.1111111111111111,
             "#46039f"
            ],
            [
             0.2222222222222222,
             "#7201a8"
            ],
            [
             0.3333333333333333,
             "#9c179e"
            ],
            [
             0.4444444444444444,
             "#bd3786"
            ],
            [
             0.5555555555555556,
             "#d8576b"
            ],
            [
             0.6666666666666666,
             "#ed7953"
            ],
            [
             0.7777777777777778,
             "#fb9f3a"
            ],
            [
             0.8888888888888888,
             "#fdca26"
            ],
            [
             1,
             "#f0f921"
            ]
           ]
          },
          "colorway": [
           "#636efa",
           "#EF553B",
           "#00cc96",
           "#ab63fa",
           "#FFA15A",
           "#19d3f3",
           "#FF6692",
           "#B6E880",
           "#FF97FF",
           "#FECB52"
          ],
          "font": {
           "color": "#2a3f5f"
          },
          "geo": {
           "bgcolor": "white",
           "lakecolor": "white",
           "landcolor": "#E5ECF6",
           "showlakes": true,
           "showland": true,
           "subunitcolor": "white"
          },
          "hoverlabel": {
           "align": "left"
          },
          "hovermode": "closest",
          "mapbox": {
           "style": "light"
          },
          "paper_bgcolor": "white",
          "plot_bgcolor": "#E5ECF6",
          "polar": {
           "angularaxis": {
            "gridcolor": "white",
            "linecolor": "white",
            "ticks": ""
           },
           "bgcolor": "#E5ECF6",
           "radialaxis": {
            "gridcolor": "white",
            "linecolor": "white",
            "ticks": ""
           }
          },
          "scene": {
           "xaxis": {
            "backgroundcolor": "#E5ECF6",
            "gridcolor": "white",
            "gridwidth": 2,
            "linecolor": "white",
            "showbackground": true,
            "ticks": "",
            "zerolinecolor": "white"
           },
           "yaxis": {
            "backgroundcolor": "#E5ECF6",
            "gridcolor": "white",
            "gridwidth": 2,
            "linecolor": "white",
            "showbackground": true,
            "ticks": "",
            "zerolinecolor": "white"
           },
           "zaxis": {
            "backgroundcolor": "#E5ECF6",
            "gridcolor": "white",
            "gridwidth": 2,
            "linecolor": "white",
            "showbackground": true,
            "ticks": "",
            "zerolinecolor": "white"
           }
          },
          "shapedefaults": {
           "line": {
            "color": "#2a3f5f"
           }
          },
          "ternary": {
           "aaxis": {
            "gridcolor": "white",
            "linecolor": "white",
            "ticks": ""
           },
           "baxis": {
            "gridcolor": "white",
            "linecolor": "white",
            "ticks": ""
           },
           "bgcolor": "#E5ECF6",
           "caxis": {
            "gridcolor": "white",
            "linecolor": "white",
            "ticks": ""
           }
          },
          "title": {
           "x": 0.05
          },
          "xaxis": {
           "automargin": true,
           "gridcolor": "white",
           "linecolor": "white",
           "ticks": "",
           "title": {
            "standoff": 15
           },
           "zerolinecolor": "white",
           "zerolinewidth": 2
          },
          "yaxis": {
           "automargin": true,
           "gridcolor": "white",
           "linecolor": "white",
           "ticks": "",
           "title": {
            "standoff": 15
           },
           "zerolinecolor": "white",
           "zerolinewidth": 2
          }
         }
        },
        "title": {
         "text": "Top Rated Books and Their Average Rating"
        },
        "width": 1500,
        "xaxis": {
         "anchor": "y",
         "autorange": true,
         "domain": [
          0,
          1
         ],
         "range": [
          0,
          5.0736842105263165
         ],
         "title": {
          "text": "average_rating"
         },
         "type": "linear"
        },
        "yaxis": {
         "anchor": "x",
         "autorange": true,
         "domain": [
          0,
          1
         ],
         "range": [
          -0.5,
          19.5
         ],
         "title": {
          "text": "title"
         },
         "type": "category"
        }
       }
      },
      "image/png": "[encoded data removed]",
      "text/html": [
       "<div>                            <div id=\"ea9ea46f-ff96-4cb0-8331-8d23183c5a94\" class=\"plotly-graph-div\" style=\"height:700px; width:1500px;\"></div>            <script type=\"text/javascript\">                require([\"plotly\"], function(Plotly) {                    window.PLOTLYENV=window.PLOTLYENV || {};                                    if (document.getElementById(\"ea9ea46f-ff96-4cb0-8331-8d23183c5a94\")) {                    Plotly.newPlot(                        \"ea9ea46f-ff96-4cb0-8331-8d23183c5a94\",                        [{\"alignmentgroup\":\"True\",\"hovertemplate\":\"original_title=The Complete Calvin and Hobbes<br>average_rating=%{x}<br>title=%{y}<extra></extra>\",\"legendgroup\":\"The Complete Calvin and Hobbes\",\"marker\":{\"color\":\"#636efa\",\"pattern\":{\"shape\":\"\"}},\"name\":\"The Complete Calvin and Hobbes\",\"offsetgroup\":\"The Complete Calvin and Hobbes\",\"orientation\":\"h\",\"showlegend\":true,\"textposition\":\"auto\",\"type\":\"bar\",\"x\":[4.82],\"xaxis\":\"x\",\"y\":[\"The Complete Calvin and Hobbes\"],\"yaxis\":\"y\"},{\"alignmentgroup\":\"True\",\"hovertemplate\":\"original_title=Words of Radiance<br>average_rating=%{x}<br>title=%{y}<extra></extra>\",\"legendgroup\":\"Words of Radiance\",\"marker\":{\"color\":\"#EF553B\",\"pattern\":{\"shape\":\"\"}},\"name\":\"Words of Radiance\",\"offsetgroup\":\"Words of Radiance\",\"orientation\":\"h\",\"showlegend\":true,\"textposition\":\"auto\",\"type\":\"bar\",\"x\":[4.77],\"xaxis\":\"x\",\"y\":[\"Words of Radiance (The Stormlight Archive, #2)\"],\"yaxis\":\"y\"},{\"alignmentgroup\":\"True\",\"hovertemplate\":\"original_title=Mark of the Lion Trilogy<br>average_rating=%{x}<br>title=%{y}<extra></extra>\",\"legendgroup\":\"Mark of the Lion Trilogy\",\"marker\":{\"color\":\"#00cc96\",\"pattern\":{\"shape\":\"\"}},\"name\":\"Mark of the Lion Trilogy\",\"offsetgroup\":\"Mark of the Lion Trilogy\",\"orientation\":\"h\",\"showlegend\":true,\"textposition\":\"auto\",\"type\":\"bar\",\"x\":[4.76],\"xaxis\":\"x\",\"y\":[\"Mark of the Lion Trilogy\"],\"yaxis\":\"y\"},{\"alignmentgroup\":\"True\",\"hovertemplate\":\"original_title=It's a Magical World: A Calvin and Hobbes Collection<br>average_rating=%{x}<br>title=%{y}<extra></extra>\",\"legendgroup\":\"It's a Magical World: A Calvin and Hobbes Collection\",\"marker\":{\"color\":\"#ab63fa\",\"pattern\":{\"shape\":\"\"}},\"name\":\"It's a Magical World: A Calvin and Hobbes Collection\",\"offsetgroup\":\"It's a Magical World: A Calvin and Hobbes Collection\",\"orientation\":\"h\",\"showlegend\":true,\"textposition\":\"auto\",\"type\":\"bar\",\"x\":[4.75],\"xaxis\":\"x\",\"y\":[\"It's a Magical World: A Calvin and Hobbes Collection\"],\"yaxis\":\"y\"},{\"alignmentgroup\":\"True\",\"hovertemplate\":\"original_title=There's Treasure Everywhere: A Calvin and Hobbes Collection<br>average_rating=%{x}<br>title=%{y}<extra></extra>\",\"legendgroup\":\"There's Treasure Everywhere: A Calvin and Hobbes Collection\",\"marker\":{\"color\":\"#FFA15A\",\"pattern\":{\"shape\":\"\"}},\"name\":\"There's Treasure Everywhere: A Calvin and Hobbes Collection\",\"offsetgroup\":\"There's Treasure Everywhere: A Calvin and Hobbes Collection\",\"orientation\":\"h\",\"showlegend\":true,\"textposition\":\"auto\",\"type\":\"bar\",\"x\":[4.74],\"xaxis\":\"x\",\"y\":[\"There's Treasure Everywhere: A Calvin and Hobbes Collection\"],\"yaxis\":\"y\"},{\"alignmentgroup\":\"True\",\"hovertemplate\":\"original_title=Complete Harry Potter Boxed Set<br>average_rating=%{x}<br>title=%{y}<extra></extra>\",\"legendgroup\":\"Complete Harry Potter Boxed Set\",\"marker\":{\"color\":\"#19d3f3\",\"pattern\":{\"shape\":\"\"}},\"name\":\"Complete Harry Potter Boxed Set\",\"offsetgroup\":\"Complete Harry Potter Boxed Set\",\"orientation\":\"h\",\"showlegend\":true,\"textposition\":\"auto\",\"type\":\"bar\",\"x\":[4.74],\"xaxis\":\"x\",\"y\":[\"Harry Potter Boxset (Harry Potter, #1-7)\"],\"yaxis\":\"y\"},{\"alignmentgroup\":\"True\",\"hovertemplate\":\"original_title=The Authoritative Calvin and Hobbes<br>average_rating=%{x}<br>title=%{y}<extra></extra>\",\"legendgroup\":\"The Authoritative Calvin and Hobbes\",\"marker\":{\"color\":\"#FF6692\",\"pattern\":{\"shape\":\"\"}},\"name\":\"The Authoritative Calvin and Hobbes\",\"offsetgroup\":\"The Authoritative Calvin and Hobbes\",\"orientation\":\"h\",\"showlegend\":true,\"textposition\":\"auto\",\"type\":\"bar\",\"x\":[4.73],\"xaxis\":\"x\",\"y\":[\"The Authoritative Calvin and Hobbes: A Calvin and Hobbes Treasury\"],\"yaxis\":\"y\"},{\"alignmentgroup\":\"True\",\"hovertemplate\":\"original_title=The Indispensable Calvin and Hobbes: A Calvin and Hobbes Treasury<br>average_rating=%{x}<br>title=%{y}<extra></extra>\",\"legendgroup\":\"The Indispensable Calvin and Hobbes: A Calvin and Hobbes Treasury\",\"marker\":{\"color\":\"#B6E880\",\"pattern\":{\"shape\":\"\"}},\"name\":\"The Indispensable Calvin and Hobbes: A Calvin and Hobbes Treasury\",\"offsetgroup\":\"The Indispensable Calvin and Hobbes: A Calvin and Hobbes Treasury\",\"orientation\":\"h\",\"showlegend\":true,\"textposition\":\"auto\",\"type\":\"bar\",\"x\":[4.73],\"xaxis\":\"x\",\"y\":[\"The Indispensable Calvin and Hobbes\"],\"yaxis\":\"y\"},{\"alignmentgroup\":\"True\",\"hovertemplate\":\"original_title=Harry Potter Collection (Harry Potter, #1-6)<br>average_rating=%{x}<br>title=%{y}<extra></extra>\",\"legendgroup\":\"Harry Potter Collection (Harry Potter, #1-6)\",\"marker\":{\"color\":\"#FF97FF\",\"pattern\":{\"shape\":\"\"}},\"name\":\"Harry Potter Collection (Harry Potter, #1-6)\",\"offsetgroup\":\"Harry Potter Collection (Harry Potter, #1-6)\",\"orientation\":\"h\",\"showlegend\":true,\"textposition\":\"auto\",\"type\":\"bar\",\"x\":[4.73],\"xaxis\":\"x\",\"y\":[\"Harry Potter Collection (Harry Potter, #1-6)\"],\"yaxis\":\"y\"},{\"alignmentgroup\":\"True\",\"hovertemplate\":\"original_title=Attack of the Deranged Mutant Killer Monster Snow Goons: A Calvin and Hobbes Collection<br>average_rating=%{x}<br>title=%{y}<extra></extra>\",\"legendgroup\":\"Attack of the Deranged Mutant Killer Monster Snow Goons: A Calvin and Hobbes Collection\",\"marker\":{\"color\":\"#FECB52\",\"pattern\":{\"shape\":\"\"}},\"name\":\"Attack of the Deranged Mutant Killer Monster Snow Goons: A Calvin and Hobbes Collection\",\"offsetgroup\":\"Attack of the Deranged Mutant Killer Monster Snow Goons: A Calvin and Hobbes Collection\",\"orientation\":\"h\",\"showlegend\":true,\"textposition\":\"auto\",\"type\":\"bar\",\"x\":[4.72],\"xaxis\":\"x\",\"y\":[\"Attack of the Deranged Mutant Killer Monster Snow Goons\"],\"yaxis\":\"y\"},{\"alignmentgroup\":\"True\",\"hovertemplate\":\"original_title=Homicidal Psycho Jungle Cat: A Calvin and Hobbes Collection<br>average_rating=%{x}<br>title=%{y}<extra></extra>\",\"legendgroup\":\"Homicidal Psycho Jungle Cat: A Calvin and Hobbes Collection\",\"marker\":{\"color\":\"#636efa\",\"pattern\":{\"shape\":\"\"}},\"name\":\"Homicidal Psycho Jungle Cat: A Calvin and Hobbes Collection\",\"offsetgroup\":\"Homicidal Psycho Jungle Cat: A Calvin and Hobbes Collection\",\"orientation\":\"h\",\"showlegend\":true,\"textposition\":\"auto\",\"type\":\"bar\",\"x\":[4.71],\"xaxis\":\"x\",\"y\":[\"Homicidal Psycho Jungle Cat: A Calvin and Hobbes Collection\"],\"yaxis\":\"y\"},{\"alignmentgroup\":\"True\",\"hovertemplate\":\"original_title=The Days Are Just Packed: A Calvin and Hobbes Collection<br>average_rating=%{x}<br>title=%{y}<extra></extra>\",\"legendgroup\":\"The Days Are Just Packed: A Calvin and Hobbes Collection\",\"marker\":{\"color\":\"#EF553B\",\"pattern\":{\"shape\":\"\"}},\"name\":\"The Days Are Just Packed: A Calvin and Hobbes Collection\",\"offsetgroup\":\"The Days Are Just Packed: A Calvin and Hobbes Collection\",\"orientation\":\"h\",\"showlegend\":true,\"textposition\":\"auto\",\"type\":\"bar\",\"x\":[4.68],\"xaxis\":\"x\",\"y\":[\"The Days Are Just Packed: A Calvin and Hobbes Collection\"],\"yaxis\":\"y\"},{\"alignmentgroup\":\"True\",\"hovertemplate\":\"original_title=The Way of Kings, Part 1<br>average_rating=%{x}<br>title=%{y}<extra></extra>\",\"legendgroup\":\"The Way of Kings, Part 1\",\"marker\":{\"color\":\"#00cc96\",\"pattern\":{\"shape\":\"\"}},\"name\":\"The Way of Kings, Part 1\",\"offsetgroup\":\"The Way of Kings, Part 1\",\"orientation\":\"h\",\"showlegend\":true,\"textposition\":\"auto\",\"type\":\"bar\",\"x\":[4.67],\"xaxis\":\"x\",\"y\":[\"The Way of Kings, Part 1 (The Stormlight Archive #1.1)\"],\"yaxis\":\"y\"},{\"alignmentgroup\":\"True\",\"hovertemplate\":\"original_title=Harry Potter Boxed Set Books 1-4<br>average_rating=%{x}<br>title=%{y}<extra></extra>\",\"legendgroup\":\"Harry Potter Boxed Set Books 1-4\",\"marker\":{\"color\":\"#ab63fa\",\"pattern\":{\"shape\":\"\"}},\"name\":\"Harry Potter Boxed Set Books 1-4\",\"offsetgroup\":\"Harry Potter Boxed Set Books 1-4\",\"orientation\":\"h\",\"showlegend\":true,\"textposition\":\"auto\",\"type\":\"bar\",\"x\":[4.66],\"xaxis\":\"x\",\"y\":[\"The Harry Potter Collection 1-4 (Harry Potter, #1-4)\"],\"yaxis\":\"y\"},{\"alignmentgroup\":\"True\",\"hovertemplate\":\"original_title=The Calvin and Hobbes Lazy Sunday Book<br>average_rating=%{x}<br>title=%{y}<extra></extra>\",\"legendgroup\":\"The Calvin and Hobbes Lazy Sunday Book\",\"marker\":{\"color\":\"#FFA15A\",\"pattern\":{\"shape\":\"\"}},\"name\":\"The Calvin and Hobbes Lazy Sunday Book\",\"offsetgroup\":\"The Calvin and Hobbes Lazy Sunday Book\",\"orientation\":\"h\",\"showlegend\":true,\"textposition\":\"auto\",\"type\":\"bar\",\"x\":[4.66],\"xaxis\":\"x\",\"y\":[\"The Calvin and Hobbes Lazy Sunday Book\"],\"yaxis\":\"y\"},{\"alignmentgroup\":\"True\",\"hovertemplate\":\"original_title=The Absolute Sandman, Volume One<br>average_rating=%{x}<br>title=%{y}<extra></extra>\",\"legendgroup\":\"The Absolute Sandman, Volume One\",\"marker\":{\"color\":\"#19d3f3\",\"pattern\":{\"shape\":\"\"}},\"name\":\"The Absolute Sandman, Volume One\",\"offsetgroup\":\"The Absolute Sandman, Volume One\",\"orientation\":\"h\",\"showlegend\":true,\"textposition\":\"auto\",\"type\":\"bar\",\"x\":[4.65],\"xaxis\":\"x\",\"y\":[\"The Absolute Sandman, Volume One\"],\"yaxis\":\"y\"},{\"alignmentgroup\":\"True\",\"hovertemplate\":\"original_title=The Essential Calvin and Hobbes: A Calvin and Hobbes Treasury<br>average_rating=%{x}<br>title=%{y}<extra></extra>\",\"legendgroup\":\"The Essential Calvin and Hobbes: A Calvin and Hobbes Treasury\",\"marker\":{\"color\":\"#FF6692\",\"pattern\":{\"shape\":\"\"}},\"name\":\"The Essential Calvin and Hobbes: A Calvin and Hobbes Treasury\",\"offsetgroup\":\"The Essential Calvin and Hobbes: A Calvin and Hobbes Treasury\",\"orientation\":\"h\",\"showlegend\":true,\"textposition\":\"auto\",\"type\":\"bar\",\"x\":[4.65],\"xaxis\":\"x\",\"y\":[\"The Essential Calvin and Hobbes: A Calvin and Hobbes Treasury\"],\"yaxis\":\"y\"},{\"alignmentgroup\":\"True\",\"hovertemplate\":\"original_title=The Way of Kings<br>average_rating=%{x}<br>title=%{y}<extra></extra>\",\"legendgroup\":\"The Way of Kings\",\"marker\":{\"color\":\"#B6E880\",\"pattern\":{\"shape\":\"\"}},\"name\":\"The Way of Kings\",\"offsetgroup\":\"The Way of Kings\",\"orientation\":\"h\",\"showlegend\":true,\"textposition\":\"auto\",\"type\":\"bar\",\"x\":[4.64],\"xaxis\":\"x\",\"y\":[\"The Way of Kings (The Stormlight Archive, #1)\"],\"yaxis\":\"y\"},{\"alignmentgroup\":\"True\",\"hovertemplate\":\"original_title=The Calvin and Hobbes Tenth Anniversary Book<br>average_rating=%{x}<br>title=%{y}<extra></extra>\",\"legendgroup\":\"The Calvin and Hobbes Tenth Anniversary Book\",\"marker\":{\"color\":\"#FF97FF\",\"pattern\":{\"shape\":\"\"}},\"name\":\"The Calvin and Hobbes Tenth Anniversary Book\",\"offsetgroup\":\"The Calvin and Hobbes Tenth Anniversary Book\",\"orientation\":\"h\",\"showlegend\":true,\"textposition\":\"auto\",\"type\":\"bar\",\"x\":[4.63],\"xaxis\":\"x\",\"y\":[\"The Calvin and Hobbes Tenth Anniversary Book\"],\"yaxis\":\"y\"},{\"alignmentgroup\":\"True\",\"hovertemplate\":\"original_title=A Song of Ice and Fire<br>average_rating=%{x}<br>title=%{y}<extra></extra>\",\"legendgroup\":\"A Song of Ice and Fire\",\"marker\":{\"color\":\"#FECB52\",\"pattern\":{\"shape\":\"\"}},\"name\":\"A Song of Ice and Fire\",\"offsetgroup\":\"A Song of Ice and Fire\",\"orientation\":\"h\",\"showlegend\":true,\"textposition\":\"auto\",\"type\":\"bar\",\"x\":[4.63],\"xaxis\":\"x\",\"y\":[\"A Song of Ice and Fire (A Song of Ice and Fire, #1-5)\"],\"yaxis\":\"y\"}],                        {\"barmode\":\"relative\",\"height\":700,\"legend\":{\"title\":{\"text\":\"original_title\"},\"tracegroupgap\":0},\"template\":{\"data\":{\"bar\":[{\"error_x\":{\"color\":\"#2a3f5f\"},\"error_y\":{\"color\":\"#2a3f5f\"},\"marker\":{\"line\":{\"color\":\"#E5ECF6\",\"width\":0.5},\"pattern\":{\"fillmode\":\"overlay\",\"size\":10,\"solidity\":0.2}},\"type\":\"bar\"}],\"barpolar\":[{\"marker\":{\"line\":{\"color\":\"#E5ECF6\",\"width\":0.5},\"pattern\":{\"fillmode\":\"overlay\",\"size\":10,\"solidity\":0.2}},\"type\":\"barpolar\"}],\"carpet\":[{\"aaxis\":{\"endlinecolor\":\"#2a3f5f\",\"gridcolor\":\"white\",\"linecolor\":\"white\",\"minorgridcolor\":\"white\",\"startlinecolor\":\"#2a3f5f\"},\"baxis\":{\"endlinecolor\":\"#2a3f5f\",\"gridcolor\":\"white\",\"linecolor\":\"white\",\"minorgridcolor\":\"white\",\"startlinecolor\":\"#2a3f5f\"},\"type\":\"carpet\"}],\"choropleth\":[{\"colorbar\":{\"outlinewidth\":0,\"ticks\":\"\"},\"type\":\"choropleth\"}],\"contour\":[{\"colorbar\":{\"outlinewidth\":0,\"ticks\":\"\"},\"colorscale\":[[0.0,\"#0d0887\"],[0.1111111111111111,\"#46039f\"],[0.2222222222222222,\"#7201a8\"],[0.3333333333333333,\"#9c179e\"],[0.4444444444444444,\"#bd3786\"],[0.5555555555555556,\"#d8576b\"],[0.6666666666666666,\"#ed7953\"],[0.7777777777777778,\"#fb9f3a\"],[0.8888888888888888,\"#fdca26\"],[1.0,\"#f0f921\"]],\"type\":\"contour\"}],\"contourcarpet\":[{\"colorbar\":{\"outlinewidth\":0,\"ticks\":\"\"},\"type\":\"contourcarpet\"}],\"heatmap\":[{\"colorbar\":{\"outlinewidth\":0,\"ticks\":\"\"},\"colorscale\":[[0.0,\"#0d0887\"],[0.1111111111111111,\"#46039f\"],[0.2222222222222222,\"#7201a8\"],[0.3333333333333333,\"#9c179e\"],[0.4444444444444444,\"#bd3786\"],[0.5555555555555556,\"#d8576b\"],[0.6666666666666666,\"#ed7953\"],[0.7777777777777778,\"#fb9f3a\"],[0.8888888888888888,\"#fdca26\"],[1.0,\"#f0f921\"]],\"type\":\"heatmap\"}],\"heatmapgl\":[{\"colorbar\":{\"outlinewidth\":0,\"ticks\":\"\"},\"colorscale\":[[0.0,\"#0d0887\"],[0.1111111111111111,\"#46039f\"],[0.2222222222222222,\"#7201a8\"],[0.3333333333333333,\"#9c179e\"],[0.4444444444444444,\"#bd3786\"],[0.5555555555555556,\"#d8576b\"],[0.6666666666666666,\"#ed7953\"],[0.7777777777777778,\"#fb9f3a\"],[0.8888888888888888,\"#fdca26\"],[1.0,\"#f0f921\"]],\"type\":\"heatmapgl\"}],\"histogram\":[{\"marker\":{\"pattern\":{\"fillmode\":\"overlay\",\"size\":10,\"solidity\":0.2}},\"type\":\"histogram\"}],\"histogram2d\":[{\"colorbar\":{\"outlinewidth\":0,\"ticks\":\"\"},\"colorscale\":[[0.0,\"#0d0887\"],[0.1111111111111111,\"#46039f\"],[0.2222222222222222,\"#7201a8\"],[0.3333333333333333,\"#9c179e\"],[0.4444444444444444,\"#bd3786\"],[0.5555555555555556,\"#d8576b\"],[0.6666666666666666,\"#ed7953\"],[0.7777777777777778,\"#fb9f3a\"],[0.8888888888888888,\"#fdca26\"],[1.0,\"#f0f921\"]],\"type\":\"histogram2d\"}],\"histogram2dcontour\":[{\"colorbar\":{\"outlinewidth\":0,\"ticks\":\"\"},\"colorscale\":[[0.0,\"#0d0887\"],[0.1111111111111111,\"#46039f\"],[0.2222222222222222,\"#7201a8\"],[0.3333333333333333,\"#9c179e\"],[0.4444444444444444,\"#bd3786\"],[0.5555555555555556,\"#d8576b\"],[0.6666666666666666,\"#ed7953\"],[0.7777777777777778,\"#fb9f3a\"],[0.8888888888888888,\"#fdca26\"],[1.0,\"#f0f921\"]],\"type\":\"histogram2dcontour\"}],\"mesh3d\":[{\"colorbar\":{\"outlinewidth\":0,\"ticks\":\"\"},\"type\":\"mesh3d\"}],\"parcoords\":[{\"line\":{\"colorbar\":{\"outlinewidth\":0,\"ticks\":\"\"}},\"type\":\"parcoords\"}],\"pie\":[{\"automargin\":true,\"type\":\"pie\"}],\"scatter\":[{\"marker\":{\"colorbar\":{\"outlinewidth\":0,\"ticks\":\"\"}},\"type\":\"scatter\"}],\"scatter3d\":[{\"line\":{\"colorbar\":{\"outlinewidth\":0,\"ticks\":\"\"}},\"marker\":{\"colorbar\":{\"outlinewidth\":0,\"ticks\":\"\"}},\"type\":\"scatter3d\"}],\"scattercarpet\":[{\"marker\":{\"colorbar\":{\"outlinewidth\":0,\"ticks\":\"\"}},\"type\":\"scattercarpet\"}],\"scattergeo\":[{\"marker\":{\"colorbar\":{\"outlinewidth\":0,\"ticks\":\"\"}},\"type\":\"scattergeo\"}],\"scattergl\":[{\"marker\":{\"colorbar\":{\"outlinewidth\":0,\"ticks\":\"\"}},\"type\":\"scattergl\"}],\"scattermapbox\":[{\"marker\":{\"colorbar\":{\"outlinewidth\":0,\"ticks\":\"\"}},\"type\":\"scattermapbox\"}],\"scatterpolar\":[{\"marker\":{\"colorbar\":{\"outlinewidth\":0,\"ticks\":\"\"}},\"type\":\"scatterpolar\"}],\"scatterpolargl\":[{\"marker\":{\"colorbar\":{\"outlinewidth\":0,\"ticks\":\"\"}},\"type\":\"scatterpolargl\"}],\"scatterternary\":[{\"marker\":{\"colorbar\":{\"outlinewidth\":0,\"ticks\":\"\"}},\"type\":\"scatterternary\"}],\"surface\":[{\"colorbar\":{\"outlinewidth\":0,\"ticks\":\"\"},\"colorscale\":[[0.0,\"#0d0887\"],[0.1111111111111111,\"#46039f\"],[0.2222222222222222,\"#7201a8\"],[0.3333333333333333,\"#9c179e\"],[0.4444444444444444,\"#bd3786\"],[0.5555555555555556,\"#d8576b\"],[0.6666666666666666,\"#ed7953\"],[0.7777777777777778,\"#fb9f3a\"],[0.8888888888888888,\"#fdca26\"],[1.0,\"#f0f921\"]],\"type\":\"surface\"}],\"table\":[{\"cells\":{\"fill\":{\"color\":\"#EBF0F8\"},\"line\":{\"color\":\"white\"}},\"header\":{\"fill\":{\"color\":\"#C8D4E3\"},\"line\":{\"color\":\"white\"}},\"type\":\"table\"}]},\"layout\":{\"annotationdefaults\":{\"arrowcolor\":\"#2a3f5f\",\"arrowhead\":0,\"arrowwidth\":1},\"autotypenumbers\":\"strict\",\"coloraxis\":{\"colorbar\":{\"outlinewidth\":0,\"ticks\":\"\"}},\"colorscale\":{\"diverging\":[[0,\"#8e0152\"],[0.1,\"#c51b7d\"],[0.2,\"#de77ae\"],[0.3,\"#f1b6da\"],[0.4,\"#fde0ef\"],[0.5,\"#f7f7f7\"],[0.6,\"#e6f5d0\"],[0.7,\"#b8e186\"],[0.8,\"#7fbc41\"],[0.9,\"#4d9221\"],[1,\"#276419\"]],\"sequential\":[[0.0,\"#0d0887\"],[0.1111111111111111,\"#46039f\"],[0.2222222222222222,\"#7201a8\"],[0.3333333333333333,\"#9c179e\"],[0.4444444444444444,\"#bd3786\"],[0.5555555555555556,\"#d8576b\"],[0.6666666666666666,\"#ed7953\"],[0.7777777777777778,\"#fb9f3a\"],[0.8888888888888888,\"#fdca26\"],[1.0,\"#f0f921\"]],\"sequentialminus\":[[0.0,\"#0d0887\"],[0.1111111111111111,\"#46039f\"],[0.2222222222222222,\"#7201a8\"],[0.3333333333333333,\"#9c179e\"],[0.4444444444444444,\"#bd3786\"],[0.5555555555555556,\"#d8576b\"],[0.6666666666666666,\"#ed7953\"],[0.7777777777777778,\"#fb9f3a\"],[0.8888888888888888,\"#fdca26\"],[1.0,\"#f0f921\"]]},\"colorway\":[\"#636efa\",\"#EF553B\",\"#00cc96\",\"#ab63fa\",\"#FFA15A\",\"#19d3f3\",\"#FF6692\",\"#B6E880\",\"#FF97FF\",\"#FECB52\"],\"font\":{\"color\":\"#2a3f5f\"},\"geo\":{\"bgcolor\":\"white\",\"lakecolor\":\"white\",\"landcolor\":\"#E5ECF6\",\"showlakes\":true,\"showland\":true,\"subunitcolor\":\"white\"},\"hoverlabel\":{\"align\":\"left\"},\"hovermode\":\"closest\",\"mapbox\":{\"style\":\"light\"},\"paper_bgcolor\":\"white\",\"plot_bgcolor\":\"#E5ECF6\",\"polar\":{\"angularaxis\":{\"gridcolor\":\"white\",\"linecolor\":\"white\",\"ticks\":\"\"},\"bgcolor\":\"#E5ECF6\",\"radialaxis\":{\"gridcolor\":\"white\",\"linecolor\":\"white\",\"ticks\":\"\"}},\"scene\":{\"xaxis\":{\"backgroundcolor\":\"#E5ECF6\",\"gridcolor\":\"white\",\"gridwidth\":2,\"linecolor\":\"white\",\"showbackground\":true,\"ticks\":\"\",\"zerolinecolor\":\"white\"},\"yaxis\":{\"backgroundcolor\":\"#E5ECF6\",\"gridcolor\":\"white\",\"gridwidth\":2,\"linecolor\":\"white\",\"showbackground\":true,\"ticks\":\"\",\"zerolinecolor\":\"white\"},\"zaxis\":{\"backgroundcolor\":\"#E5ECF6\",\"gridcolor\":\"white\",\"gridwidth\":2,\"linecolor\":\"white\",\"showbackground\":true,\"ticks\":\"\",\"zerolinecolor\":\"white\"}},\"shapedefaults\":{\"line\":{\"color\":\"#2a3f5f\"}},\"ternary\":{\"aaxis\":{\"gridcolor\":\"white\",\"linecolor\":\"white\",\"ticks\":\"\"},\"baxis\":{\"gridcolor\":\"white\",\"linecolor\":\"white\",\"ticks\":\"\"},\"bgcolor\":\"#E5ECF6\",\"caxis\":{\"gridcolor\":\"white\",\"linecolor\":\"white\",\"ticks\":\"\"}},\"title\":{\"x\":0.05},\"xaxis\":{\"automargin\":true,\"gridcolor\":\"white\",\"linecolor\":\"white\",\"ticks\":\"\",\"title\":{\"standoff\":15},\"zerolinecolor\":\"white\",\"zerolinewidth\":2},\"yaxis\":{\"automargin\":true,\"gridcolor\":\"white\",\"linecolor\":\"white\",\"ticks\":\"\",\"title\":{\"standoff\":15},\"zerolinecolor\":\"white\",\"zerolinewidth\":2}}},\"title\":{\"text\":\"Top Rated Books and Their Average Rating\"},\"width\":1500,\"xaxis\":{\"anchor\":\"y\",\"domain\":[0.0,1.0],\"title\":{\"text\":\"average_rating\"}},\"yaxis\":{\"anchor\":\"x\",\"domain\":[0.0,1.0],\"title\":{\"text\":\"title\"}}},                        {\"responsive\": true}                    ).then(function(){\n",
       "                            \n",
       "var gd = document.getElementById('ea9ea46f-ff96-4cb0-8331-8d23183c5a94');\n",
       "var x = new MutationObserver(function (mutations, observer) {{\n",
       "        var display = window.getComputedStyle(gd).display;\n",
       "        if (!display || display === 'none') {{\n",
       "            console.log([gd, 'removed!']);\n",
       "            Plotly.purge(gd);\n",
       "            observer.disconnect();\n",
       "        }}\n",
       "}});\n",
       "\n",
       "// Listen for the removal of the full notebook cells\n",
       "var notebookContainer = gd.closest('#notebook-container');\n",
       "if (notebookContainer) {{\n",
       "    x.observe(notebookContainer, {childList: true});\n",
       "}}\n",
       "\n",
       "// Listen for the clearing of the current output cell\n",
       "var outputEl = gd.closest('.output');\n",
       "if (outputEl) {{\n",
       "    x.observe(outputEl, {childList: true});\n",
       "}}\n",
       "\n",
       "                        })                };                });            </script>        </div>"
      ]
     },
     "metadata": {},
     "output_type": "display_data"
    }
   ],
   "source": [
    "highly_rated = books_dataset.sort_values('average_rating', ascending= False)\n",
    "\n",
    "highly_rated_20 = highly_rated[0:20]\n",
    "\n",
    "fig = px.bar(highly_rated_20, x=\"average_rating\", y=\"title\", title='Top Rated Books and Their Average Rating',\n",
    "             orientation='h', color='original_title', width=1500, height=700)\n",
    "fig.show()\n"
   ]
  },
  {
   "cell_type": "markdown",
   "id": "1dbc35a8-b352-466c-85f2-bdb913b5f2ae",
   "metadata": {},
   "source": [
    "## Most Rated Authors"
   ]
  },
  {
   "cell_type": "markdown",
   "id": "54a74f49-a527-498f-9a82-40c26d67fc86",
   "metadata": {},
   "source": [
    "Most popular authors as determined by the number of ratings their most popular books accrued in the dataset."
   ]
  },
  {
   "cell_type": "code",
   "execution_count": 73,
   "id": "4bb59eaf-8dd4-4eb9-946c-40a398eea93a",
   "metadata": {},
   "outputs": [
    {
     "data": {
      "application/vnd.plotly.v1+json": {
       "config": {
        "plotlyServerURL": "https://plot.ly"
       },
       "data": [
        {
         "branchvalues": "total",
         "domain": {
          "x": [
           0,
           1
          ],
          "y": [
           0,
           1
          ]
         },
         "hovertemplate": "labels=%{label}<br>average_rating=%{value}<br>parent=%{parent}<br>id=%{id}<extra></extra>",
         "ids": [
          "Alice Sebold",
          "Anne Frank, Eleanor Roosevelt, B.M. Mooyaart-Doubleday",
          "Arthur Golden",
          "C.S. Lewis",
          "Cassandra Clare",
          "Charlotte Brontë, Michael Mason",
          "Christopher Paolini",
          "Dan Brown",
          "E.B. White, Garth Williams, Rosemary Wells",
          "E.L. James",
          "Elizabeth Gilbert",
          "F. Scott Fitzgerald",
          "George Orwell",
          "George Orwell, Erich Fromm, Celâl Üster",
          "George R.R. Martin",
          "Harper Lee",
          "J.D. Salinger",
          "J.K. Rowling, Mary GrandPré",
          "J.K. Rowling, Mary GrandPré, Rufus Beck",
          "J.R.R. Tolkien",
          "Jane Austen",
          "John Green",
          "John Steinbeck",
          "Kathryn Stockett",
          "Khaled Hosseini",
          "Lois Lowry",
          "Louisa May Alcott",
          "Markus Zusak",
          "Nicholas Sparks",
          "Paulo Coelho, Alan R. Clarke",
          "Rick Riordan",
          "Sara Gruen",
          "Stephenie Meyer",
          "Stieg Larsson, Reg Keeland",
          "Suzanne Collins",
          "Veronica Roth",
          "William Golding",
          "William Shakespeare, Robert           Jackson"
         ],
         "labels": [
          "Alice Sebold",
          "Anne Frank, Eleanor Roosevelt, B.M. Mooyaart-Doubleday",
          "Arthur Golden",
          "C.S. Lewis",
          "Cassandra Clare",
          "Charlotte Brontë, Michael Mason",
          "Christopher Paolini",
          "Dan Brown",
          "E.B. White, Garth Williams, Rosemary Wells",
          "E.L. James",
          "Elizabeth Gilbert",
          "F. Scott Fitzgerald",
          "George Orwell",
          "George Orwell, Erich Fromm, Celâl Üster",
          "George R.R. Martin",
          "Harper Lee",
          "J.D. Salinger",
          "J.K. Rowling, Mary GrandPré",
          "J.K. Rowling, Mary GrandPré, Rufus Beck",
          "J.R.R. Tolkien",
          "Jane Austen",
          "John Green",
          "John Steinbeck",
          "Kathryn Stockett",
          "Khaled Hosseini",
          "Lois Lowry",
          "Louisa May Alcott",
          "Markus Zusak",
          "Nicholas Sparks",
          "Paulo Coelho, Alan R. Clarke",
          "Rick Riordan",
          "Sara Gruen",
          "Stephenie Meyer",
          "Stieg Larsson, Reg Keeland",
          "Suzanne Collins",
          "Veronica Roth",
          "William Golding",
          "William Shakespeare, Robert           Jackson"
         ],
         "name": "",
         "parents": [
          "",
          "",
          "",
          "",
          "",
          "",
          "",
          "",
          "",
          "",
          "",
          "",
          "",
          "",
          "",
          "",
          "",
          "",
          "",
          "",
          "",
          "",
          "",
          "",
          "",
          "",
          "",
          "",
          "",
          "",
          "",
          "",
          "",
          "",
          "",
          "",
          "",
          ""
         ],
         "type": "treemap",
         "values": [
          3.77,
          4.1,
          4.08,
          4.19,
          4.12,
          4.1,
          3.86,
          7.640000000000001,
          4.15,
          3.67,
          3.51,
          3.89,
          3.87,
          4.14,
          4.45,
          4.25,
          3.79,
          26.950000000000003,
          4.53,
          8.59,
          4.24,
          4.26,
          3.84,
          4.45,
          4.26,
          4.12,
          4.04,
          4.36,
          4.06,
          3.82,
          4.23,
          4.07,
          14.48,
          4.11,
          12.67,
          4.24,
          3.64,
          3.73
         ]
        }
       ],
       "layout": {
        "height": 700,
        "legend": {
         "tracegroupgap": 0
        },
        "template": {
         "data": {
          "bar": [
           {
            "error_x": {
             "color": "#2a3f5f"
            },
            "error_y": {
             "color": "#2a3f5f"
            },
            "marker": {
             "line": {
              "color": "#E5ECF6",
              "width": 0.5
             },
             "pattern": {
              "fillmode": "overlay",
              "size": 10,
              "solidity": 0.2
             }
            },
            "type": "bar"
           }
          ],
          "barpolar": [
           {
            "marker": {
             "line": {
              "color": "#E5ECF6",
              "width": 0.5
             },
             "pattern": {
              "fillmode": "overlay",
              "size": 10,
              "solidity": 0.2
             }
            },
            "type": "barpolar"
           }
          ],
          "carpet": [
           {
            "aaxis": {
             "endlinecolor": "#2a3f5f",
             "gridcolor": "white",
             "linecolor": "white",
             "minorgridcolor": "white",
             "startlinecolor": "#2a3f5f"
            },
            "baxis": {
             "endlinecolor": "#2a3f5f",
             "gridcolor": "white",
             "linecolor": "white",
             "minorgridcolor": "white",
             "startlinecolor": "#2a3f5f"
            },
            "type": "carpet"
           }
          ],
          "choropleth": [
           {
            "colorbar": {
             "outlinewidth": 0,
             "ticks": ""
            },
            "type": "choropleth"
           }
          ],
          "contour": [
           {
            "colorbar": {
             "outlinewidth": 0,
             "ticks": ""
            },
            "colorscale": [
             [
              0,
              "#0d0887"
             ],
             [
              0.1111111111111111,
              "#46039f"
             ],
             [
              0.2222222222222222,
              "#7201a8"
             ],
             [
              0.3333333333333333,
              "#9c179e"
             ],
             [
              0.4444444444444444,
              "#bd3786"
             ],
             [
              0.5555555555555556,
              "#d8576b"
             ],
             [
              0.6666666666666666,
              "#ed7953"
             ],
             [
              0.7777777777777778,
              "#fb9f3a"
             ],
             [
              0.8888888888888888,
              "#fdca26"
             ],
             [
              1,
              "#f0f921"
             ]
            ],
            "type": "contour"
           }
          ],
          "contourcarpet": [
           {
            "colorbar": {
             "outlinewidth": 0,
             "ticks": ""
            },
            "type": "contourcarpet"
           }
          ],
          "heatmap": [
           {
            "colorbar": {
             "outlinewidth": 0,
             "ticks": ""
            },
            "colorscale": [
             [
              0,
              "#0d0887"
             ],
             [
              0.1111111111111111,
              "#46039f"
             ],
             [
              0.2222222222222222,
              "#7201a8"
             ],
             [
              0.3333333333333333,
              "#9c179e"
             ],
             [
              0.4444444444444444,
              "#bd3786"
             ],
             [
              0.5555555555555556,
              "#d8576b"
             ],
             [
              0.6666666666666666,
              "#ed7953"
             ],
             [
              0.7777777777777778,
              "#fb9f3a"
             ],
             [
              0.8888888888888888,
              "#fdca26"
             ],
             [
              1,
              "#f0f921"
             ]
            ],
            "type": "heatmap"
           }
          ],
          "heatmapgl": [
           {
            "colorbar": {
             "outlinewidth": 0,
             "ticks": ""
            },
            "colorscale": [
             [
              0,
              "#0d0887"
             ],
             [
              0.1111111111111111,
              "#46039f"
             ],
             [
              0.2222222222222222,
              "#7201a8"
             ],
             [
              0.3333333333333333,
              "#9c179e"
             ],
             [
              0.4444444444444444,
              "#bd3786"
             ],
             [
              0.5555555555555556,
              "#d8576b"
             ],
             [
              0.6666666666666666,
              "#ed7953"
             ],
             [
              0.7777777777777778,
              "#fb9f3a"
             ],
             [
              0.8888888888888888,
              "#fdca26"
             ],
             [
              1,
              "#f0f921"
             ]
            ],
            "type": "heatmapgl"
           }
          ],
          "histogram": [
           {
            "marker": {
             "pattern": {
              "fillmode": "overlay",
              "size": 10,
              "solidity": 0.2
             }
            },
            "type": "histogram"
           }
          ],
          "histogram2d": [
           {
            "colorbar": {
             "outlinewidth": 0,
             "ticks": ""
            },
            "colorscale": [
             [
              0,
              "#0d0887"
             ],
             [
              0.1111111111111111,
              "#46039f"
             ],
             [
              0.2222222222222222,
              "#7201a8"
             ],
             [
              0.3333333333333333,
              "#9c179e"
             ],
             [
              0.4444444444444444,
              "#bd3786"
             ],
             [
              0.5555555555555556,
              "#d8576b"
             ],
             [
              0.6666666666666666,
              "#ed7953"
             ],
             [
              0.7777777777777778,
              "#fb9f3a"
             ],
             [
              0.8888888888888888,
              "#fdca26"
             ],
             [
              1,
              "#f0f921"
             ]
            ],
            "type": "histogram2d"
           }
          ],
          "histogram2dcontour": [
           {
            "colorbar": {
             "outlinewidth": 0,
             "ticks": ""
            },
            "colorscale": [
             [
              0,
              "#0d0887"
             ],
             [
              0.1111111111111111,
              "#46039f"
             ],
             [
              0.2222222222222222,
              "#7201a8"
             ],
             [
              0.3333333333333333,
              "#9c179e"
             ],
             [
              0.4444444444444444,
              "#bd3786"
             ],
             [
              0.5555555555555556,
              "#d8576b"
             ],
             [
              0.6666666666666666,
              "#ed7953"
             ],
             [
              0.7777777777777778,
              "#fb9f3a"
             ],
             [
              0.8888888888888888,
              "#fdca26"
             ],
             [
              1,
              "#f0f921"
             ]
            ],
            "type": "histogram2dcontour"
           }
          ],
          "mesh3d": [
           {
            "colorbar": {
             "outlinewidth": 0,
             "ticks": ""
            },
            "type": "mesh3d"
           }
          ],
          "parcoords": [
           {
            "line": {
             "colorbar": {
              "outlinewidth": 0,
              "ticks": ""
             }
            },
            "type": "parcoords"
           }
          ],
          "pie": [
           {
            "automargin": true,
            "type": "pie"
           }
          ],
          "scatter": [
           {
            "marker": {
             "colorbar": {
              "outlinewidth": 0,
              "ticks": ""
             }
            },
            "type": "scatter"
           }
          ],
          "scatter3d": [
           {
            "line": {
             "colorbar": {
              "outlinewidth": 0,
              "ticks": ""
             }
            },
            "marker": {
             "colorbar": {
              "outlinewidth": 0,
              "ticks": ""
             }
            },
            "type": "scatter3d"
           }
          ],
          "scattercarpet": [
           {
            "marker": {
             "colorbar": {
              "outlinewidth": 0,
              "ticks": ""
             }
            },
            "type": "scattercarpet"
           }
          ],
          "scattergeo": [
           {
            "marker": {
             "colorbar": {
              "outlinewidth": 0,
              "ticks": ""
             }
            },
            "type": "scattergeo"
           }
          ],
          "scattergl": [
           {
            "marker": {
             "colorbar": {
              "outlinewidth": 0,
              "ticks": ""
             }
            },
            "type": "scattergl"
           }
          ],
          "scattermapbox": [
           {
            "marker": {
             "colorbar": {
              "outlinewidth": 0,
              "ticks": ""
             }
            },
            "type": "scattermapbox"
           }
          ],
          "scatterpolar": [
           {
            "marker": {
             "colorbar": {
              "outlinewidth": 0,
              "ticks": ""
             }
            },
            "type": "scatterpolar"
           }
          ],
          "scatterpolargl": [
           {
            "marker": {
             "colorbar": {
              "outlinewidth": 0,
              "ticks": ""
             }
            },
            "type": "scatterpolargl"
           }
          ],
          "scatterternary": [
           {
            "marker": {
             "colorbar": {
              "outlinewidth": 0,
              "ticks": ""
             }
            },
            "type": "scatterternary"
           }
          ],
          "surface": [
           {
            "colorbar": {
             "outlinewidth": 0,
             "ticks": ""
            },
            "colorscale": [
             [
              0,
              "#0d0887"
             ],
             [
              0.1111111111111111,
              "#46039f"
             ],
             [
              0.2222222222222222,
              "#7201a8"
             ],
             [
              0.3333333333333333,
              "#9c179e"
             ],
             [
              0.4444444444444444,
              "#bd3786"
             ],
             [
              0.5555555555555556,
              "#d8576b"
             ],
             [
              0.6666666666666666,
              "#ed7953"
             ],
             [
              0.7777777777777778,
              "#fb9f3a"
             ],
             [
              0.8888888888888888,
              "#fdca26"
             ],
             [
              1,
              "#f0f921"
             ]
            ],
            "type": "surface"
           }
          ],
          "table": [
           {
            "cells": {
             "fill": {
              "color": "#EBF0F8"
             },
             "line": {
              "color": "white"
             }
            },
            "header": {
             "fill": {
              "color": "#C8D4E3"
             },
             "line": {
              "color": "white"
             }
            },
            "type": "table"
           }
          ]
         },
         "layout": {
          "annotationdefaults": {
           "arrowcolor": "#2a3f5f",
           "arrowhead": 0,
           "arrowwidth": 1
          },
          "autotypenumbers": "strict",
          "coloraxis": {
           "colorbar": {
            "outlinewidth": 0,
            "ticks": ""
           }
          },
          "colorscale": {
           "diverging": [
            [
             0,
             "#8e0152"
            ],
            [
             0.1,
             "#c51b7d"
            ],
            [
             0.2,
             "#de77ae"
            ],
            [
             0.3,
             "#f1b6da"
            ],
            [
             0.4,
             "#fde0ef"
            ],
            [
             0.5,
             "#f7f7f7"
            ],
            [
             0.6,
             "#e6f5d0"
            ],
            [
             0.7,
             "#b8e186"
            ],
            [
             0.8,
             "#7fbc41"
            ],
            [
             0.9,
             "#4d9221"
            ],
            [
             1,
             "#276419"
            ]
           ],
           "sequential": [
            [
             0,
             "#0d0887"
            ],
            [
             0.1111111111111111,
             "#46039f"
            ],
            [
             0.2222222222222222,
             "#7201a8"
            ],
            [
             0.3333333333333333,
             "#9c179e"
            ],
            [
             0.4444444444444444,
             "#bd3786"
            ],
            [
             0.5555555555555556,
             "#d8576b"
            ],
            [
             0.6666666666666666,
             "#ed7953"
            ],
            [
             0.7777777777777778,
             "#fb9f3a"
            ],
            [
             0.8888888888888888,
             "#fdca26"
            ],
            [
             1,
             "#f0f921"
            ]
           ],
           "sequentialminus": [
            [
             0,
             "#0d0887"
            ],
            [
             0.1111111111111111,
             "#46039f"
            ],
            [
             0.2222222222222222,
             "#7201a8"
            ],
            [
             0.3333333333333333,
             "#9c179e"
            ],
            [
             0.4444444444444444,
             "#bd3786"
            ],
            [
             0.5555555555555556,
             "#d8576b"
            ],
            [
             0.6666666666666666,
             "#ed7953"
            ],
            [
             0.7777777777777778,
             "#fb9f3a"
            ],
            [
             0.8888888888888888,
             "#fdca26"
            ],
            [
             1,
             "#f0f921"
            ]
           ]
          },
          "colorway": [
           "#636efa",
           "#EF553B",
           "#00cc96",
           "#ab63fa",
           "#FFA15A",
           "#19d3f3",
           "#FF6692",
           "#B6E880",
           "#FF97FF",
           "#FECB52"
          ],
          "font": {
           "color": "#2a3f5f"
          },
          "geo": {
           "bgcolor": "white",
           "lakecolor": "white",
           "landcolor": "#E5ECF6",
           "showlakes": true,
           "showland": true,
           "subunitcolor": "white"
          },
          "hoverlabel": {
           "align": "left"
          },
          "hovermode": "closest",
          "mapbox": {
           "style": "light"
          },
          "paper_bgcolor": "white",
          "plot_bgcolor": "#E5ECF6",
          "polar": {
           "angularaxis": {
            "gridcolor": "white",
            "linecolor": "white",
            "ticks": ""
           },
           "bgcolor": "#E5ECF6",
           "radialaxis": {
            "gridcolor": "white",
            "linecolor": "white",
            "ticks": ""
           }
          },
          "scene": {
           "xaxis": {
            "backgroundcolor": "#E5ECF6",
            "gridcolor": "white",
            "gridwidth": 2,
            "linecolor": "white",
            "showbackground": true,
            "ticks": "",
            "zerolinecolor": "white"
           },
           "yaxis": {
            "backgroundcolor": "#E5ECF6",
            "gridcolor": "white",
            "gridwidth": 2,
            "linecolor": "white",
            "showbackground": true,
            "ticks": "",
            "zerolinecolor": "white"
           },
           "zaxis": {
            "backgroundcolor": "#E5ECF6",
            "gridcolor": "white",
            "gridwidth": 2,
            "linecolor": "white",
            "showbackground": true,
            "ticks": "",
            "zerolinecolor": "white"
           }
          },
          "shapedefaults": {
           "line": {
            "color": "#2a3f5f"
           }
          },
          "ternary": {
           "aaxis": {
            "gridcolor": "white",
            "linecolor": "white",
            "ticks": ""
           },
           "baxis": {
            "gridcolor": "white",
            "linecolor": "white",
            "ticks": ""
           },
           "bgcolor": "#E5ECF6",
           "caxis": {
            "gridcolor": "white",
            "linecolor": "white",
            "ticks": ""
           }
          },
          "title": {
           "x": 0.05
          },
          "xaxis": {
           "automargin": true,
           "gridcolor": "white",
           "linecolor": "white",
           "ticks": "",
           "title": {
            "standoff": 15
           },
           "zerolinecolor": "white",
           "zerolinewidth": 2
          },
          "yaxis": {
           "automargin": true,
           "gridcolor": "white",
           "linecolor": "white",
           "ticks": "",
           "title": {
            "standoff": 15
           },
           "zerolinecolor": "white",
           "zerolinewidth": 2
          }
         }
        },
        "title": {
         "text": "Most Rated Authors"
        },
        "width": 1000
       }
      },
      "image/png": "[encoded data removed]",
      "text/html": [
       "<div>                            <div id=\"dfe35088-5b5a-490c-b1d3-f0752d7a7e57\" class=\"plotly-graph-div\" style=\"height:700px; width:1000px;\"></div>            <script type=\"text/javascript\">                require([\"plotly\"], function(Plotly) {                    window.PLOTLYENV=window.PLOTLYENV || {};                                    if (document.getElementById(\"dfe35088-5b5a-490c-b1d3-f0752d7a7e57\")) {                    Plotly.newPlot(                        \"dfe35088-5b5a-490c-b1d3-f0752d7a7e57\",                        [{\"branchvalues\":\"total\",\"domain\":{\"x\":[0.0,1.0],\"y\":[0.0,1.0]},\"hovertemplate\":\"labels=%{label}<br>average_rating=%{value}<br>parent=%{parent}<br>id=%{id}<extra></extra>\",\"ids\":[\"Alice Sebold\",\"Anne Frank, Eleanor Roosevelt, B.M. Mooyaart-Doubleday\",\"Arthur Golden\",\"C.S. Lewis\",\"Cassandra Clare\",\"Charlotte Bront\\u00eb, Michael Mason\",\"Christopher Paolini\",\"Dan Brown\",\"E.B. White, Garth Williams, Rosemary Wells\",\"E.L. James\",\"Elizabeth Gilbert\",\"F. Scott Fitzgerald\",\"George Orwell\",\"George Orwell, Erich Fromm, Cel\\u00e2l \\u00dcster\",\"George R.R. Martin\",\"Harper Lee\",\"J.D. Salinger\",\"J.K. Rowling, Mary GrandPr\\u00e9\",\"J.K. Rowling, Mary GrandPr\\u00e9, Rufus Beck\",\"J.R.R. Tolkien\",\"Jane Austen\",\"John Green\",\"John Steinbeck\",\"Kathryn Stockett\",\"Khaled Hosseini\",\"Lois Lowry\",\"Louisa May Alcott\",\"Markus Zusak\",\"Nicholas Sparks\",\"Paulo Coelho, Alan R. Clarke\",\"Rick Riordan\",\"Sara Gruen\",\"Stephenie Meyer\",\"Stieg Larsson, Reg Keeland\",\"Suzanne Collins\",\"Veronica Roth\",\"William Golding\",\"William Shakespeare, Robert           Jackson\"],\"labels\":[\"Alice Sebold\",\"Anne Frank, Eleanor Roosevelt, B.M. Mooyaart-Doubleday\",\"Arthur Golden\",\"C.S. Lewis\",\"Cassandra Clare\",\"Charlotte Bront\\u00eb, Michael Mason\",\"Christopher Paolini\",\"Dan Brown\",\"E.B. White, Garth Williams, Rosemary Wells\",\"E.L. James\",\"Elizabeth Gilbert\",\"F. Scott Fitzgerald\",\"George Orwell\",\"George Orwell, Erich Fromm, Cel\\u00e2l \\u00dcster\",\"George R.R. Martin\",\"Harper Lee\",\"J.D. Salinger\",\"J.K. Rowling, Mary GrandPr\\u00e9\",\"J.K. Rowling, Mary GrandPr\\u00e9, Rufus Beck\",\"J.R.R. Tolkien\",\"Jane Austen\",\"John Green\",\"John Steinbeck\",\"Kathryn Stockett\",\"Khaled Hosseini\",\"Lois Lowry\",\"Louisa May Alcott\",\"Markus Zusak\",\"Nicholas Sparks\",\"Paulo Coelho, Alan R. Clarke\",\"Rick Riordan\",\"Sara Gruen\",\"Stephenie Meyer\",\"Stieg Larsson, Reg Keeland\",\"Suzanne Collins\",\"Veronica Roth\",\"William Golding\",\"William Shakespeare, Robert           Jackson\"],\"name\":\"\",\"parents\":[\"\",\"\",\"\",\"\",\"\",\"\",\"\",\"\",\"\",\"\",\"\",\"\",\"\",\"\",\"\",\"\",\"\",\"\",\"\",\"\",\"\",\"\",\"\",\"\",\"\",\"\",\"\",\"\",\"\",\"\",\"\",\"\",\"\",\"\",\"\",\"\",\"\",\"\"],\"type\":\"treemap\",\"values\":[3.77,4.1,4.08,4.19,4.12,4.1,3.86,7.640000000000001,4.15,3.67,3.51,3.89,3.87,4.14,4.45,4.25,3.79,26.950000000000003,4.53,8.59,4.24,4.26,3.84,4.45,4.26,4.12,4.04,4.36,4.06,3.82,4.23,4.07,14.48,4.11,12.67,4.24,3.64,3.73]}],                        {\"height\":700,\"legend\":{\"tracegroupgap\":0},\"template\":{\"data\":{\"bar\":[{\"error_x\":{\"color\":\"#2a3f5f\"},\"error_y\":{\"color\":\"#2a3f5f\"},\"marker\":{\"line\":{\"color\":\"#E5ECF6\",\"width\":0.5},\"pattern\":{\"fillmode\":\"overlay\",\"size\":10,\"solidity\":0.2}},\"type\":\"bar\"}],\"barpolar\":[{\"marker\":{\"line\":{\"color\":\"#E5ECF6\",\"width\":0.5},\"pattern\":{\"fillmode\":\"overlay\",\"size\":10,\"solidity\":0.2}},\"type\":\"barpolar\"}],\"carpet\":[{\"aaxis\":{\"endlinecolor\":\"#2a3f5f\",\"gridcolor\":\"white\",\"linecolor\":\"white\",\"minorgridcolor\":\"white\",\"startlinecolor\":\"#2a3f5f\"},\"baxis\":{\"endlinecolor\":\"#2a3f5f\",\"gridcolor\":\"white\",\"linecolor\":\"white\",\"minorgridcolor\":\"white\",\"startlinecolor\":\"#2a3f5f\"},\"type\":\"carpet\"}],\"choropleth\":[{\"colorbar\":{\"outlinewidth\":0,\"ticks\":\"\"},\"type\":\"choropleth\"}],\"contour\":[{\"colorbar\":{\"outlinewidth\":0,\"ticks\":\"\"},\"colorscale\":[[0.0,\"#0d0887\"],[0.1111111111111111,\"#46039f\"],[0.2222222222222222,\"#7201a8\"],[0.3333333333333333,\"#9c179e\"],[0.4444444444444444,\"#bd3786\"],[0.5555555555555556,\"#d8576b\"],[0.6666666666666666,\"#ed7953\"],[0.7777777777777778,\"#fb9f3a\"],[0.8888888888888888,\"#fdca26\"],[1.0,\"#f0f921\"]],\"type\":\"contour\"}],\"contourcarpet\":[{\"colorbar\":{\"outlinewidth\":0,\"ticks\":\"\"},\"type\":\"contourcarpet\"}],\"heatmap\":[{\"colorbar\":{\"outlinewidth\":0,\"ticks\":\"\"},\"colorscale\":[[0.0,\"#0d0887\"],[0.1111111111111111,\"#46039f\"],[0.2222222222222222,\"#7201a8\"],[0.3333333333333333,\"#9c179e\"],[0.4444444444444444,\"#bd3786\"],[0.5555555555555556,\"#d8576b\"],[0.6666666666666666,\"#ed7953\"],[0.7777777777777778,\"#fb9f3a\"],[0.8888888888888888,\"#fdca26\"],[1.0,\"#f0f921\"]],\"type\":\"heatmap\"}],\"heatmapgl\":[{\"colorbar\":{\"outlinewidth\":0,\"ticks\":\"\"},\"colorscale\":[[0.0,\"#0d0887\"],[0.1111111111111111,\"#46039f\"],[0.2222222222222222,\"#7201a8\"],[0.3333333333333333,\"#9c179e\"],[0.4444444444444444,\"#bd3786\"],[0.5555555555555556,\"#d8576b\"],[0.6666666666666666,\"#ed7953\"],[0.7777777777777778,\"#fb9f3a\"],[0.8888888888888888,\"#fdca26\"],[1.0,\"#f0f921\"]],\"type\":\"heatmapgl\"}],\"histogram\":[{\"marker\":{\"pattern\":{\"fillmode\":\"overlay\",\"size\":10,\"solidity\":0.2}},\"type\":\"histogram\"}],\"histogram2d\":[{\"colorbar\":{\"outlinewidth\":0,\"ticks\":\"\"},\"colorscale\":[[0.0,\"#0d0887\"],[0.1111111111111111,\"#46039f\"],[0.2222222222222222,\"#7201a8\"],[0.3333333333333333,\"#9c179e\"],[0.4444444444444444,\"#bd3786\"],[0.5555555555555556,\"#d8576b\"],[0.6666666666666666,\"#ed7953\"],[0.7777777777777778,\"#fb9f3a\"],[0.8888888888888888,\"#fdca26\"],[1.0,\"#f0f921\"]],\"type\":\"histogram2d\"}],\"histogram2dcontour\":[{\"colorbar\":{\"outlinewidth\":0,\"ticks\":\"\"},\"colorscale\":[[0.0,\"#0d0887\"],[0.1111111111111111,\"#46039f\"],[0.2222222222222222,\"#7201a8\"],[0.3333333333333333,\"#9c179e\"],[0.4444444444444444,\"#bd3786\"],[0.5555555555555556,\"#d8576b\"],[0.6666666666666666,\"#ed7953\"],[0.7777777777777778,\"#fb9f3a\"],[0.8888888888888888,\"#fdca26\"],[1.0,\"#f0f921\"]],\"type\":\"histogram2dcontour\"}],\"mesh3d\":[{\"colorbar\":{\"outlinewidth\":0,\"ticks\":\"\"},\"type\":\"mesh3d\"}],\"parcoords\":[{\"line\":{\"colorbar\":{\"outlinewidth\":0,\"ticks\":\"\"}},\"type\":\"parcoords\"}],\"pie\":[{\"automargin\":true,\"type\":\"pie\"}],\"scatter\":[{\"marker\":{\"colorbar\":{\"outlinewidth\":0,\"ticks\":\"\"}},\"type\":\"scatter\"}],\"scatter3d\":[{\"line\":{\"colorbar\":{\"outlinewidth\":0,\"ticks\":\"\"}},\"marker\":{\"colorbar\":{\"outlinewidth\":0,\"ticks\":\"\"}},\"type\":\"scatter3d\"}],\"scattercarpet\":[{\"marker\":{\"colorbar\":{\"outlinewidth\":0,\"ticks\":\"\"}},\"type\":\"scattercarpet\"}],\"scattergeo\":[{\"marker\":{\"colorbar\":{\"outlinewidth\":0,\"ticks\":\"\"}},\"type\":\"scattergeo\"}],\"scattergl\":[{\"marker\":{\"colorbar\":{\"outlinewidth\":0,\"ticks\":\"\"}},\"type\":\"scattergl\"}],\"scattermapbox\":[{\"marker\":{\"colorbar\":{\"outlinewidth\":0,\"ticks\":\"\"}},\"type\":\"scattermapbox\"}],\"scatterpolar\":[{\"marker\":{\"colorbar\":{\"outlinewidth\":0,\"ticks\":\"\"}},\"type\":\"scatterpolar\"}],\"scatterpolargl\":[{\"marker\":{\"colorbar\":{\"outlinewidth\":0,\"ticks\":\"\"}},\"type\":\"scatterpolargl\"}],\"scatterternary\":[{\"marker\":{\"colorbar\":{\"outlinewidth\":0,\"ticks\":\"\"}},\"type\":\"scatterternary\"}],\"surface\":[{\"colorbar\":{\"outlinewidth\":0,\"ticks\":\"\"},\"colorscale\":[[0.0,\"#0d0887\"],[0.1111111111111111,\"#46039f\"],[0.2222222222222222,\"#7201a8\"],[0.3333333333333333,\"#9c179e\"],[0.4444444444444444,\"#bd3786\"],[0.5555555555555556,\"#d8576b\"],[0.6666666666666666,\"#ed7953\"],[0.7777777777777778,\"#fb9f3a\"],[0.8888888888888888,\"#fdca26\"],[1.0,\"#f0f921\"]],\"type\":\"surface\"}],\"table\":[{\"cells\":{\"fill\":{\"color\":\"#EBF0F8\"},\"line\":{\"color\":\"white\"}},\"header\":{\"fill\":{\"color\":\"#C8D4E3\"},\"line\":{\"color\":\"white\"}},\"type\":\"table\"}]},\"layout\":{\"annotationdefaults\":{\"arrowcolor\":\"#2a3f5f\",\"arrowhead\":0,\"arrowwidth\":1},\"autotypenumbers\":\"strict\",\"coloraxis\":{\"colorbar\":{\"outlinewidth\":0,\"ticks\":\"\"}},\"colorscale\":{\"diverging\":[[0,\"#8e0152\"],[0.1,\"#c51b7d\"],[0.2,\"#de77ae\"],[0.3,\"#f1b6da\"],[0.4,\"#fde0ef\"],[0.5,\"#f7f7f7\"],[0.6,\"#e6f5d0\"],[0.7,\"#b8e186\"],[0.8,\"#7fbc41\"],[0.9,\"#4d9221\"],[1,\"#276419\"]],\"sequential\":[[0.0,\"#0d0887\"],[0.1111111111111111,\"#46039f\"],[0.2222222222222222,\"#7201a8\"],[0.3333333333333333,\"#9c179e\"],[0.4444444444444444,\"#bd3786\"],[0.5555555555555556,\"#d8576b\"],[0.6666666666666666,\"#ed7953\"],[0.7777777777777778,\"#fb9f3a\"],[0.8888888888888888,\"#fdca26\"],[1.0,\"#f0f921\"]],\"sequentialminus\":[[0.0,\"#0d0887\"],[0.1111111111111111,\"#46039f\"],[0.2222222222222222,\"#7201a8\"],[0.3333333333333333,\"#9c179e\"],[0.4444444444444444,\"#bd3786\"],[0.5555555555555556,\"#d8576b\"],[0.6666666666666666,\"#ed7953\"],[0.7777777777777778,\"#fb9f3a\"],[0.8888888888888888,\"#fdca26\"],[1.0,\"#f0f921\"]]},\"colorway\":[\"#636efa\",\"#EF553B\",\"#00cc96\",\"#ab63fa\",\"#FFA15A\",\"#19d3f3\",\"#FF6692\",\"#B6E880\",\"#FF97FF\",\"#FECB52\"],\"font\":{\"color\":\"#2a3f5f\"},\"geo\":{\"bgcolor\":\"white\",\"lakecolor\":\"white\",\"landcolor\":\"#E5ECF6\",\"showlakes\":true,\"showland\":true,\"subunitcolor\":\"white\"},\"hoverlabel\":{\"align\":\"left\"},\"hovermode\":\"closest\",\"mapbox\":{\"style\":\"light\"},\"paper_bgcolor\":\"white\",\"plot_bgcolor\":\"#E5ECF6\",\"polar\":{\"angularaxis\":{\"gridcolor\":\"white\",\"linecolor\":\"white\",\"ticks\":\"\"},\"bgcolor\":\"#E5ECF6\",\"radialaxis\":{\"gridcolor\":\"white\",\"linecolor\":\"white\",\"ticks\":\"\"}},\"scene\":{\"xaxis\":{\"backgroundcolor\":\"#E5ECF6\",\"gridcolor\":\"white\",\"gridwidth\":2,\"linecolor\":\"white\",\"showbackground\":true,\"ticks\":\"\",\"zerolinecolor\":\"white\"},\"yaxis\":{\"backgroundcolor\":\"#E5ECF6\",\"gridcolor\":\"white\",\"gridwidth\":2,\"linecolor\":\"white\",\"showbackground\":true,\"ticks\":\"\",\"zerolinecolor\":\"white\"},\"zaxis\":{\"backgroundcolor\":\"#E5ECF6\",\"gridcolor\":\"white\",\"gridwidth\":2,\"linecolor\":\"white\",\"showbackground\":true,\"ticks\":\"\",\"zerolinecolor\":\"white\"}},\"shapedefaults\":{\"line\":{\"color\":\"#2a3f5f\"}},\"ternary\":{\"aaxis\":{\"gridcolor\":\"white\",\"linecolor\":\"white\",\"ticks\":\"\"},\"baxis\":{\"gridcolor\":\"white\",\"linecolor\":\"white\",\"ticks\":\"\"},\"bgcolor\":\"#E5ECF6\",\"caxis\":{\"gridcolor\":\"white\",\"linecolor\":\"white\",\"ticks\":\"\"}},\"title\":{\"x\":0.05},\"xaxis\":{\"automargin\":true,\"gridcolor\":\"white\",\"linecolor\":\"white\",\"ticks\":\"\",\"title\":{\"standoff\":15},\"zerolinecolor\":\"white\",\"zerolinewidth\":2},\"yaxis\":{\"automargin\":true,\"gridcolor\":\"white\",\"linecolor\":\"white\",\"ticks\":\"\",\"title\":{\"standoff\":15},\"zerolinecolor\":\"white\",\"zerolinewidth\":2}}},\"title\":{\"text\":\"Most Rated Authors\"},\"width\":1000},                        {\"responsive\": true}                    ).then(function(){\n",
       "                            \n",
       "var gd = document.getElementById('dfe35088-5b5a-490c-b1d3-f0752d7a7e57');\n",
       "var x = new MutationObserver(function (mutations, observer) {{\n",
       "        var display = window.getComputedStyle(gd).display;\n",
       "        if (!display || display === 'none') {{\n",
       "            console.log([gd, 'removed!']);\n",
       "            Plotly.purge(gd);\n",
       "            observer.disconnect();\n",
       "        }}\n",
       "}});\n",
       "\n",
       "// Listen for the removal of the full notebook cells\n",
       "var notebookContainer = gd.closest('#notebook-container');\n",
       "if (notebookContainer) {{\n",
       "    x.observe(notebookContainer, {childList: true});\n",
       "}}\n",
       "\n",
       "// Listen for the clearing of the current output cell\n",
       "var outputEl = gd.closest('.output');\n",
       "if (outputEl) {{\n",
       "    x.observe(outputEl, {childList: true});\n",
       "}}\n",
       "\n",
       "                        })                };                });            </script>        </div>"
      ]
     },
     "metadata": {},
     "output_type": "display_data"
    }
   ],
   "source": [
    "#top_auth = most_rated.drop_duplicates(subset='authors', keep='first')\n",
    "top_auth = most_rated.sort_values('ratings_count', ascending=False)\n",
    "top_50_auth = top_auth[:50]\n",
    "fig = px.treemap(top_50_auth, path=['authors'], values='average_rating',title='Most Rated Authors', width=1000, height=700)\n",
    "fig.show()"
   ]
  },
  {
   "cell_type": "markdown",
   "id": "83f7c1e1-3e90-4c15-9654-700fc1385673",
   "metadata": {},
   "source": [
    "In the above treemap we can see which authors appear most freqeuently among books sorted for the highest ratings count when filtered to the top 50 books with the most ratings. Popular series authors appear prominently in the chart as they have multiple books  within the top 50 most rated titles and  aggregated together they claim a larger portion of the chart. The tree map has added the average_rating for each title entry within the top 50 together to give for example J.R.R Tolkien an average rating of 8.59, where until now we've been dealing with ratings strictly out of 5 stars. This is not an issue as we are mainly using this to visualize which authors appear most frequently in the top 50 most rated titles."
   ]
  },
  {
   "cell_type": "markdown",
   "id": "701bd8f3-bae9-4b1d-9d74-f420d6bc184b",
   "metadata": {},
   "source": [
    "# Further Analysis "
   ]
  },
  {
   "cell_type": "markdown",
   "id": "c6996704-34fa-4f05-8611-92e85134763a",
   "metadata": {},
   "source": [
    "### Correaltion Matrix to search for Relationships "
   ]
  },
  {
   "cell_type": "code",
   "execution_count": 74,
   "id": "640ac11b-0363-4a97-b033-b85319a8cc48",
   "metadata": {},
   "outputs": [
    {
     "data": {
      "image/png": "[encoded data removed]",
      "text/plain": [
       "<Figure size 432x288 with 2 Axes>"
      ]
     },
     "metadata": {},
     "output_type": "display_data"
    }
   ],
   "source": [
    "variables = books_dataset[['average_rating','ratings_count', 'original_publication_year', 'original_title', 'work_text_reviews_count','book_id','original_publication_year']]\n",
    "corr_plot = sns.heatmap(variables.corr(), annot=True)\n",
    "plt.show()"
   ]
  },
  {
   "cell_type": "markdown",
   "id": "0fa7fe85-50da-4f06-a08b-7a11d586a05d",
   "metadata": {},
   "source": [
    "As seen above in the Correlation Matrix most of the variables have only a small linear correlation between each other and not to any significant extent meaning we can say that the meta-variables associated with a book do no have much of an impact on the actual rating so much so as the actual quality of the content of the book. We do see a stronger pearson's correlation coefficient between work_text_reviews_count and ratings_count with $r=0.78$, showing a strong linear correlation between the two variables. This is not surprising as we could already expect the number of text reviews to increase as the number of users giving books a star rating increased. \n",
    "\n",
    "The correlation matrix above is a good way to check for potential multicollinearity problems, since one of the main assumptions of multiple linear regression is that none of the independent variables are highly correlated with each other."
   ]
  },
  {
   "cell_type": "markdown",
   "id": "3871069d-e409-4045-8025-1956f8693f55",
   "metadata": {},
   "source": [
    "### Relationship between the Number of Ratings and the Average Rating"
   ]
  },
  {
   "cell_type": "code",
   "execution_count": 75,
   "id": "e9a251a0-d843-46d2-b49c-72a45f9a8fb2",
   "metadata": {},
   "outputs": [
    {
     "data": {
      "image/png": "[encoded data removed]",
      "text/plain": [
       "<Figure size 360x360 with 1 Axes>"
      ]
     },
     "metadata": {},
     "output_type": "display_data"
    }
   ],
   "source": [
    "sns.lmplot(x='ratings_count', y='average_rating', data=books_dataset, line_kws={'color': 'black'})\n",
    "corr_coef_data = books_dataset['ratings_count'].corr(books_dataset['average_rating'])\n",
    "\n",
    "plt.text(1*10**6, 3, 'r =' +str(corr_coef_data))\n",
    "plt.title('Ratings Count relationship with Average Rating')\n",
    "plt.show()\n",
    "\n"
   ]
  },
  {
   "cell_type": "markdown",
   "id": "cdaf635d-b44e-4977-ac38-b47752571891",
   "metadata": {},
   "source": [
    "We can further examine whether the popularity, meaning in this case the number of ratings a book has recieved, has any association with the average rating the book is given by plotting a linear regression model between the ratings_count and the average_rating column of the books_dataset. The correlation coefficient was found to be $r=0.0535$ showing very little linear association is to be found with respect to the ratings_counts effect on the average_rating of a book, this is somewhat interesting as it could be thought that more popular books i.e. books with more ratings would have a bias towards a significantly higher average_rating seeing as for a book to stand out and be more popular it could be expected to be favored by the user base. "
   ]
  },
  {
   "cell_type": "markdown",
   "id": "1113c450-e645-473c-9698-e29f6abc485c",
   "metadata": {},
   "source": [
    "### Frequent Readers Effect on Book Rating"
   ]
  },
  {
   "cell_type": "markdown",
   "id": "bce2bd47-1600-4fee-a350-a9abd359544d",
   "metadata": {},
   "source": [
    "Lets take a look at the effect frequent reading has on the overall average rating given to the books each user has read."
   ]
  },
  {
   "cell_type": "code",
   "execution_count": 76,
   "id": "6b177b62-46de-4914-a4d2-dcdb926c1edc",
   "metadata": {},
   "outputs": [
    {
     "data": {
      "image/png": "[encoded data removed]",
      "text/plain": [
       "<Figure size 360x360 with 1 Axes>"
      ]
     },
     "metadata": {},
     "output_type": "display_data"
    }
   ],
   "source": [
    "#Grouping the Ratings for each user and their average rating\n",
    "ratings_by_user = ratings_final.groupby(['user_id'])['rating'].count()\n",
    "avg_ratings_by_user = ratings_final.groupby(['user_id'])['rating'].mean()\n",
    "\n",
    "#Create Df for lmplot\n",
    "freq_raters = { 'number_of_rated_books_user':ratings_by_user, 'Avg_rating_by_user':avg_ratings_by_user}\n",
    "fq_rate_df = pd.DataFrame(freq_raters)\n",
    "\n",
    "#Create linear model\n",
    "sns.lmplot(x='number_of_rated_books_user', y='Avg_rating_by_user', data =fq_rate_df, x_jitter=.1, y_jitter=.1, line_kws={'color': 'black'})\n",
    "\n",
    "#Find correlation coeff\n",
    "corr_coef_fq_rate = fq_rate_df['number_of_rated_books_user'].corr(fq_rate_df['Avg_rating_by_user'])\n",
    "\n",
    "plt.text(125, 1.5, 'r =' +str(corr_coef_fq_rate))\n",
    "plt.title('Number of Rated Books Relationship with Average Rating')\n",
    "plt.show()"
   ]
  },
  {
   "cell_type": "markdown",
   "id": "0e169ee1-79b6-4231-95c0-572c6f76e2a1",
   "metadata": {},
   "source": [
    "There is a slight negative linear correlation  as seen by correlation coefficient, $r=- 0.0231$, so nothing significant, but it may lend creedence to the belief that as readers have read more books they become more critical in their ratings and as such rate books slightly lower than the typical user."
   ]
  },
  {
   "cell_type": "markdown",
   "id": "6c135a0b-3ef7-4dac-9942-822c67d060e4",
   "metadata": {},
   "source": [
    "# How Do Sequels Compare to the Original?"
   ]
  },
  {
   "cell_type": "code",
   "execution_count": 77,
   "id": "3f6f4c46-70ab-4b05-96ea-827b6545c694",
   "metadata": {},
   "outputs": [],
   "source": [
    "#new df to add col with cleaned up title\n",
    "books_dataset_new = books_dataset\n",
    "\n",
    "#Extract and clean title series to include only title series name\n",
    "books_dataset_new['title_series']= books_dataset_new['title'].str.extract (r\"\\((.*,)\")\n",
    "books_dataset_new['title_series']= books_dataset_new['title_series'].str.split (pat=',').str[0]\n",
    "\n",
    "#extract the number in seris and assign it a column\n",
    "books_dataset_new['num_series']= books_dataset_new['title'].str.extract(r\"(\\d)\")\n",
    "book_series = books_dataset_new.dropna()"
   ]
  },
  {
   "cell_type": "markdown",
   "id": "dba1b9b4-b315-4058-8d29-f66cedb04acd",
   "metadata": {},
   "source": [
    "We now have a new dataframe book_series with a new columns containing only the title_series name and an additional column with the num_series that encodes where the book falls in the given series. We can now procced to group the title series together to analyze the number of books in a given series and the average rating of books within a given series."
   ]
  },
  {
   "cell_type": "code",
   "execution_count": 78,
   "id": "9f3b12f5-cc28-475b-97e4-c2bf4c9e478b",
   "metadata": {},
   "outputs": [
    {
     "data": {
      "text/html": [
       "<div>\n",
       "<style scoped>\n",
       "    .dataframe tbody tr th:only-of-type {\n",
       "        vertical-align: middle;\n",
       "    }\n",
       "\n",
       "    .dataframe tbody tr th {\n",
       "        vertical-align: top;\n",
       "    }\n",
       "\n",
       "    .dataframe thead th {\n",
       "        text-align: right;\n",
       "    }\n",
       "</style>\n",
       "<table border=\"1\" class=\"dataframe\">\n",
       "  <thead>\n",
       "    <tr style=\"text-align: right;\">\n",
       "      <th></th>\n",
       "      <th>id</th>\n",
       "      <th>book_id</th>\n",
       "      <th>best_book_id</th>\n",
       "      <th>work_id</th>\n",
       "      <th>books_count</th>\n",
       "      <th>isbn</th>\n",
       "      <th>isbn13</th>\n",
       "      <th>authors</th>\n",
       "      <th>original_publication_year</th>\n",
       "      <th>original_title</th>\n",
       "      <th>title</th>\n",
       "      <th>language_code</th>\n",
       "      <th>average_rating</th>\n",
       "      <th>ratings_count</th>\n",
       "      <th>work_ratings_count</th>\n",
       "      <th>work_text_reviews_count</th>\n",
       "      <th>ratings_1</th>\n",
       "      <th>ratings_2</th>\n",
       "      <th>ratings_3</th>\n",
       "      <th>ratings_4</th>\n",
       "      <th>ratings_5</th>\n",
       "      <th>title_series</th>\n",
       "      <th>num_series</th>\n",
       "    </tr>\n",
       "  </thead>\n",
       "  <tbody>\n",
       "    <tr>\n",
       "      <th>0</th>\n",
       "      <td>1</td>\n",
       "      <td>2767052</td>\n",
       "      <td>2767052</td>\n",
       "      <td>2792775</td>\n",
       "      <td>272</td>\n",
       "      <td>439023483</td>\n",
       "      <td>9.780439e+12</td>\n",
       "      <td>Suzanne Collins</td>\n",
       "      <td>2008.0</td>\n",
       "      <td>The Hunger Games</td>\n",
       "      <td>The Hunger Games (The Hunger Games, #1)</td>\n",
       "      <td>eng</td>\n",
       "      <td>4.34</td>\n",
       "      <td>4780653</td>\n",
       "      <td>4942365</td>\n",
       "      <td>155254</td>\n",
       "      <td>66715</td>\n",
       "      <td>127936</td>\n",
       "      <td>560092</td>\n",
       "      <td>1481305</td>\n",
       "      <td>2706317</td>\n",
       "      <td>The Hunger Games</td>\n",
       "      <td>1</td>\n",
       "    </tr>\n",
       "    <tr>\n",
       "      <th>1</th>\n",
       "      <td>2</td>\n",
       "      <td>3</td>\n",
       "      <td>3</td>\n",
       "      <td>4640799</td>\n",
       "      <td>491</td>\n",
       "      <td>439554934</td>\n",
       "      <td>9.780440e+12</td>\n",
       "      <td>J.K. Rowling, Mary GrandPré</td>\n",
       "      <td>1997.0</td>\n",
       "      <td>Harry Potter and the Philosopher's Stone</td>\n",
       "      <td>Harry Potter and the Sorcerer's Stone (Harry P...</td>\n",
       "      <td>eng</td>\n",
       "      <td>4.44</td>\n",
       "      <td>4602479</td>\n",
       "      <td>4800065</td>\n",
       "      <td>75867</td>\n",
       "      <td>75504</td>\n",
       "      <td>101676</td>\n",
       "      <td>455024</td>\n",
       "      <td>1156318</td>\n",
       "      <td>3011543</td>\n",
       "      <td>Harry Potter</td>\n",
       "      <td>1</td>\n",
       "    </tr>\n",
       "    <tr>\n",
       "      <th>2</th>\n",
       "      <td>3</td>\n",
       "      <td>41865</td>\n",
       "      <td>41865</td>\n",
       "      <td>3212258</td>\n",
       "      <td>226</td>\n",
       "      <td>316015849</td>\n",
       "      <td>9.780316e+12</td>\n",
       "      <td>Stephenie Meyer</td>\n",
       "      <td>2005.0</td>\n",
       "      <td>Twilight</td>\n",
       "      <td>Twilight (Twilight, #1)</td>\n",
       "      <td>en-US</td>\n",
       "      <td>3.57</td>\n",
       "      <td>3866839</td>\n",
       "      <td>3916824</td>\n",
       "      <td>95009</td>\n",
       "      <td>456191</td>\n",
       "      <td>436802</td>\n",
       "      <td>793319</td>\n",
       "      <td>875073</td>\n",
       "      <td>1355439</td>\n",
       "      <td>Twilight</td>\n",
       "      <td>1</td>\n",
       "    </tr>\n",
       "    <tr>\n",
       "      <th>8</th>\n",
       "      <td>9</td>\n",
       "      <td>960</td>\n",
       "      <td>960</td>\n",
       "      <td>3338963</td>\n",
       "      <td>311</td>\n",
       "      <td>1416524797</td>\n",
       "      <td>9.781417e+12</td>\n",
       "      <td>Dan Brown</td>\n",
       "      <td>2000.0</td>\n",
       "      <td>Angels &amp; Demons</td>\n",
       "      <td>Angels &amp; Demons  (Robert Langdon, #1)</td>\n",
       "      <td>en-CA</td>\n",
       "      <td>3.85</td>\n",
       "      <td>2001311</td>\n",
       "      <td>2078754</td>\n",
       "      <td>25112</td>\n",
       "      <td>77841</td>\n",
       "      <td>145740</td>\n",
       "      <td>458429</td>\n",
       "      <td>716569</td>\n",
       "      <td>680175</td>\n",
       "      <td>Robert Langdon</td>\n",
       "      <td>1</td>\n",
       "    </tr>\n",
       "    <tr>\n",
       "      <th>11</th>\n",
       "      <td>12</td>\n",
       "      <td>13335037</td>\n",
       "      <td>13335037</td>\n",
       "      <td>13155899</td>\n",
       "      <td>210</td>\n",
       "      <td>62024035</td>\n",
       "      <td>9.780062e+12</td>\n",
       "      <td>Veronica Roth</td>\n",
       "      <td>2011.0</td>\n",
       "      <td>Divergent</td>\n",
       "      <td>Divergent (Divergent, #1)</td>\n",
       "      <td>eng</td>\n",
       "      <td>4.24</td>\n",
       "      <td>1903563</td>\n",
       "      <td>2216814</td>\n",
       "      <td>101023</td>\n",
       "      <td>36315</td>\n",
       "      <td>82870</td>\n",
       "      <td>310297</td>\n",
       "      <td>673028</td>\n",
       "      <td>1114304</td>\n",
       "      <td>Divergent</td>\n",
       "      <td>1</td>\n",
       "    </tr>\n",
       "  </tbody>\n",
       "</table>\n",
       "</div>"
      ],
      "text/plain": [
       "    id   book_id  best_book_id   work_id  books_count        isbn  \\\n",
       "0    1   2767052       2767052   2792775          272   439023483   \n",
       "1    2         3             3   4640799          491   439554934   \n",
       "2    3     41865         41865   3212258          226   316015849   \n",
       "8    9       960           960   3338963          311  1416524797   \n",
       "11  12  13335037      13335037  13155899          210    62024035   \n",
       "\n",
       "          isbn13                      authors  original_publication_year  \\\n",
       "0   9.780439e+12              Suzanne Collins                     2008.0   \n",
       "1   9.780440e+12  J.K. Rowling, Mary GrandPré                     1997.0   \n",
       "2   9.780316e+12              Stephenie Meyer                     2005.0   \n",
       "8   9.781417e+12                    Dan Brown                     2000.0   \n",
       "11  9.780062e+12                Veronica Roth                     2011.0   \n",
       "\n",
       "                              original_title  \\\n",
       "0                           The Hunger Games   \n",
       "1   Harry Potter and the Philosopher's Stone   \n",
       "2                                   Twilight   \n",
       "8                           Angels & Demons    \n",
       "11                                 Divergent   \n",
       "\n",
       "                                                title language_code  \\\n",
       "0             The Hunger Games (The Hunger Games, #1)           eng   \n",
       "1   Harry Potter and the Sorcerer's Stone (Harry P...           eng   \n",
       "2                             Twilight (Twilight, #1)         en-US   \n",
       "8               Angels & Demons  (Robert Langdon, #1)         en-CA   \n",
       "11                          Divergent (Divergent, #1)           eng   \n",
       "\n",
       "    average_rating  ratings_count  work_ratings_count  \\\n",
       "0             4.34        4780653             4942365   \n",
       "1             4.44        4602479             4800065   \n",
       "2             3.57        3866839             3916824   \n",
       "8             3.85        2001311             2078754   \n",
       "11            4.24        1903563             2216814   \n",
       "\n",
       "    work_text_reviews_count  ratings_1  ratings_2  ratings_3  ratings_4  \\\n",
       "0                    155254      66715     127936     560092    1481305   \n",
       "1                     75867      75504     101676     455024    1156318   \n",
       "2                     95009     456191     436802     793319     875073   \n",
       "8                     25112      77841     145740     458429     716569   \n",
       "11                   101023      36315      82870     310297     673028   \n",
       "\n",
       "    ratings_5      title_series num_series  \n",
       "0     2706317  The Hunger Games          1  \n",
       "1     3011543      Harry Potter          1  \n",
       "2     1355439          Twilight          1  \n",
       "8      680175    Robert Langdon          1  \n",
       "11    1114304         Divergent          1  "
      ]
     },
     "execution_count": 78,
     "metadata": {},
     "output_type": "execute_result"
    }
   ],
   "source": [
    "book_series.head()"
   ]
  },
  {
   "cell_type": "code",
   "execution_count": 79,
   "id": "9d9c3f3c-2461-4e9a-a959-2cf24c7c667c",
   "metadata": {},
   "outputs": [],
   "source": [
    "no_of_books_series = book_series.groupby(['title_series'])['num_series'].count()\n",
    "avg_rating_of_series = book_series.groupby(['title_series'])['average_rating'].mean()"
   ]
  },
  {
   "cell_type": "code",
   "execution_count": 80,
   "id": "4863e8d6-968c-4229-8f18-5af3d22dd8c1",
   "metadata": {},
   "outputs": [
    {
     "data": {
      "text/plain": [
       "title_series\n",
       "In Death               40\n",
       "Discworld              37\n",
       "Stephanie Plum         25\n",
       "Hercule Poirot         25\n",
       "Anita Blake            22\n",
       "                       ..\n",
       "Rocky Pelligrino        1\n",
       "Rosato & Associates     1\n",
       "Rosemary Beach          1\n",
       "Firstborn               1\n",
       "Ορέστεια                1\n",
       "Name: num_series, Length: 1349, dtype: int64"
      ]
     },
     "execution_count": 80,
     "metadata": {},
     "output_type": "execute_result"
    }
   ],
   "source": [
    "no_of_books_series.sort_values(ascending=False)"
   ]
  },
  {
   "cell_type": "code",
   "execution_count": 81,
   "id": "908abebb-4fe4-429e-98c9-7d7362901b0d",
   "metadata": {},
   "outputs": [
    {
     "data": {
      "text/plain": [
       "title_series\n",
       "The Stormlight Archive      4.705\n",
       "The Kingkiller Chronicle    4.560\n",
       "The Fitz and The Fool       4.530\n",
       "Mark of the Lion            4.530\n",
       "Captive Prince              4.500\n",
       "                            ...  \n",
       "Andy Brazil                 3.280\n",
       "Ghostgirl                   3.280\n",
       "The Wideacre Trilogy        3.280\n",
       "The Devil Wears Prada       3.270\n",
       "Star Wars: Aftermath        3.150\n",
       "Name: average_rating, Length: 1349, dtype: float64"
      ]
     },
     "execution_count": 81,
     "metadata": {},
     "output_type": "execute_result"
    }
   ],
   "source": [
    "avg_rating_of_series.sort_values(ascending=False)"
   ]
  },
  {
   "cell_type": "code",
   "execution_count": 82,
   "id": "72bd49d0-76a2-4fd7-b8ca-844e1097cd2c",
   "metadata": {},
   "outputs": [
    {
     "data": {
      "text/html": [
       "<div>\n",
       "<style scoped>\n",
       "    .dataframe tbody tr th:only-of-type {\n",
       "        vertical-align: middle;\n",
       "    }\n",
       "\n",
       "    .dataframe tbody tr th {\n",
       "        vertical-align: top;\n",
       "    }\n",
       "\n",
       "    .dataframe thead th {\n",
       "        text-align: right;\n",
       "    }\n",
       "</style>\n",
       "<table border=\"1\" class=\"dataframe\">\n",
       "  <thead>\n",
       "    <tr style=\"text-align: right;\">\n",
       "      <th></th>\n",
       "      <th>num_series</th>\n",
       "      <th>average_rating</th>\n",
       "    </tr>\n",
       "    <tr>\n",
       "      <th>title_series</th>\n",
       "      <th></th>\n",
       "      <th></th>\n",
       "    </tr>\n",
       "  </thead>\n",
       "  <tbody>\n",
       "    <tr>\n",
       "      <th>The Stormlight Archive</th>\n",
       "      <td>2</td>\n",
       "      <td>4.705</td>\n",
       "    </tr>\n",
       "    <tr>\n",
       "      <th>The Kingkiller Chronicle</th>\n",
       "      <td>2</td>\n",
       "      <td>4.560</td>\n",
       "    </tr>\n",
       "    <tr>\n",
       "      <th>The Fitz and The Fool</th>\n",
       "      <td>1</td>\n",
       "      <td>4.530</td>\n",
       "    </tr>\n",
       "    <tr>\n",
       "      <th>Mark of the Lion</th>\n",
       "      <td>3</td>\n",
       "      <td>4.530</td>\n",
       "    </tr>\n",
       "    <tr>\n",
       "      <th>Captive Prince</th>\n",
       "      <td>1</td>\n",
       "      <td>4.500</td>\n",
       "    </tr>\n",
       "    <tr>\n",
       "      <th>...</th>\n",
       "      <td>...</td>\n",
       "      <td>...</td>\n",
       "    </tr>\n",
       "    <tr>\n",
       "      <th>Andy Brazil</th>\n",
       "      <td>1</td>\n",
       "      <td>3.280</td>\n",
       "    </tr>\n",
       "    <tr>\n",
       "      <th>Ghostgirl</th>\n",
       "      <td>1</td>\n",
       "      <td>3.280</td>\n",
       "    </tr>\n",
       "    <tr>\n",
       "      <th>The Wideacre Trilogy</th>\n",
       "      <td>1</td>\n",
       "      <td>3.280</td>\n",
       "    </tr>\n",
       "    <tr>\n",
       "      <th>The Devil Wears Prada</th>\n",
       "      <td>2</td>\n",
       "      <td>3.270</td>\n",
       "    </tr>\n",
       "    <tr>\n",
       "      <th>Star Wars: Aftermath</th>\n",
       "      <td>1</td>\n",
       "      <td>3.150</td>\n",
       "    </tr>\n",
       "  </tbody>\n",
       "</table>\n",
       "<p>1349 rows × 2 columns</p>\n",
       "</div>"
      ],
      "text/plain": [
       "                          num_series  average_rating\n",
       "title_series                                        \n",
       "The Stormlight Archive             2           4.705\n",
       "The Kingkiller Chronicle           2           4.560\n",
       "The Fitz and The Fool              1           4.530\n",
       "Mark of the Lion                   3           4.530\n",
       "Captive Prince                     1           4.500\n",
       "...                              ...             ...\n",
       "Andy Brazil                        1           3.280\n",
       "Ghostgirl                          1           3.280\n",
       "The Wideacre Trilogy               1           3.280\n",
       "The Devil Wears Prada              2           3.270\n",
       "Star Wars: Aftermath               1           3.150\n",
       "\n",
       "[1349 rows x 2 columns]"
      ]
     },
     "execution_count": 82,
     "metadata": {},
     "output_type": "execute_result"
    }
   ],
   "source": [
    "final_book_series = pd.merge(left=no_of_books_series,right=avg_rating_of_series, on='title_series')\n",
    "final_book_series.sort_values('average_rating', ascending=False)"
   ]
  },
  {
   "cell_type": "markdown",
   "id": "24fbfaa3-00aa-4617-b8b7-f3e1bc4a304d",
   "metadata": {},
   "source": [
    "We can now create a linear regression plot between the num_series representing the number of books in a given series and the average_rating, meaning the rating of the series as a whole. "
   ]
  },
  {
   "cell_type": "code",
   "execution_count": 83,
   "id": "35b43d54-22ec-4bdd-8550-39b59e9a4c30",
   "metadata": {},
   "outputs": [
    {
     "data": {
      "image/png": "[encoded data removed]",
      "text/plain": [
       "<Figure size 360x360 with 1 Axes>"
      ]
     },
     "metadata": {},
     "output_type": "display_data"
    }
   ],
   "source": [
    "sns.lmplot(x='num_series', y='average_rating', data =final_book_series, x_jitter=.1, y_jitter=.1, line_kws={'color': 'black'})\n",
    "\n",
    "corr_coef_bk = final_book_series['num_series'].corr(final_book_series['average_rating'])\n",
    "\n",
    "plt.text(10, 3.4, 'r =' +str(corr_coef_bk))\n",
    "plt.title('Number of Books in a Given Series and Effect on Average Rating')\n",
    "plt.xlabel('number of books in series')\n",
    "plt.show()"
   ]
  },
  {
   "cell_type": "markdown",
   "id": "365789e1-e848-44aa-824a-feace02fe10e",
   "metadata": {},
   "source": [
    "Above we can see the effect the number of books in a given series has on the overall series rating, and it seems that series with a larger number of books do tend to have a slightly higher average rating. This suggests that as a book series goes on it continues to have high ratings among fans, which begs the question if this differs from the common adage with regards to film where it is commonly believed that the sequels never live up to the original. \n",
    "\n",
    "We can examine whether this belief with regards to films also applies to novels by plotting boxplots of books with no more than 3 volumes in their series to ascertain whether ratings increase or decrease upon publication of subsequent books. "
   ]
  },
  {
   "cell_type": "code",
   "execution_count": 103,
   "id": "2b7c7923-12fe-4ab0-9e46-a8bf5b151fbb",
   "metadata": {},
   "outputs": [
    {
     "data": {
      "image/png": "[encoded data removed]",
      "text/plain": [
       "<Figure size 432x288 with 1 Axes>"
      ]
     },
     "metadata": {},
     "output_type": "display_data"
    }
   ],
   "source": [
    "\n",
    "\n",
    "#Exclude 0 because of  0.5 comic-book/manga issues and prequel situations\n",
    "book_series_volume = book_series[(book_series.num_series.astype(int) <= 3) & (book_series.num_series.astype(int) != 0)]\n",
    "book_series_volume = book_series_volume[['title_series', 'num_series', 'average_rating']]\n",
    "sns.boxplot(x='num_series', y='average_rating', data=book_series_volume)\n",
    "plt.title('Ratings of Books with Less Than Three Published Works')\n",
    "plt.xlabel('Volume in Book Series')\n",
    "plt.show()"
   ]
  },
  {
   "cell_type": "markdown",
   "id": "40a2948a-4bbd-4119-92a8-1454dd53c78b",
   "metadata": {},
   "source": [
    "As seen in the figure above, the film adage about sequels being perceived worse than the original does not seem to hold true with regards to novels. In the series with no more than 3 novels it seems that each novel on average goes on to receive a slightly higher rating than the original.\n",
    "\n"
   ]
  },
  {
   "cell_type": "markdown",
   "id": "15a15c62-7ad0-475d-b67c-3e5e8fa6c365",
   "metadata": {},
   "source": [
    "# Significance Testing "
   ]
  },
  {
   "cell_type": "markdown",
   "id": "7c98decf-f2ad-4bd7-b1a6-a760a3e6be7a",
   "metadata": {},
   "source": [
    "Before performing any further analysis to determine whether there is a statistically significant difference in the mean average rating of books over a trilogy to test whether this old adage with regards to movies holds true to novels. We must first subset the data once again to this time only include books with three published books in a series so that we are only working with books that are part of a current trilogy. "
   ]
  },
  {
   "cell_type": "code",
   "execution_count": 97,
   "id": "e41169fe-52ff-47c8-a70c-d726769eafbc",
   "metadata": {},
   "outputs": [
    {
     "data": {
      "text/html": [
       "<div>\n",
       "<style scoped>\n",
       "    .dataframe tbody tr th:only-of-type {\n",
       "        vertical-align: middle;\n",
       "    }\n",
       "\n",
       "    .dataframe tbody tr th {\n",
       "        vertical-align: top;\n",
       "    }\n",
       "\n",
       "    .dataframe thead th {\n",
       "        text-align: right;\n",
       "    }\n",
       "</style>\n",
       "<table border=\"1\" class=\"dataframe\">\n",
       "  <thead>\n",
       "    <tr style=\"text-align: right;\">\n",
       "      <th></th>\n",
       "      <th>title_series</th>\n",
       "      <th>num_series</th>\n",
       "      <th>average_rating</th>\n",
       "      <th>series_count</th>\n",
       "    </tr>\n",
       "  </thead>\n",
       "  <tbody>\n",
       "    <tr>\n",
       "      <th>0</th>\n",
       "      <td>Robert Langdon</td>\n",
       "      <td>1</td>\n",
       "      <td>3.85</td>\n",
       "      <td>3</td>\n",
       "    </tr>\n",
       "    <tr>\n",
       "      <th>1</th>\n",
       "      <td>Robert Langdon</td>\n",
       "      <td>2</td>\n",
       "      <td>3.79</td>\n",
       "      <td>3</td>\n",
       "    </tr>\n",
       "    <tr>\n",
       "      <th>2</th>\n",
       "      <td>Robert Langdon</td>\n",
       "      <td>3</td>\n",
       "      <td>3.66</td>\n",
       "      <td>3</td>\n",
       "    </tr>\n",
       "    <tr>\n",
       "      <th>3</th>\n",
       "      <td>Millennium</td>\n",
       "      <td>1</td>\n",
       "      <td>4.11</td>\n",
       "      <td>3</td>\n",
       "    </tr>\n",
       "    <tr>\n",
       "      <th>4</th>\n",
       "      <td>Millennium</td>\n",
       "      <td>2</td>\n",
       "      <td>4.22</td>\n",
       "      <td>3</td>\n",
       "    </tr>\n",
       "    <tr>\n",
       "      <th>...</th>\n",
       "      <td>...</td>\n",
       "      <td>...</td>\n",
       "      <td>...</td>\n",
       "      <td>...</td>\n",
       "    </tr>\n",
       "    <tr>\n",
       "      <th>772</th>\n",
       "      <td>Imriel's Trilogy</td>\n",
       "      <td>2</td>\n",
       "      <td>4.24</td>\n",
       "      <td>3</td>\n",
       "    </tr>\n",
       "    <tr>\n",
       "      <th>773</th>\n",
       "      <td>Imriel's Trilogy</td>\n",
       "      <td>3</td>\n",
       "      <td>4.30</td>\n",
       "      <td>3</td>\n",
       "    </tr>\n",
       "    <tr>\n",
       "      <th>774</th>\n",
       "      <td>The Years of Lyndon Johnson</td>\n",
       "      <td>3</td>\n",
       "      <td>4.41</td>\n",
       "      <td>3</td>\n",
       "    </tr>\n",
       "    <tr>\n",
       "      <th>775</th>\n",
       "      <td>The Years of Lyndon Johnson</td>\n",
       "      <td>1</td>\n",
       "      <td>4.42</td>\n",
       "      <td>3</td>\n",
       "    </tr>\n",
       "    <tr>\n",
       "      <th>776</th>\n",
       "      <td>The Years of Lyndon Johnson</td>\n",
       "      <td>2</td>\n",
       "      <td>4.25</td>\n",
       "      <td>3</td>\n",
       "    </tr>\n",
       "  </tbody>\n",
       "</table>\n",
       "<p>777 rows × 4 columns</p>\n",
       "</div>"
      ],
      "text/plain": [
       "                    title_series num_series  average_rating  series_count\n",
       "0                 Robert Langdon          1            3.85             3\n",
       "1                 Robert Langdon          2            3.79             3\n",
       "2                 Robert Langdon          3            3.66             3\n",
       "3                     Millennium          1            4.11             3\n",
       "4                     Millennium          2            4.22             3\n",
       "..                           ...        ...             ...           ...\n",
       "772             Imriel's Trilogy          2            4.24             3\n",
       "773             Imriel's Trilogy          3            4.30             3\n",
       "774  The Years of Lyndon Johnson          3            4.41             3\n",
       "775  The Years of Lyndon Johnson          1            4.42             3\n",
       "776  The Years of Lyndon Johnson          2            4.25             3\n",
       "\n",
       "[777 rows x 4 columns]"
      ]
     },
     "execution_count": 97,
     "metadata": {},
     "output_type": "execute_result"
    }
   ],
   "source": [
    "trilogies = book_series_volume.groupby('title_series')['num_series'].count().to_frame('series_count').reset_index()\n",
    "trilogies = trilogies[trilogies.series_count == 3]\n",
    "\n",
    "trilogies_df = pd.merge(book_series_volume, trilogies, how='inner', on ='title_series') \n",
    "trilogies_df"
   ]
  },
  {
   "cell_type": "markdown",
   "id": "baac982a-39be-4f18-b400-7fdeb38b4c6f",
   "metadata": {},
   "source": [
    "## ANOVA "
   ]
  },
  {
   "cell_type": "markdown",
   "id": "34a912a3-c0e1-4577-bd60-f3378ef13cc2",
   "metadata": {},
   "source": [
    "ANOVA test can be used to compare the means of more than two groups whereas the t-test is used when comparing only two groups. \n",
    "\n",
    "Here we will be testing whether the mean average rating across volumes in a trilogy are equal or whether there is statistically significant difference in at least one of the volume's mean average ratings. \n",
    "\n",
    "$H_0: \\mu_{volume_1}=\\mu_{volume_2}=\\mu_{volume_3}$ \n",
    "\n",
    "$H_a: \\mu_1\\neq\\mu_2\\neq\\mu_3$"
   ]
  },
  {
   "cell_type": "code",
   "execution_count": 87,
   "id": "e2e18580-1d71-4b86-994a-14bf1615869a",
   "metadata": {},
   "outputs": [
    {
     "data": {
      "text/html": [
       "<div>\n",
       "<style scoped>\n",
       "    .dataframe tbody tr th:only-of-type {\n",
       "        vertical-align: middle;\n",
       "    }\n",
       "\n",
       "    .dataframe tbody tr th {\n",
       "        vertical-align: top;\n",
       "    }\n",
       "\n",
       "    .dataframe thead th {\n",
       "        text-align: right;\n",
       "    }\n",
       "</style>\n",
       "<table border=\"1\" class=\"dataframe\">\n",
       "  <thead>\n",
       "    <tr style=\"text-align: right;\">\n",
       "      <th></th>\n",
       "      <th>sum_sq</th>\n",
       "      <th>df</th>\n",
       "      <th>F</th>\n",
       "      <th>PR(&gt;F)</th>\n",
       "    </tr>\n",
       "  </thead>\n",
       "  <tbody>\n",
       "    <tr>\n",
       "      <th>C(num_series)</th>\n",
       "      <td>1.298170</td>\n",
       "      <td>2.0</td>\n",
       "      <td>15.243862</td>\n",
       "      <td>3.211705e-07</td>\n",
       "    </tr>\n",
       "    <tr>\n",
       "      <th>Residual</th>\n",
       "      <td>32.956997</td>\n",
       "      <td>774.0</td>\n",
       "      <td>NaN</td>\n",
       "      <td>NaN</td>\n",
       "    </tr>\n",
       "  </tbody>\n",
       "</table>\n",
       "</div>"
      ],
      "text/plain": [
       "                  sum_sq     df          F        PR(>F)\n",
       "C(num_series)   1.298170    2.0  15.243862  3.211705e-07\n",
       "Residual       32.956997  774.0        NaN           NaN"
      ]
     },
     "execution_count": 87,
     "metadata": {},
     "output_type": "execute_result"
    }
   ],
   "source": [
    "import scipy.stats as stats\n",
    "import statsmodels.api as sm\n",
    "from statsmodels.formula.api import ols\n",
    "\n",
    "#ANOVA analysis as glm where C denotes categorical data \n",
    "model = ols('average_rating ~ C(num_series)', data=trilogies_df).fit()\n",
    "\n",
    "#typ is w.r.t SS typ1==typ2\n",
    "anova_table = sm.stats.anova_lm(model, typ=2)\n",
    "anova_table"
   ]
  },
  {
   "cell_type": "markdown",
   "id": "918ba316-b7a2-4ffd-8c29-cab8eee6f121",
   "metadata": {},
   "source": [
    "From the One way ANOVA test above we can see that the p-value is less than 0.05 and therfore can reject the null hypothesis, that is we can reject the null hypothesis that there is no difference in the mean average rating for each volume in a trilogy. Provided the model assumptions below hold we can say that at least one of the mean average ratings for a volume in a series differs in a statistically significant way."
   ]
  },
  {
   "cell_type": "markdown",
   "id": "c8e69645-78ad-43bc-a65d-7b69d9ea2d18",
   "metadata": {},
   "source": [
    "### Test Model Assumptions"
   ]
  },
  {
   "cell_type": "markdown",
   "id": "e0e261a1-8427-44a5-9d0d-0e7f1d4bc8f6",
   "metadata": {},
   "source": [
    "ANOVA assumes that the residuals are approximately normally distributed(Shapiro Wilk Test or Histogram), Variances are equal between groups (Levene's or Bartlett's Test), observations are sampled independently (each subject has only one response), and the dependent variable must be continuous. "
   ]
  },
  {
   "cell_type": "code",
   "execution_count": 95,
   "id": "90da9f56-ba58-41b2-82d0-87882672b49d",
   "metadata": {},
   "outputs": [
    {
     "data": {
      "text/plain": [
       "<seaborn.axisgrid.FacetGrid at 0x7f00e537af10>"
      ]
     },
     "execution_count": 95,
     "metadata": {},
     "output_type": "execute_result"
    },
    {
     "data": {
      "image/png": "[encoded data removed]",
      "text/plain": [
       "<Figure size 648x216 with 3 Axes>"
      ]
     },
     "metadata": {},
     "output_type": "display_data"
    }
   ],
   "source": [
    "g = sns.FacetGrid(trilogies_df, col='num_series', col_wrap = 3) \n",
    "g.map(sns.kdeplot, 'average_rating')"
   ]
  },
  {
   "cell_type": "markdown",
   "id": "db0309a2-bc26-43f8-a3a5-4af17ce17a42",
   "metadata": {},
   "source": [
    "### Q-Q Plot"
   ]
  },
  {
   "cell_type": "code",
   "execution_count": 101,
   "id": "6c3094f7-87e7-4e34-9a03-05e850e0aae8",
   "metadata": {},
   "outputs": [
    {
     "data": {
      "image/png": "[encoded data removed]",
      "text/plain": [
       "<Figure size 432x288 with 1 Axes>"
      ]
     },
     "metadata": {},
     "output_type": "display_data"
    }
   ],
   "source": [
    "res = model.resid\n",
    "fig = sm.qqplot(res, line ='s') \n",
    "plt.show()"
   ]
  },
  {
   "cell_type": "markdown",
   "id": "aacac86b-1e72-480d-b9db-069397f11761",
   "metadata": {},
   "source": [
    "###  Histogram of Residuals"
   ]
  },
  {
   "cell_type": "code",
   "execution_count": 93,
   "id": "73aef31e-72e6-459e-a0c6-76e531a04fad",
   "metadata": {},
   "outputs": [
    {
     "data": {
      "image/png": "[encoded data removed]",
      "text/plain": [
       "<Figure size 432x288 with 1 Axes>"
      ]
     },
     "metadata": {},
     "output_type": "display_data"
    }
   ],
   "source": [
    "plt.hist(model.resid, bins='auto', histtype = 'bar' , ec = 'k') \n",
    "plt.show()"
   ]
  },
  {
   "cell_type": "markdown",
   "id": "e0fd4ad7-5a14-4483-9b76-34d3f16e3376",
   "metadata": {},
   "source": [
    "### Shapiro Wilk "
   ]
  },
  {
   "cell_type": "markdown",
   "id": "89825d4d-c2ea-4b51-a8aa-62560250036c",
   "metadata": {},
   "source": [
    "The Shapiro Wilk test can be used to ascertain whether a given sample is normally distributed.\n",
    "\n",
    "$H_0:$ The sample is normally distributed\n",
    "\n",
    "$H_a:$ The sample is not normally distributed"
   ]
  },
  {
   "cell_type": "code",
   "execution_count": 90,
   "id": "c1bcb171-aef3-4077-8531-6977fb7b36ef",
   "metadata": {},
   "outputs": [
    {
     "name": "stdout",
     "output_type": "stream",
     "text": [
      "0.9827991127967834 6.470307312156365e-08\n"
     ]
    }
   ],
   "source": [
    "w, pvalue = stats.shapiro(model.resid)\n",
    "print(w,pvalue) "
   ]
  },
  {
   "cell_type": "markdown",
   "id": "40a891d7-5112-46b1-bece-924feaeb035d",
   "metadata": {},
   "source": [
    "The Shapiro Wilk test suggests the data is not normally distributed because the p-value is less than 0.05. The Shapiro-Wilk teset can reject normality when a large sample size has been drawn from a largely normal sample; with a large enough sample size even slight deviations from the normal distribution can be picked up and thus be determined to be non-parametric when drawn from a largely normal sample. \n",
    "\n",
    "ANOVA is fairly robust against violations of the normality assumption when the sample sizes are large enough, in this case we can disregard the Shapiro Wilk Test and rely on the histogram of the residuals and Q-Q plot to determine normality of the data or proceed to use a Non-parametric test on the data. \n",
    "\n"
   ]
  },
  {
   "cell_type": "markdown",
   "id": "f5a894a1-7a4a-49a1-9930-9f033df6ccae",
   "metadata": {},
   "source": [
    "## Kruskal-Wallis Non-Parametric Test "
   ]
  },
  {
   "cell_type": "markdown",
   "id": "64a4c09c-4d2f-47a7-91db-e64c9c915263",
   "metadata": {},
   "source": [
    "To be certain that there is a difference between the three groups seen in the ANOVA analysis above we can conduct a Kruskal Wallis Test which does not rely on assuming the data has been sampled from a normal distribution.\n",
    "\n",
    "Kruskal-Wallis test is the non-parametric equivalent of a one way ANOVA test and is used to see if there is a statistically significant difference between the medians of the three or more groups. \n",
    "\n",
    "Kruskal-Wallis test assumes that the response variable is continuous or ordinal, observations are independent of each other, and that distributions have similar shape. In this case all of these assumptions are met for the purposes of our analyses. "
   ]
  },
  {
   "cell_type": "markdown",
   "id": "e422a354-94c7-4415-8eed-2e190e9d2ba5",
   "metadata": {},
   "source": [
    "$H_0$: The median average rating across volumes in a series are equal\n",
    "\n",
    "$H_a$: At least one of the median average ratings across volumes in a series differs "
   ]
  },
  {
   "cell_type": "code",
   "execution_count": 92,
   "id": "4ce180cd-706a-4229-819d-6f193afb6dcd",
   "metadata": {},
   "outputs": [
    {
     "data": {
      "text/plain": [
       "KruskalResult(statistic=36.65621244886282, pvalue=1.0969948860478856e-08)"
      ]
     },
     "execution_count": 92,
     "metadata": {},
     "output_type": "execute_result"
    }
   ],
   "source": [
    "a = trilogies_df[trilogies_df.num_series.astype(int) == 1]\n",
    "b = trilogies_df[trilogies_df.num_series.astype(int) == 2]\n",
    "c = trilogies_df[trilogies_df.num_series.astype(int) == 3]\n",
    "\n",
    "x = a.average_rating\n",
    "y = b.average_rating\n",
    "z = c.average_rating\n",
    "stats.kruskal(x,y,z)\n",
    "\n"
   ]
  },
  {
   "cell_type": "markdown",
   "id": "8d009a57-ea20-4ba8-93b2-26c7a3b16af9",
   "metadata": {},
   "source": [
    "As the p-value is less than our specified $\\alpha=0.05$ we can therefore reject the null hypothesis and conclude that there is enough evidence to conclude there is a statistically significant difference between the median average ratings of volumes across trilogies.\n",
    "\n",
    "If we want to determine further in group comparisons we could continue with further post-hoc testing to determine exactly which groups differ from each other. "
   ]
  },
  {
   "cell_type": "code",
   "execution_count": 98,
   "id": "671e7908-e489-4993-a701-5f5531cfc63d",
   "metadata": {},
   "outputs": [
    {
     "data": {
      "image/png": "[encoded data removed]",
      "text/plain": [
       "<Figure size 432x288 with 1 Axes>"
      ]
     },
     "metadata": {},
     "output_type": "display_data"
    }
   ],
   "source": [
    "sns.boxplot(x='num_series', y='average_rating', data=trilogies_df)\n",
    "plt.title('Ratings Over Book Trilogies')\n",
    "plt.xlabel('Volume in Book Series')\n",
    "plt.show()"
   ]
  },
  {
   "cell_type": "markdown",
   "id": "6f58a101-70b1-45e8-bdb7-42ef82750892",
   "metadata": {},
   "source": [
    "# Conclusion"
   ]
  },
  {
   "cell_type": "markdown",
   "id": "668a5984-436c-4e1f-b61a-820baa0011d9",
   "metadata": {},
   "source": [
    "After performing a Kruskal-Wallis test we can say that there is a statistically significant difference in the median average rating between volumes in book trilogies.  As seen in the figure above, the film adage about sequels being perceived worse than the original does not seem to hold true with regards to novels. \n",
    "\n",
    "There could be any number of reasons for this result, but it does not necessarily mean the sequels are indeed better than the original. One possible counterpoint to this narrative would be that as a series goes on it's fanbase shrinks leaving only the most devout fans left to rate the later books in a series which in turn leads to a selection bias and thus the average rating could be skewed towards being higher than the original novel. \n",
    "\n",
    "Authors can use this insight when deciding what types of books to write, it seems that choosing to develop an overarching series with multiple books aids in producing higher rated novels. This seems like it is also partly dependent on developing a devout fan base that is willing continue on with a series which may skew ratings and help raise the author's later works in the series public perception. "
   ]
  }
 ],
 "metadata": {
  "kernelspec": {
   "display_name": "Python 3 (ipykernel)",
   "language": "python",
   "name": "python3"
  },
  "language_info": {
   "codemirror_mode": {
    "name": "ipython",
    "version": 3
   },
   "file_extension": ".py",
   "mimetype": "text/x-python",
   "name": "python",
   "nbconvert_exporter": "python",
   "pygments_lexer": "ipython3",
   "version": "3.8.12"
  },
  "toc-autonumbering": true,
  "toc-showcode": false,
  "toc-showmarkdowntxt": false,
  "toc-showtags": false
 },
 "nbformat": 4,
 "nbformat_minor": 5
}
